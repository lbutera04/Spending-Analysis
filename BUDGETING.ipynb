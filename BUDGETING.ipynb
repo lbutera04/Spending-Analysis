{
 "cells": [
  {
   "cell_type": "code",
   "execution_count": 1,
   "metadata": {},
   "outputs": [],
   "source": [
    "import pandas as pd\n",
    "import numpy as np\n",
    "import seaborn as sns\n",
    "import re\n",
    "import matplotlib.pyplot as plt\n",
    "import plotly.express as px\n",
    "from datetime import datetime\n",
    "import warnings\n",
    "warnings.filterwarnings(\"ignore\")\n",
    "\n",
    "## if you don't know how to install any of these, usually pip install (name of library) will work. If not, google solutions. All libraries are less than ~25MB.\n",
    "\n"
   ]
  },
  {
   "cell_type": "markdown",
   "metadata": {},
   "source": [
    "# Spending Analysis Report\n",
    "\n",
    "This script is designed to provide a comprehensive overview of annual spending. In place of `bk_download.csv` put the path to a csv export file from your bank account. Columns should be named `Date`, `Description`, `Original Description`(optional), `Category`(optional), `Amount`, and `Status`. If needed reassign your csv column names to match these in the empty cell below:"
   ]
  },
  {
   "cell_type": "code",
   "execution_count": 2,
   "metadata": {},
   "outputs": [],
   "source": [
    "Budgeting_df = pd.read_csv('bk_download.csv')\n",
    "#Reassign Column names here by uncommenting.\n",
    "# Budgeting_df['Date'] = Budgeting_df['']                       ## Date of transaction, stylized (as a string) as YYYY-MM-DD\n",
    "# Budgeting_df['Description'] = Budgeting_df['']                ## General description (might be stylized as 'Transfer to Venmo' or 'McDonalds')\n",
    "# Budgeting_df['Original Description'] = Budgeting_df['']       ## More specific description. Might be stylized closer to to 'CHIPOTLE ONLINE 949-524-4000 CA' or just generally more specific\n",
    "# Budgeting_df['Category'] = Budgeting_df['']                   ## Category of Spending (i.e. Entertainment, Restaurants, etc.)\n",
    "# Budgeting_df['Amount'] = Budgeting_df['']                     ## Amount of each transaction; negative or positive float value\n",
    "# Budgeting_df['Status'] = Budgeting_df['']                     ## Status of transaction. This column is OPTIONAL.\n"
   ]
  },
  {
   "cell_type": "code",
   "execution_count": 3,
   "metadata": {},
   "outputs": [
    {
     "data": {
      "text/html": [
       "<div>\n",
       "<style scoped>\n",
       "    .dataframe tbody tr th:only-of-type {\n",
       "        vertical-align: middle;\n",
       "    }\n",
       "\n",
       "    .dataframe tbody tr th {\n",
       "        vertical-align: top;\n",
       "    }\n",
       "\n",
       "    .dataframe thead th {\n",
       "        text-align: right;\n",
       "    }\n",
       "</style>\n",
       "<table border=\"1\" class=\"dataframe\">\n",
       "  <thead>\n",
       "    <tr style=\"text-align: right;\">\n",
       "      <th></th>\n",
       "      <th>Date</th>\n",
       "      <th>Description</th>\n",
       "      <th>Original Description</th>\n",
       "      <th>Category</th>\n",
       "      <th>Amount</th>\n",
       "      <th>Status</th>\n",
       "    </tr>\n",
       "  </thead>\n",
       "  <tbody>\n",
       "    <tr>\n",
       "      <th>0</th>\n",
       "      <td>2024-01-02</td>\n",
       "      <td>VENMO            PAYMENT    ***********5347</td>\n",
       "      <td>VENMO            PAYMENT    ***********5347</td>\n",
       "      <td>Category Pending</td>\n",
       "      <td>-269.39</td>\n",
       "      <td>Pending</td>\n",
       "    </tr>\n",
       "    <tr>\n",
       "      <th>1</th>\n",
       "      <td>2024-01-02</td>\n",
       "      <td>VENMO            CASHOUT    ***********2672</td>\n",
       "      <td>VENMO            CASHOUT    ***********2672</td>\n",
       "      <td>Category Pending</td>\n",
       "      <td>41.00</td>\n",
       "      <td>Pending</td>\n",
       "    </tr>\n",
       "    <tr>\n",
       "      <th>2</th>\n",
       "      <td>2024-01-02</td>\n",
       "      <td>VENMO            CASHOUT    ***********1522</td>\n",
       "      <td>VENMO            CASHOUT    ***********1522</td>\n",
       "      <td>Category Pending</td>\n",
       "      <td>435.00</td>\n",
       "      <td>Pending</td>\n",
       "    </tr>\n",
       "    <tr>\n",
       "      <th>3</th>\n",
       "      <td>2023-12-29</td>\n",
       "      <td>El Limon</td>\n",
       "      <td>EL LIMON - NORRISTOWN    NORRISTOWN   PA</td>\n",
       "      <td>Restaurants</td>\n",
       "      <td>-13.78</td>\n",
       "      <td>Posted</td>\n",
       "    </tr>\n",
       "    <tr>\n",
       "      <th>4</th>\n",
       "      <td>2023-12-28</td>\n",
       "      <td>Benchmark Climbing</td>\n",
       "      <td>FSP*BENCHMARK CLIMBING   510-973-0335 CA</td>\n",
       "      <td>Entertainment</td>\n",
       "      <td>-85.00</td>\n",
       "      <td>Posted</td>\n",
       "    </tr>\n",
       "    <tr>\n",
       "      <th>...</th>\n",
       "      <td>...</td>\n",
       "      <td>...</td>\n",
       "      <td>...</td>\n",
       "      <td>...</td>\n",
       "      <td>...</td>\n",
       "      <td>...</td>\n",
       "    </tr>\n",
       "    <tr>\n",
       "      <th>338</th>\n",
       "      <td>2023-01-10</td>\n",
       "      <td>Chipotle</td>\n",
       "      <td>CHIPOTLE ONLINE          949-524-4000 CA</td>\n",
       "      <td>Fast Food</td>\n",
       "      <td>-31.54</td>\n",
       "      <td>Posted</td>\n",
       "    </tr>\n",
       "    <tr>\n",
       "      <th>339</th>\n",
       "      <td>2023-01-09</td>\n",
       "      <td>Starbucks</td>\n",
       "      <td>STARBUCKS 71218 3400708  CRANBURY     NJ</td>\n",
       "      <td>Coffee Shops</td>\n",
       "      <td>-10.02</td>\n",
       "      <td>Posted</td>\n",
       "    </tr>\n",
       "    <tr>\n",
       "      <th>340</th>\n",
       "      <td>2023-01-06</td>\n",
       "      <td>Transfer from Venmo</td>\n",
       "      <td>VENMO            CASHOUT    ***********3413</td>\n",
       "      <td>Transfer</td>\n",
       "      <td>380.00</td>\n",
       "      <td>Posted</td>\n",
       "    </tr>\n",
       "    <tr>\n",
       "      <th>341</th>\n",
       "      <td>2023-01-03</td>\n",
       "      <td>Berkeley Ironworks Touchstonca</td>\n",
       "      <td>BERKELEY IRONWORKS       WWW.TOUCHSTONCA</td>\n",
       "      <td>Entertainment</td>\n",
       "      <td>-85.00</td>\n",
       "      <td>Posted</td>\n",
       "    </tr>\n",
       "    <tr>\n",
       "      <th>342</th>\n",
       "      <td>2023-01-03</td>\n",
       "      <td>Tea Do N 10th</td>\n",
       "      <td>TEA DO132 N 10TH ST      PHILADELPHIA PA</td>\n",
       "      <td>Fast Food</td>\n",
       "      <td>-5.12</td>\n",
       "      <td>Posted</td>\n",
       "    </tr>\n",
       "  </tbody>\n",
       "</table>\n",
       "<p>343 rows × 6 columns</p>\n",
       "</div>"
      ],
      "text/plain": [
       "           Date                                  Description  \\\n",
       "0    2024-01-02  VENMO            PAYMENT    ***********5347   \n",
       "1    2024-01-02  VENMO            CASHOUT    ***********2672   \n",
       "2    2024-01-02  VENMO            CASHOUT    ***********1522   \n",
       "3    2023-12-29                                     El Limon   \n",
       "4    2023-12-28                           Benchmark Climbing   \n",
       "..          ...                                          ...   \n",
       "338  2023-01-10                                     Chipotle   \n",
       "339  2023-01-09                                    Starbucks   \n",
       "340  2023-01-06                          Transfer from Venmo   \n",
       "341  2023-01-03               Berkeley Ironworks Touchstonca   \n",
       "342  2023-01-03                                Tea Do N 10th   \n",
       "\n",
       "                            Original Description          Category  Amount  \\\n",
       "0    VENMO            PAYMENT    ***********5347  Category Pending -269.39   \n",
       "1    VENMO            CASHOUT    ***********2672  Category Pending   41.00   \n",
       "2    VENMO            CASHOUT    ***********1522  Category Pending  435.00   \n",
       "3       EL LIMON - NORRISTOWN    NORRISTOWN   PA       Restaurants  -13.78   \n",
       "4       FSP*BENCHMARK CLIMBING   510-973-0335 CA     Entertainment  -85.00   \n",
       "..                                           ...               ...     ...   \n",
       "338     CHIPOTLE ONLINE          949-524-4000 CA         Fast Food  -31.54   \n",
       "339     STARBUCKS 71218 3400708  CRANBURY     NJ      Coffee Shops  -10.02   \n",
       "340  VENMO            CASHOUT    ***********3413          Transfer  380.00   \n",
       "341     BERKELEY IRONWORKS       WWW.TOUCHSTONCA     Entertainment  -85.00   \n",
       "342     TEA DO132 N 10TH ST      PHILADELPHIA PA         Fast Food   -5.12   \n",
       "\n",
       "      Status  \n",
       "0    Pending  \n",
       "1    Pending  \n",
       "2    Pending  \n",
       "3     Posted  \n",
       "4     Posted  \n",
       "..       ...  \n",
       "338   Posted  \n",
       "339   Posted  \n",
       "340   Posted  \n",
       "341   Posted  \n",
       "342   Posted  \n",
       "\n",
       "[343 rows x 6 columns]"
      ]
     },
     "metadata": {},
     "output_type": "display_data"
    },
    {
     "data": {
      "text/plain": [
       "Date                     object\n",
       "Description              object\n",
       "Original Description     object\n",
       "Category                 object\n",
       "Amount                  float64\n",
       "Status                   object\n",
       "dtype: object"
      ]
     },
     "metadata": {},
     "output_type": "display_data"
    }
   ],
   "source": [
    "display(Budgeting_df)\n",
    "display(Budgeting_df.dtypes)"
   ]
  },
  {
   "cell_type": "markdown",
   "metadata": {},
   "source": [
    "The below cell will find all values from the chosen year. Adjust the `2023` parameter in the first line to be the year of choice."
   ]
  },
  {
   "cell_type": "code",
   "execution_count": 4,
   "metadata": {},
   "outputs": [
    {
     "data": {
      "text/html": [
       "<div>\n",
       "<style scoped>\n",
       "    .dataframe tbody tr th:only-of-type {\n",
       "        vertical-align: middle;\n",
       "    }\n",
       "\n",
       "    .dataframe tbody tr th {\n",
       "        vertical-align: top;\n",
       "    }\n",
       "\n",
       "    .dataframe thead th {\n",
       "        text-align: right;\n",
       "    }\n",
       "</style>\n",
       "<table border=\"1\" class=\"dataframe\">\n",
       "  <thead>\n",
       "    <tr style=\"text-align: right;\">\n",
       "      <th></th>\n",
       "      <th>Date</th>\n",
       "      <th>Description</th>\n",
       "      <th>Original Description</th>\n",
       "      <th>Category</th>\n",
       "      <th>Amount</th>\n",
       "      <th>Status</th>\n",
       "      <th>Month</th>\n",
       "      <th>Expenditure</th>\n",
       "    </tr>\n",
       "  </thead>\n",
       "  <tbody>\n",
       "    <tr>\n",
       "      <th>3</th>\n",
       "      <td>2023-12-29</td>\n",
       "      <td>El Limon</td>\n",
       "      <td>EL LIMON - NORRISTOWN    NORRISTOWN   PA</td>\n",
       "      <td>Restaurants</td>\n",
       "      <td>-13.78</td>\n",
       "      <td>Posted</td>\n",
       "      <td>12</td>\n",
       "      <td>True</td>\n",
       "    </tr>\n",
       "    <tr>\n",
       "      <th>4</th>\n",
       "      <td>2023-12-28</td>\n",
       "      <td>Benchmark Climbing</td>\n",
       "      <td>FSP*BENCHMARK CLIMBING   510-973-0335 CA</td>\n",
       "      <td>Entertainment</td>\n",
       "      <td>-85.00</td>\n",
       "      <td>Posted</td>\n",
       "      <td>12</td>\n",
       "      <td>True</td>\n",
       "    </tr>\n",
       "    <tr>\n",
       "      <th>5</th>\n",
       "      <td>2023-12-28</td>\n",
       "      <td>Reach Climbing</td>\n",
       "      <td>REACH CLIMBING           154-13165747 PA</td>\n",
       "      <td>Entertainment</td>\n",
       "      <td>-20.00</td>\n",
       "      <td>Posted</td>\n",
       "      <td>12</td>\n",
       "      <td>True</td>\n",
       "    </tr>\n",
       "    <tr>\n",
       "      <th>6</th>\n",
       "      <td>2023-12-26</td>\n",
       "      <td>Transfer to Venmo</td>\n",
       "      <td>VENMO            PAYMENT    ***********0502</td>\n",
       "      <td>Transfer</td>\n",
       "      <td>-32.97</td>\n",
       "      <td>Posted</td>\n",
       "      <td>12</td>\n",
       "      <td>True</td>\n",
       "    </tr>\n",
       "    <tr>\n",
       "      <th>7</th>\n",
       "      <td>2023-12-26</td>\n",
       "      <td>Crate &amp; Barrel</td>\n",
       "      <td>CRATE &amp; BARREL #631 20   KING OF PRUSSPA</td>\n",
       "      <td>Furnishings</td>\n",
       "      <td>-51.67</td>\n",
       "      <td>Posted</td>\n",
       "      <td>12</td>\n",
       "      <td>True</td>\n",
       "    </tr>\n",
       "    <tr>\n",
       "      <th>...</th>\n",
       "      <td>...</td>\n",
       "      <td>...</td>\n",
       "      <td>...</td>\n",
       "      <td>...</td>\n",
       "      <td>...</td>\n",
       "      <td>...</td>\n",
       "      <td>...</td>\n",
       "      <td>...</td>\n",
       "    </tr>\n",
       "    <tr>\n",
       "      <th>338</th>\n",
       "      <td>2023-01-10</td>\n",
       "      <td>Chipotle</td>\n",
       "      <td>CHIPOTLE ONLINE          949-524-4000 CA</td>\n",
       "      <td>Fast Food</td>\n",
       "      <td>-31.54</td>\n",
       "      <td>Posted</td>\n",
       "      <td>1</td>\n",
       "      <td>True</td>\n",
       "    </tr>\n",
       "    <tr>\n",
       "      <th>339</th>\n",
       "      <td>2023-01-09</td>\n",
       "      <td>Starbucks</td>\n",
       "      <td>STARBUCKS 71218 3400708  CRANBURY     NJ</td>\n",
       "      <td>Coffee Shops</td>\n",
       "      <td>-10.02</td>\n",
       "      <td>Posted</td>\n",
       "      <td>1</td>\n",
       "      <td>True</td>\n",
       "    </tr>\n",
       "    <tr>\n",
       "      <th>340</th>\n",
       "      <td>2023-01-06</td>\n",
       "      <td>Transfer from Venmo</td>\n",
       "      <td>VENMO            CASHOUT    ***********3413</td>\n",
       "      <td>Transfer</td>\n",
       "      <td>380.00</td>\n",
       "      <td>Posted</td>\n",
       "      <td>1</td>\n",
       "      <td>False</td>\n",
       "    </tr>\n",
       "    <tr>\n",
       "      <th>341</th>\n",
       "      <td>2023-01-03</td>\n",
       "      <td>Berkeley Ironworks Touchstonca</td>\n",
       "      <td>BERKELEY IRONWORKS       WWW.TOUCHSTONCA</td>\n",
       "      <td>Entertainment</td>\n",
       "      <td>-85.00</td>\n",
       "      <td>Posted</td>\n",
       "      <td>1</td>\n",
       "      <td>True</td>\n",
       "    </tr>\n",
       "    <tr>\n",
       "      <th>342</th>\n",
       "      <td>2023-01-03</td>\n",
       "      <td>Tea Do N 10th</td>\n",
       "      <td>TEA DO132 N 10TH ST      PHILADELPHIA PA</td>\n",
       "      <td>Fast Food</td>\n",
       "      <td>-5.12</td>\n",
       "      <td>Posted</td>\n",
       "      <td>1</td>\n",
       "      <td>True</td>\n",
       "    </tr>\n",
       "  </tbody>\n",
       "</table>\n",
       "<p>340 rows × 8 columns</p>\n",
       "</div>"
      ],
      "text/plain": [
       "           Date                     Description  \\\n",
       "3    2023-12-29                        El Limon   \n",
       "4    2023-12-28              Benchmark Climbing   \n",
       "5    2023-12-28                  Reach Climbing   \n",
       "6    2023-12-26               Transfer to Venmo   \n",
       "7    2023-12-26                  Crate & Barrel   \n",
       "..          ...                             ...   \n",
       "338  2023-01-10                        Chipotle   \n",
       "339  2023-01-09                       Starbucks   \n",
       "340  2023-01-06             Transfer from Venmo   \n",
       "341  2023-01-03  Berkeley Ironworks Touchstonca   \n",
       "342  2023-01-03                   Tea Do N 10th   \n",
       "\n",
       "                            Original Description       Category  Amount  \\\n",
       "3       EL LIMON - NORRISTOWN    NORRISTOWN   PA    Restaurants  -13.78   \n",
       "4       FSP*BENCHMARK CLIMBING   510-973-0335 CA  Entertainment  -85.00   \n",
       "5       REACH CLIMBING           154-13165747 PA  Entertainment  -20.00   \n",
       "6    VENMO            PAYMENT    ***********0502       Transfer  -32.97   \n",
       "7       CRATE & BARREL #631 20   KING OF PRUSSPA    Furnishings  -51.67   \n",
       "..                                           ...            ...     ...   \n",
       "338     CHIPOTLE ONLINE          949-524-4000 CA      Fast Food  -31.54   \n",
       "339     STARBUCKS 71218 3400708  CRANBURY     NJ   Coffee Shops  -10.02   \n",
       "340  VENMO            CASHOUT    ***********3413       Transfer  380.00   \n",
       "341     BERKELEY IRONWORKS       WWW.TOUCHSTONCA  Entertainment  -85.00   \n",
       "342     TEA DO132 N 10TH ST      PHILADELPHIA PA      Fast Food   -5.12   \n",
       "\n",
       "     Status  Month  Expenditure  \n",
       "3    Posted     12         True  \n",
       "4    Posted     12         True  \n",
       "5    Posted     12         True  \n",
       "6    Posted     12         True  \n",
       "7    Posted     12         True  \n",
       "..      ...    ...          ...  \n",
       "338  Posted      1         True  \n",
       "339  Posted      1         True  \n",
       "340  Posted      1        False  \n",
       "341  Posted      1         True  \n",
       "342  Posted      1         True  \n",
       "\n",
       "[340 rows x 8 columns]"
      ]
     },
     "execution_count": 4,
     "metadata": {},
     "output_type": "execute_result"
    }
   ],
   "source": [
    "Budgeting_df_annual = Budgeting_df[Budgeting_df['Date'].str.contains('2023')]\n",
    "Budgeting_df_annual['Month'] = Budgeting_df_annual['Date'].str.extract(r'-(\\d{2})-').astype(int)\n",
    "Budgeting_df_annual['Expenditure'] = Budgeting_df_annual['Amount'] < 0\n",
    "Budgeting_df_annual"
   ]
  },
  {
   "cell_type": "markdown",
   "metadata": {},
   "source": [
    "## Annual Monthly Net Losses and Gains "
   ]
  },
  {
   "cell_type": "code",
   "execution_count": 5,
   "metadata": {},
   "outputs": [
    {
     "data": {
      "text/html": [
       "<div>\n",
       "<style scoped>\n",
       "    .dataframe tbody tr th:only-of-type {\n",
       "        vertical-align: middle;\n",
       "    }\n",
       "\n",
       "    .dataframe tbody tr th {\n",
       "        vertical-align: top;\n",
       "    }\n",
       "\n",
       "    .dataframe thead th {\n",
       "        text-align: right;\n",
       "    }\n",
       "</style>\n",
       "<table border=\"1\" class=\"dataframe\">\n",
       "  <thead>\n",
       "    <tr style=\"text-align: right;\">\n",
       "      <th></th>\n",
       "      <th></th>\n",
       "      <th>Amount</th>\n",
       "    </tr>\n",
       "    <tr>\n",
       "      <th>Month</th>\n",
       "      <th>Expenditure</th>\n",
       "      <th></th>\n",
       "    </tr>\n",
       "  </thead>\n",
       "  <tbody>\n",
       "    <tr>\n",
       "      <th rowspan=\"2\" valign=\"top\">1</th>\n",
       "      <th>False</th>\n",
       "      <td>1645.05</td>\n",
       "    </tr>\n",
       "    <tr>\n",
       "      <th>True</th>\n",
       "      <td>-528.46</td>\n",
       "    </tr>\n",
       "    <tr>\n",
       "      <th rowspan=\"2\" valign=\"top\">2</th>\n",
       "      <th>False</th>\n",
       "      <td>100.01</td>\n",
       "    </tr>\n",
       "    <tr>\n",
       "      <th>True</th>\n",
       "      <td>-588.07</td>\n",
       "    </tr>\n",
       "    <tr>\n",
       "      <th rowspan=\"2\" valign=\"top\">3</th>\n",
       "      <th>False</th>\n",
       "      <td>283.78</td>\n",
       "    </tr>\n",
       "    <tr>\n",
       "      <th>True</th>\n",
       "      <td>-750.52</td>\n",
       "    </tr>\n",
       "    <tr>\n",
       "      <th rowspan=\"2\" valign=\"top\">4</th>\n",
       "      <th>False</th>\n",
       "      <td>332.85</td>\n",
       "    </tr>\n",
       "    <tr>\n",
       "      <th>True</th>\n",
       "      <td>-337.11</td>\n",
       "    </tr>\n",
       "    <tr>\n",
       "      <th rowspan=\"2\" valign=\"top\">5</th>\n",
       "      <th>False</th>\n",
       "      <td>278.10</td>\n",
       "    </tr>\n",
       "    <tr>\n",
       "      <th>True</th>\n",
       "      <td>-458.77</td>\n",
       "    </tr>\n",
       "    <tr>\n",
       "      <th rowspan=\"2\" valign=\"top\">6</th>\n",
       "      <th>False</th>\n",
       "      <td>2840.99</td>\n",
       "    </tr>\n",
       "    <tr>\n",
       "      <th>True</th>\n",
       "      <td>-123.49</td>\n",
       "    </tr>\n",
       "    <tr>\n",
       "      <th rowspan=\"2\" valign=\"top\">7</th>\n",
       "      <th>False</th>\n",
       "      <td>3966.09</td>\n",
       "    </tr>\n",
       "    <tr>\n",
       "      <th>True</th>\n",
       "      <td>-1858.48</td>\n",
       "    </tr>\n",
       "    <tr>\n",
       "      <th rowspan=\"2\" valign=\"top\">8</th>\n",
       "      <th>False</th>\n",
       "      <td>2364.24</td>\n",
       "    </tr>\n",
       "    <tr>\n",
       "      <th>True</th>\n",
       "      <td>-556.47</td>\n",
       "    </tr>\n",
       "    <tr>\n",
       "      <th rowspan=\"2\" valign=\"top\">9</th>\n",
       "      <th>False</th>\n",
       "      <td>668.40</td>\n",
       "    </tr>\n",
       "    <tr>\n",
       "      <th>True</th>\n",
       "      <td>-1904.47</td>\n",
       "    </tr>\n",
       "    <tr>\n",
       "      <th rowspan=\"2\" valign=\"top\">10</th>\n",
       "      <th>False</th>\n",
       "      <td>238.30</td>\n",
       "    </tr>\n",
       "    <tr>\n",
       "      <th>True</th>\n",
       "      <td>-719.27</td>\n",
       "    </tr>\n",
       "    <tr>\n",
       "      <th rowspan=\"2\" valign=\"top\">11</th>\n",
       "      <th>False</th>\n",
       "      <td>86.45</td>\n",
       "    </tr>\n",
       "    <tr>\n",
       "      <th>True</th>\n",
       "      <td>-637.63</td>\n",
       "    </tr>\n",
       "    <tr>\n",
       "      <th rowspan=\"2\" valign=\"top\">12</th>\n",
       "      <th>False</th>\n",
       "      <td>0.04</td>\n",
       "    </tr>\n",
       "    <tr>\n",
       "      <th>True</th>\n",
       "      <td>-634.14</td>\n",
       "    </tr>\n",
       "  </tbody>\n",
       "</table>\n",
       "</div>"
      ],
      "text/plain": [
       "                    Amount\n",
       "Month Expenditure         \n",
       "1     False        1645.05\n",
       "      True         -528.46\n",
       "2     False         100.01\n",
       "      True         -588.07\n",
       "3     False         283.78\n",
       "      True         -750.52\n",
       "4     False         332.85\n",
       "      True         -337.11\n",
       "5     False         278.10\n",
       "      True         -458.77\n",
       "6     False        2840.99\n",
       "      True         -123.49\n",
       "7     False        3966.09\n",
       "      True        -1858.48\n",
       "8     False        2364.24\n",
       "      True         -556.47\n",
       "9     False         668.40\n",
       "      True        -1904.47\n",
       "10    False         238.30\n",
       "      True         -719.27\n",
       "11    False          86.45\n",
       "      True         -637.63\n",
       "12    False           0.04\n",
       "      True         -634.14"
      ]
     },
     "execution_count": 5,
     "metadata": {},
     "output_type": "execute_result"
    }
   ],
   "source": [
    "Budgeting_df_annual[['Month', 'Amount', 'Expenditure']].groupby(['Month', 'Expenditure']).sum()"
   ]
  },
  {
   "cell_type": "markdown",
   "metadata": {},
   "source": [
    "Get a look at the most commonly appearing statements:"
   ]
  },
  {
   "cell_type": "code",
   "execution_count": 6,
   "metadata": {},
   "outputs": [
    {
     "data": {
      "text/plain": [
       "Description\n",
       "Transfer to Venmo               35\n",
       "Gig Car Share Gigcca            26\n",
       "Transfer from Venmo             17\n",
       "Amazon                          12\n",
       "365 Retail Markets              10\n",
       "Berkeley Ironworks               9\n",
       "Safeway                          8\n",
       "Interest Paid                    7\n",
       "ATM Fee Rebate                   7\n",
       "CSC Service Works                6\n",
       "Efector Inc Direct Deposit       6\n",
       "Wawa                             6\n",
       "Chipotle                         6\n",
       "Walgreens                        6\n",
       "Benchmark Climbing               5\n",
       "Air Canada                       4\n",
       "Amazon Prime Membership          4\n",
       "SEPTA                            4\n",
       "Snack Boba Ninja Snackpassca     4\n",
       "Raleighs Mezzo                   3\n",
       "Name: count, dtype: int64"
      ]
     },
     "execution_count": 6,
     "metadata": {},
     "output_type": "execute_result"
    }
   ],
   "source": [
    "Budgeting_df_annual['Description'].value_counts().head(20)"
   ]
  },
  {
   "cell_type": "markdown",
   "metadata": {},
   "source": [
    "If you have any suspicious or confusing commonly appearing statements, replace `\"365 Retail Markets\"` with the description to see more info:"
   ]
  },
  {
   "cell_type": "code",
   "execution_count": 7,
   "metadata": {},
   "outputs": [
    {
     "data": {
      "text/html": [
       "<div>\n",
       "<style scoped>\n",
       "    .dataframe tbody tr th:only-of-type {\n",
       "        vertical-align: middle;\n",
       "    }\n",
       "\n",
       "    .dataframe tbody tr th {\n",
       "        vertical-align: top;\n",
       "    }\n",
       "\n",
       "    .dataframe thead th {\n",
       "        text-align: right;\n",
       "    }\n",
       "</style>\n",
       "<table border=\"1\" class=\"dataframe\">\n",
       "  <thead>\n",
       "    <tr style=\"text-align: right;\">\n",
       "      <th></th>\n",
       "      <th>Date</th>\n",
       "      <th>Description</th>\n",
       "      <th>Original Description</th>\n",
       "      <th>Category</th>\n",
       "      <th>Amount</th>\n",
       "      <th>Status</th>\n",
       "      <th>Month</th>\n",
       "      <th>Expenditure</th>\n",
       "    </tr>\n",
       "  </thead>\n",
       "  <tbody>\n",
       "    <tr>\n",
       "      <th>142</th>\n",
       "      <td>2023-07-26</td>\n",
       "      <td>365 Retail Markets</td>\n",
       "      <td>365 MARKET  888 432-3299 TROY         MI</td>\n",
       "      <td>Fast Food</td>\n",
       "      <td>-1.79</td>\n",
       "      <td>Posted</td>\n",
       "      <td>7</td>\n",
       "      <td>True</td>\n",
       "    </tr>\n",
       "    <tr>\n",
       "      <th>144</th>\n",
       "      <td>2023-07-24</td>\n",
       "      <td>365 Retail Markets</td>\n",
       "      <td>365 MARKET  888 432-3299 TROY         MI</td>\n",
       "      <td>Fast Food</td>\n",
       "      <td>-2.59</td>\n",
       "      <td>Posted</td>\n",
       "      <td>7</td>\n",
       "      <td>True</td>\n",
       "    </tr>\n",
       "    <tr>\n",
       "      <th>147</th>\n",
       "      <td>2023-07-19</td>\n",
       "      <td>365 Retail Markets</td>\n",
       "      <td>365 MARKET  888 432-3299 TROY         MI</td>\n",
       "      <td>Fast Food</td>\n",
       "      <td>-2.49</td>\n",
       "      <td>Posted</td>\n",
       "      <td>7</td>\n",
       "      <td>True</td>\n",
       "    </tr>\n",
       "    <tr>\n",
       "      <th>153</th>\n",
       "      <td>2023-07-07</td>\n",
       "      <td>365 Retail Markets</td>\n",
       "      <td>365 MARKET  888 432-3299 TROY         MI</td>\n",
       "      <td>Fast Food</td>\n",
       "      <td>-2.59</td>\n",
       "      <td>Posted</td>\n",
       "      <td>7</td>\n",
       "      <td>True</td>\n",
       "    </tr>\n",
       "    <tr>\n",
       "      <th>165</th>\n",
       "      <td>2023-07-03</td>\n",
       "      <td>365 Retail Markets</td>\n",
       "      <td>365 MARKET  888 432-3299 TROY         MI</td>\n",
       "      <td>Fast Food</td>\n",
       "      <td>-6.44</td>\n",
       "      <td>Posted</td>\n",
       "      <td>7</td>\n",
       "      <td>True</td>\n",
       "    </tr>\n",
       "    <tr>\n",
       "      <th>168</th>\n",
       "      <td>2023-06-29</td>\n",
       "      <td>365 Retail Markets</td>\n",
       "      <td>365 MARKET  888 432-3299 TROY         MI</td>\n",
       "      <td>Fast Food</td>\n",
       "      <td>-6.44</td>\n",
       "      <td>Posted</td>\n",
       "      <td>6</td>\n",
       "      <td>True</td>\n",
       "    </tr>\n",
       "    <tr>\n",
       "      <th>175</th>\n",
       "      <td>2023-06-20</td>\n",
       "      <td>365 Retail Markets</td>\n",
       "      <td>365 MARKET  888 432-3299 TROY         MI</td>\n",
       "      <td>Fast Food</td>\n",
       "      <td>-2.29</td>\n",
       "      <td>Posted</td>\n",
       "      <td>6</td>\n",
       "      <td>True</td>\n",
       "    </tr>\n",
       "    <tr>\n",
       "      <th>176</th>\n",
       "      <td>2023-06-16</td>\n",
       "      <td>365 Retail Markets</td>\n",
       "      <td>365 MARKET  888 432-3299 TROY         MI</td>\n",
       "      <td>Fast Food</td>\n",
       "      <td>-2.49</td>\n",
       "      <td>Posted</td>\n",
       "      <td>6</td>\n",
       "      <td>True</td>\n",
       "    </tr>\n",
       "    <tr>\n",
       "      <th>177</th>\n",
       "      <td>2023-06-14</td>\n",
       "      <td>365 Retail Markets</td>\n",
       "      <td>365 MARKET  888 432-3299 TROY         MI</td>\n",
       "      <td>Fast Food</td>\n",
       "      <td>-2.85</td>\n",
       "      <td>Posted</td>\n",
       "      <td>6</td>\n",
       "      <td>True</td>\n",
       "    </tr>\n",
       "    <tr>\n",
       "      <th>180</th>\n",
       "      <td>2023-06-08</td>\n",
       "      <td>365 Retail Markets</td>\n",
       "      <td>365 MARKET  888 432-3299 TROY         MI</td>\n",
       "      <td>Fast Food</td>\n",
       "      <td>-6.14</td>\n",
       "      <td>Posted</td>\n",
       "      <td>6</td>\n",
       "      <td>True</td>\n",
       "    </tr>\n",
       "  </tbody>\n",
       "</table>\n",
       "</div>"
      ],
      "text/plain": [
       "           Date         Description                      Original Description  \\\n",
       "142  2023-07-26  365 Retail Markets  365 MARKET  888 432-3299 TROY         MI   \n",
       "144  2023-07-24  365 Retail Markets  365 MARKET  888 432-3299 TROY         MI   \n",
       "147  2023-07-19  365 Retail Markets  365 MARKET  888 432-3299 TROY         MI   \n",
       "153  2023-07-07  365 Retail Markets  365 MARKET  888 432-3299 TROY         MI   \n",
       "165  2023-07-03  365 Retail Markets  365 MARKET  888 432-3299 TROY         MI   \n",
       "168  2023-06-29  365 Retail Markets  365 MARKET  888 432-3299 TROY         MI   \n",
       "175  2023-06-20  365 Retail Markets  365 MARKET  888 432-3299 TROY         MI   \n",
       "176  2023-06-16  365 Retail Markets  365 MARKET  888 432-3299 TROY         MI   \n",
       "177  2023-06-14  365 Retail Markets  365 MARKET  888 432-3299 TROY         MI   \n",
       "180  2023-06-08  365 Retail Markets  365 MARKET  888 432-3299 TROY         MI   \n",
       "\n",
       "      Category  Amount  Status  Month  Expenditure  \n",
       "142  Fast Food   -1.79  Posted      7         True  \n",
       "144  Fast Food   -2.59  Posted      7         True  \n",
       "147  Fast Food   -2.49  Posted      7         True  \n",
       "153  Fast Food   -2.59  Posted      7         True  \n",
       "165  Fast Food   -6.44  Posted      7         True  \n",
       "168  Fast Food   -6.44  Posted      6         True  \n",
       "175  Fast Food   -2.29  Posted      6         True  \n",
       "176  Fast Food   -2.49  Posted      6         True  \n",
       "177  Fast Food   -2.85  Posted      6         True  \n",
       "180  Fast Food   -6.14  Posted      6         True  "
      ]
     },
     "execution_count": 7,
     "metadata": {},
     "output_type": "execute_result"
    }
   ],
   "source": [
    "Budgeting_df_annual[Budgeting_df_annual['Description'] == '365 Retail Markets']"
   ]
  },
  {
   "cell_type": "markdown",
   "metadata": {},
   "source": [
    "It can be useful to know what statements are to and from venmo, as they can require separate accounting and in many cases are opten not representative of personal spending trends (i.e. if you are transferring someone else's money via venmo, or if you're moving money between accounts). The cell below will categorize these via One-hot-encoding. \n",
    "\n",
    "If you use Zelle or Paypal, find how those are recorded in your bank statements, and replace the 'Transfer to Venmo' with the description."
   ]
  },
  {
   "cell_type": "code",
   "execution_count": 8,
   "metadata": {},
   "outputs": [
    {
     "data": {
      "text/html": [
       "<div>\n",
       "<style scoped>\n",
       "    .dataframe tbody tr th:only-of-type {\n",
       "        vertical-align: middle;\n",
       "    }\n",
       "\n",
       "    .dataframe tbody tr th {\n",
       "        vertical-align: top;\n",
       "    }\n",
       "\n",
       "    .dataframe thead th {\n",
       "        text-align: right;\n",
       "    }\n",
       "</style>\n",
       "<table border=\"1\" class=\"dataframe\">\n",
       "  <thead>\n",
       "    <tr style=\"text-align: right;\">\n",
       "      <th></th>\n",
       "      <th>Date</th>\n",
       "      <th>Description</th>\n",
       "      <th>Original Description</th>\n",
       "      <th>Category</th>\n",
       "      <th>Amount</th>\n",
       "      <th>Status</th>\n",
       "      <th>Month</th>\n",
       "      <th>Expenditure</th>\n",
       "      <th>Transfer to Venmo</th>\n",
       "      <th>Transfer from Venmo</th>\n",
       "    </tr>\n",
       "  </thead>\n",
       "  <tbody>\n",
       "    <tr>\n",
       "      <th>3</th>\n",
       "      <td>2023-12-29</td>\n",
       "      <td>El Limon</td>\n",
       "      <td>EL LIMON - NORRISTOWN    NORRISTOWN   PA</td>\n",
       "      <td>Restaurants</td>\n",
       "      <td>-13.78</td>\n",
       "      <td>Posted</td>\n",
       "      <td>12</td>\n",
       "      <td>True</td>\n",
       "      <td>False</td>\n",
       "      <td>False</td>\n",
       "    </tr>\n",
       "    <tr>\n",
       "      <th>4</th>\n",
       "      <td>2023-12-28</td>\n",
       "      <td>Benchmark Climbing</td>\n",
       "      <td>FSP*BENCHMARK CLIMBING   510-973-0335 CA</td>\n",
       "      <td>Entertainment</td>\n",
       "      <td>-85.00</td>\n",
       "      <td>Posted</td>\n",
       "      <td>12</td>\n",
       "      <td>True</td>\n",
       "      <td>False</td>\n",
       "      <td>False</td>\n",
       "    </tr>\n",
       "    <tr>\n",
       "      <th>5</th>\n",
       "      <td>2023-12-28</td>\n",
       "      <td>Reach Climbing</td>\n",
       "      <td>REACH CLIMBING           154-13165747 PA</td>\n",
       "      <td>Entertainment</td>\n",
       "      <td>-20.00</td>\n",
       "      <td>Posted</td>\n",
       "      <td>12</td>\n",
       "      <td>True</td>\n",
       "      <td>False</td>\n",
       "      <td>False</td>\n",
       "    </tr>\n",
       "    <tr>\n",
       "      <th>6</th>\n",
       "      <td>2023-12-26</td>\n",
       "      <td>Transfer to Venmo</td>\n",
       "      <td>VENMO            PAYMENT    ***********0502</td>\n",
       "      <td>Transfer</td>\n",
       "      <td>-32.97</td>\n",
       "      <td>Posted</td>\n",
       "      <td>12</td>\n",
       "      <td>True</td>\n",
       "      <td>True</td>\n",
       "      <td>False</td>\n",
       "    </tr>\n",
       "    <tr>\n",
       "      <th>7</th>\n",
       "      <td>2023-12-26</td>\n",
       "      <td>Crate &amp; Barrel</td>\n",
       "      <td>CRATE &amp; BARREL #631 20   KING OF PRUSSPA</td>\n",
       "      <td>Furnishings</td>\n",
       "      <td>-51.67</td>\n",
       "      <td>Posted</td>\n",
       "      <td>12</td>\n",
       "      <td>True</td>\n",
       "      <td>False</td>\n",
       "      <td>False</td>\n",
       "    </tr>\n",
       "    <tr>\n",
       "      <th>...</th>\n",
       "      <td>...</td>\n",
       "      <td>...</td>\n",
       "      <td>...</td>\n",
       "      <td>...</td>\n",
       "      <td>...</td>\n",
       "      <td>...</td>\n",
       "      <td>...</td>\n",
       "      <td>...</td>\n",
       "      <td>...</td>\n",
       "      <td>...</td>\n",
       "    </tr>\n",
       "    <tr>\n",
       "      <th>338</th>\n",
       "      <td>2023-01-10</td>\n",
       "      <td>Chipotle</td>\n",
       "      <td>CHIPOTLE ONLINE          949-524-4000 CA</td>\n",
       "      <td>Fast Food</td>\n",
       "      <td>-31.54</td>\n",
       "      <td>Posted</td>\n",
       "      <td>1</td>\n",
       "      <td>True</td>\n",
       "      <td>False</td>\n",
       "      <td>False</td>\n",
       "    </tr>\n",
       "    <tr>\n",
       "      <th>339</th>\n",
       "      <td>2023-01-09</td>\n",
       "      <td>Starbucks</td>\n",
       "      <td>STARBUCKS 71218 3400708  CRANBURY     NJ</td>\n",
       "      <td>Coffee Shops</td>\n",
       "      <td>-10.02</td>\n",
       "      <td>Posted</td>\n",
       "      <td>1</td>\n",
       "      <td>True</td>\n",
       "      <td>False</td>\n",
       "      <td>False</td>\n",
       "    </tr>\n",
       "    <tr>\n",
       "      <th>340</th>\n",
       "      <td>2023-01-06</td>\n",
       "      <td>Transfer from Venmo</td>\n",
       "      <td>VENMO            CASHOUT    ***********3413</td>\n",
       "      <td>Transfer</td>\n",
       "      <td>380.00</td>\n",
       "      <td>Posted</td>\n",
       "      <td>1</td>\n",
       "      <td>False</td>\n",
       "      <td>False</td>\n",
       "      <td>True</td>\n",
       "    </tr>\n",
       "    <tr>\n",
       "      <th>341</th>\n",
       "      <td>2023-01-03</td>\n",
       "      <td>Berkeley Ironworks Touchstonca</td>\n",
       "      <td>BERKELEY IRONWORKS       WWW.TOUCHSTONCA</td>\n",
       "      <td>Entertainment</td>\n",
       "      <td>-85.00</td>\n",
       "      <td>Posted</td>\n",
       "      <td>1</td>\n",
       "      <td>True</td>\n",
       "      <td>False</td>\n",
       "      <td>False</td>\n",
       "    </tr>\n",
       "    <tr>\n",
       "      <th>342</th>\n",
       "      <td>2023-01-03</td>\n",
       "      <td>Tea Do N 10th</td>\n",
       "      <td>TEA DO132 N 10TH ST      PHILADELPHIA PA</td>\n",
       "      <td>Fast Food</td>\n",
       "      <td>-5.12</td>\n",
       "      <td>Posted</td>\n",
       "      <td>1</td>\n",
       "      <td>True</td>\n",
       "      <td>False</td>\n",
       "      <td>False</td>\n",
       "    </tr>\n",
       "  </tbody>\n",
       "</table>\n",
       "<p>340 rows × 10 columns</p>\n",
       "</div>"
      ],
      "text/plain": [
       "           Date                     Description  \\\n",
       "3    2023-12-29                        El Limon   \n",
       "4    2023-12-28              Benchmark Climbing   \n",
       "5    2023-12-28                  Reach Climbing   \n",
       "6    2023-12-26               Transfer to Venmo   \n",
       "7    2023-12-26                  Crate & Barrel   \n",
       "..          ...                             ...   \n",
       "338  2023-01-10                        Chipotle   \n",
       "339  2023-01-09                       Starbucks   \n",
       "340  2023-01-06             Transfer from Venmo   \n",
       "341  2023-01-03  Berkeley Ironworks Touchstonca   \n",
       "342  2023-01-03                   Tea Do N 10th   \n",
       "\n",
       "                            Original Description       Category  Amount  \\\n",
       "3       EL LIMON - NORRISTOWN    NORRISTOWN   PA    Restaurants  -13.78   \n",
       "4       FSP*BENCHMARK CLIMBING   510-973-0335 CA  Entertainment  -85.00   \n",
       "5       REACH CLIMBING           154-13165747 PA  Entertainment  -20.00   \n",
       "6    VENMO            PAYMENT    ***********0502       Transfer  -32.97   \n",
       "7       CRATE & BARREL #631 20   KING OF PRUSSPA    Furnishings  -51.67   \n",
       "..                                           ...            ...     ...   \n",
       "338     CHIPOTLE ONLINE          949-524-4000 CA      Fast Food  -31.54   \n",
       "339     STARBUCKS 71218 3400708  CRANBURY     NJ   Coffee Shops  -10.02   \n",
       "340  VENMO            CASHOUT    ***********3413       Transfer  380.00   \n",
       "341     BERKELEY IRONWORKS       WWW.TOUCHSTONCA  Entertainment  -85.00   \n",
       "342     TEA DO132 N 10TH ST      PHILADELPHIA PA      Fast Food   -5.12   \n",
       "\n",
       "     Status  Month  Expenditure  Transfer to Venmo  Transfer from Venmo  \n",
       "3    Posted     12         True              False                False  \n",
       "4    Posted     12         True              False                False  \n",
       "5    Posted     12         True              False                False  \n",
       "6    Posted     12         True               True                False  \n",
       "7    Posted     12         True              False                False  \n",
       "..      ...    ...          ...                ...                  ...  \n",
       "338  Posted      1         True              False                False  \n",
       "339  Posted      1         True              False                False  \n",
       "340  Posted      1        False              False                 True  \n",
       "341  Posted      1         True              False                False  \n",
       "342  Posted      1         True              False                False  \n",
       "\n",
       "[340 rows x 10 columns]"
      ]
     },
     "execution_count": 8,
     "metadata": {},
     "output_type": "execute_result"
    }
   ],
   "source": [
    "Budgeting_df_annual['Transfer to Venmo'] = Budgeting_df_annual['Description'] == 'Transfer to Venmo'\n",
    "Budgeting_df_annual['Transfer from Venmo'] = Budgeting_df_annual['Description'] == 'Transfer from Venmo'\n",
    "Budgeting_df_annual"
   ]
  },
  {
   "cell_type": "markdown",
   "metadata": {},
   "source": [
    "Use the below pivot table to identify your spending trends independently of the venmos that were sent."
   ]
  },
  {
   "cell_type": "code",
   "execution_count": 9,
   "metadata": {},
   "outputs": [
    {
     "data": {
      "text/html": [
       "<div>\n",
       "<style scoped>\n",
       "    .dataframe tbody tr th:only-of-type {\n",
       "        vertical-align: middle;\n",
       "    }\n",
       "\n",
       "    .dataframe tbody tr th {\n",
       "        vertical-align: top;\n",
       "    }\n",
       "\n",
       "    .dataframe thead th {\n",
       "        text-align: right;\n",
       "    }\n",
       "</style>\n",
       "<table border=\"1\" class=\"dataframe\">\n",
       "  <thead>\n",
       "    <tr style=\"text-align: right;\">\n",
       "      <th></th>\n",
       "      <th></th>\n",
       "      <th></th>\n",
       "      <th>Amount</th>\n",
       "      <th>Transfer to Venmo</th>\n",
       "    </tr>\n",
       "    <tr>\n",
       "      <th>Month</th>\n",
       "      <th>Expenditure</th>\n",
       "      <th>Transfer from Venmo</th>\n",
       "      <th></th>\n",
       "      <th></th>\n",
       "    </tr>\n",
       "  </thead>\n",
       "  <tbody>\n",
       "    <tr>\n",
       "      <th rowspan=\"3\" valign=\"top\">1</th>\n",
       "      <th rowspan=\"2\" valign=\"top\">False</th>\n",
       "      <th>False</th>\n",
       "      <td>23.75</td>\n",
       "      <td>0</td>\n",
       "    </tr>\n",
       "    <tr>\n",
       "      <th>True</th>\n",
       "      <td>1621.30</td>\n",
       "      <td>0</td>\n",
       "    </tr>\n",
       "    <tr>\n",
       "      <th>True</th>\n",
       "      <th>False</th>\n",
       "      <td>-528.46</td>\n",
       "      <td>3</td>\n",
       "    </tr>\n",
       "    <tr>\n",
       "      <th rowspan=\"3\" valign=\"top\">2</th>\n",
       "      <th rowspan=\"2\" valign=\"top\">False</th>\n",
       "      <th>False</th>\n",
       "      <td>0.01</td>\n",
       "      <td>0</td>\n",
       "    </tr>\n",
       "    <tr>\n",
       "      <th>True</th>\n",
       "      <td>100.00</td>\n",
       "      <td>0</td>\n",
       "    </tr>\n",
       "    <tr>\n",
       "      <th>True</th>\n",
       "      <th>False</th>\n",
       "      <td>-588.07</td>\n",
       "      <td>3</td>\n",
       "    </tr>\n",
       "    <tr>\n",
       "      <th rowspan=\"3\" valign=\"top\">3</th>\n",
       "      <th rowspan=\"2\" valign=\"top\">False</th>\n",
       "      <th>False</th>\n",
       "      <td>55.75</td>\n",
       "      <td>0</td>\n",
       "    </tr>\n",
       "    <tr>\n",
       "      <th>True</th>\n",
       "      <td>228.03</td>\n",
       "      <td>0</td>\n",
       "    </tr>\n",
       "    <tr>\n",
       "      <th>True</th>\n",
       "      <th>False</th>\n",
       "      <td>-750.52</td>\n",
       "      <td>5</td>\n",
       "    </tr>\n",
       "    <tr>\n",
       "      <th rowspan=\"2\" valign=\"top\">4</th>\n",
       "      <th>False</th>\n",
       "      <th>True</th>\n",
       "      <td>332.85</td>\n",
       "      <td>0</td>\n",
       "    </tr>\n",
       "    <tr>\n",
       "      <th>True</th>\n",
       "      <th>False</th>\n",
       "      <td>-337.11</td>\n",
       "      <td>7</td>\n",
       "    </tr>\n",
       "    <tr>\n",
       "      <th rowspan=\"3\" valign=\"top\">5</th>\n",
       "      <th rowspan=\"2\" valign=\"top\">False</th>\n",
       "      <th>False</th>\n",
       "      <td>3.00</td>\n",
       "      <td>0</td>\n",
       "    </tr>\n",
       "    <tr>\n",
       "      <th>True</th>\n",
       "      <td>275.10</td>\n",
       "      <td>0</td>\n",
       "    </tr>\n",
       "    <tr>\n",
       "      <th>True</th>\n",
       "      <th>False</th>\n",
       "      <td>-458.77</td>\n",
       "      <td>2</td>\n",
       "    </tr>\n",
       "    <tr>\n",
       "      <th rowspan=\"3\" valign=\"top\">6</th>\n",
       "      <th rowspan=\"2\" valign=\"top\">False</th>\n",
       "      <th>False</th>\n",
       "      <td>2580.61</td>\n",
       "      <td>0</td>\n",
       "    </tr>\n",
       "    <tr>\n",
       "      <th>True</th>\n",
       "      <td>260.38</td>\n",
       "      <td>0</td>\n",
       "    </tr>\n",
       "    <tr>\n",
       "      <th>True</th>\n",
       "      <th>False</th>\n",
       "      <td>-123.49</td>\n",
       "      <td>0</td>\n",
       "    </tr>\n",
       "    <tr>\n",
       "      <th rowspan=\"2\" valign=\"top\">7</th>\n",
       "      <th>False</th>\n",
       "      <th>False</th>\n",
       "      <td>3966.09</td>\n",
       "      <td>0</td>\n",
       "    </tr>\n",
       "    <tr>\n",
       "      <th>True</th>\n",
       "      <th>False</th>\n",
       "      <td>-1858.48</td>\n",
       "      <td>3</td>\n",
       "    </tr>\n",
       "    <tr>\n",
       "      <th rowspan=\"3\" valign=\"top\">8</th>\n",
       "      <th rowspan=\"2\" valign=\"top\">False</th>\n",
       "      <th>False</th>\n",
       "      <td>2080.36</td>\n",
       "      <td>0</td>\n",
       "    </tr>\n",
       "    <tr>\n",
       "      <th>True</th>\n",
       "      <td>283.88</td>\n",
       "      <td>0</td>\n",
       "    </tr>\n",
       "    <tr>\n",
       "      <th>True</th>\n",
       "      <th>False</th>\n",
       "      <td>-556.47</td>\n",
       "      <td>0</td>\n",
       "    </tr>\n",
       "    <tr>\n",
       "      <th rowspan=\"3\" valign=\"top\">9</th>\n",
       "      <th rowspan=\"2\" valign=\"top\">False</th>\n",
       "      <th>False</th>\n",
       "      <td>42.30</td>\n",
       "      <td>0</td>\n",
       "    </tr>\n",
       "    <tr>\n",
       "      <th>True</th>\n",
       "      <td>626.10</td>\n",
       "      <td>0</td>\n",
       "    </tr>\n",
       "    <tr>\n",
       "      <th>True</th>\n",
       "      <th>False</th>\n",
       "      <td>-1904.47</td>\n",
       "      <td>2</td>\n",
       "    </tr>\n",
       "    <tr>\n",
       "      <th rowspan=\"3\" valign=\"top\">10</th>\n",
       "      <th rowspan=\"2\" valign=\"top\">False</th>\n",
       "      <th>False</th>\n",
       "      <td>0.05</td>\n",
       "      <td>0</td>\n",
       "    </tr>\n",
       "    <tr>\n",
       "      <th>True</th>\n",
       "      <td>238.25</td>\n",
       "      <td>0</td>\n",
       "    </tr>\n",
       "    <tr>\n",
       "      <th>True</th>\n",
       "      <th>False</th>\n",
       "      <td>-719.27</td>\n",
       "      <td>4</td>\n",
       "    </tr>\n",
       "    <tr>\n",
       "      <th rowspan=\"3\" valign=\"top\">11</th>\n",
       "      <th rowspan=\"2\" valign=\"top\">False</th>\n",
       "      <th>False</th>\n",
       "      <td>46.45</td>\n",
       "      <td>0</td>\n",
       "    </tr>\n",
       "    <tr>\n",
       "      <th>True</th>\n",
       "      <td>40.00</td>\n",
       "      <td>0</td>\n",
       "    </tr>\n",
       "    <tr>\n",
       "      <th>True</th>\n",
       "      <th>False</th>\n",
       "      <td>-637.63</td>\n",
       "      <td>4</td>\n",
       "    </tr>\n",
       "    <tr>\n",
       "      <th rowspan=\"2\" valign=\"top\">12</th>\n",
       "      <th>False</th>\n",
       "      <th>False</th>\n",
       "      <td>0.04</td>\n",
       "      <td>0</td>\n",
       "    </tr>\n",
       "    <tr>\n",
       "      <th>True</th>\n",
       "      <th>False</th>\n",
       "      <td>-634.14</td>\n",
       "      <td>2</td>\n",
       "    </tr>\n",
       "  </tbody>\n",
       "</table>\n",
       "</div>"
      ],
      "text/plain": [
       "                                        Amount  Transfer to Venmo\n",
       "Month Expenditure Transfer from Venmo                            \n",
       "1     False       False                  23.75                  0\n",
       "                  True                 1621.30                  0\n",
       "      True        False                -528.46                  3\n",
       "2     False       False                   0.01                  0\n",
       "                  True                  100.00                  0\n",
       "      True        False                -588.07                  3\n",
       "3     False       False                  55.75                  0\n",
       "                  True                  228.03                  0\n",
       "      True        False                -750.52                  5\n",
       "4     False       True                  332.85                  0\n",
       "      True        False                -337.11                  7\n",
       "5     False       False                   3.00                  0\n",
       "                  True                  275.10                  0\n",
       "      True        False                -458.77                  2\n",
       "6     False       False                2580.61                  0\n",
       "                  True                  260.38                  0\n",
       "      True        False                -123.49                  0\n",
       "7     False       False                3966.09                  0\n",
       "      True        False               -1858.48                  3\n",
       "8     False       False                2080.36                  0\n",
       "                  True                  283.88                  0\n",
       "      True        False                -556.47                  0\n",
       "9     False       False                  42.30                  0\n",
       "                  True                  626.10                  0\n",
       "      True        False               -1904.47                  2\n",
       "10    False       False                   0.05                  0\n",
       "                  True                  238.25                  0\n",
       "      True        False                -719.27                  4\n",
       "11    False       False                  46.45                  0\n",
       "                  True                   40.00                  0\n",
       "      True        False                -637.63                  4\n",
       "12    False       False                   0.04                  0\n",
       "      True        False                -634.14                  2"
      ]
     },
     "execution_count": 9,
     "metadata": {},
     "output_type": "execute_result"
    }
   ],
   "source": [
    "Budgeting_df_annual[['Amount', 'Month', 'Expenditure', 'Transfer to Venmo', 'Transfer from Venmo']].groupby(['Month', \"Expenditure\", 'Transfer from Venmo']).sum()"
   ]
  },
  {
   "cell_type": "markdown",
   "metadata": {},
   "source": [
    "Here is monthly Expenditures. One-hot encode other variables if you wish to see more detail in the breakdown."
   ]
  },
  {
   "cell_type": "code",
   "execution_count": 10,
   "metadata": {},
   "outputs": [
    {
     "data": {
      "text/plain": [
       "Month\n",
       "1     -528.46\n",
       "2     -588.07\n",
       "3     -750.52\n",
       "4     -337.11\n",
       "5     -458.77\n",
       "6     -123.49\n",
       "7    -1858.48\n",
       "8     -556.47\n",
       "9    -1904.47\n",
       "10    -719.27\n",
       "11    -637.63\n",
       "12    -634.14\n",
       "Name: Amount, dtype: float64"
      ]
     },
     "metadata": {},
     "output_type": "display_data"
    },
    {
     "data": {
      "text/plain": [
       "[<matplotlib.lines.Line2D at 0x11dd7f490>]"
      ]
     },
     "execution_count": 10,
     "metadata": {},
     "output_type": "execute_result"
    },
    {
     "data": {
      "image/png": "[encoded data removed]",
      "text/plain": [
       "<Figure size 640x480 with 1 Axes>"
      ]
     },
     "metadata": {},
     "output_type": "display_data"
    }
   ],
   "source": [
    "Monthly_Exp_df = Budgeting_df_annual[['Amount', 'Month', 'Expenditure']][Budgeting_df_annual['Expenditure'] == True].groupby('Month').sum()\n",
    "display(Monthly_Exp_df['Amount'])\n",
    "plt.plot(Monthly_Exp_df['Amount'] * -1)"
   ]
  },
  {
   "cell_type": "markdown",
   "metadata": {},
   "source": [
    "It can be helpful to identify spending trends on a more granular basis, the following cell encodes each statement into a week of the year."
   ]
  },
  {
   "cell_type": "code",
   "execution_count": 11,
   "metadata": {},
   "outputs": [
    {
     "data": {
      "text/html": [
       "<div>\n",
       "<style scoped>\n",
       "    .dataframe tbody tr th:only-of-type {\n",
       "        vertical-align: middle;\n",
       "    }\n",
       "\n",
       "    .dataframe tbody tr th {\n",
       "        vertical-align: top;\n",
       "    }\n",
       "\n",
       "    .dataframe thead th {\n",
       "        text-align: right;\n",
       "    }\n",
       "</style>\n",
       "<table border=\"1\" class=\"dataframe\">\n",
       "  <thead>\n",
       "    <tr style=\"text-align: right;\">\n",
       "      <th></th>\n",
       "      <th>Date</th>\n",
       "      <th>Description</th>\n",
       "      <th>Original Description</th>\n",
       "      <th>Category</th>\n",
       "      <th>Amount</th>\n",
       "      <th>Status</th>\n",
       "      <th>Month</th>\n",
       "      <th>Expenditure</th>\n",
       "      <th>Transfer to Venmo</th>\n",
       "      <th>Transfer from Venmo</th>\n",
       "      <th>Week</th>\n",
       "    </tr>\n",
       "  </thead>\n",
       "  <tbody>\n",
       "    <tr>\n",
       "      <th>3</th>\n",
       "      <td>2023-12-29</td>\n",
       "      <td>El Limon</td>\n",
       "      <td>EL LIMON - NORRISTOWN    NORRISTOWN   PA</td>\n",
       "      <td>Restaurants</td>\n",
       "      <td>-13.78</td>\n",
       "      <td>Posted</td>\n",
       "      <td>12</td>\n",
       "      <td>True</td>\n",
       "      <td>False</td>\n",
       "      <td>False</td>\n",
       "      <td>51</td>\n",
       "    </tr>\n",
       "    <tr>\n",
       "      <th>4</th>\n",
       "      <td>2023-12-28</td>\n",
       "      <td>Benchmark Climbing</td>\n",
       "      <td>FSP*BENCHMARK CLIMBING   510-973-0335 CA</td>\n",
       "      <td>Entertainment</td>\n",
       "      <td>-85.00</td>\n",
       "      <td>Posted</td>\n",
       "      <td>12</td>\n",
       "      <td>True</td>\n",
       "      <td>False</td>\n",
       "      <td>False</td>\n",
       "      <td>51</td>\n",
       "    </tr>\n",
       "    <tr>\n",
       "      <th>5</th>\n",
       "      <td>2023-12-28</td>\n",
       "      <td>Reach Climbing</td>\n",
       "      <td>REACH CLIMBING           154-13165747 PA</td>\n",
       "      <td>Entertainment</td>\n",
       "      <td>-20.00</td>\n",
       "      <td>Posted</td>\n",
       "      <td>12</td>\n",
       "      <td>True</td>\n",
       "      <td>False</td>\n",
       "      <td>False</td>\n",
       "      <td>51</td>\n",
       "    </tr>\n",
       "    <tr>\n",
       "      <th>6</th>\n",
       "      <td>2023-12-26</td>\n",
       "      <td>Transfer to Venmo</td>\n",
       "      <td>VENMO            PAYMENT    ***********0502</td>\n",
       "      <td>Transfer</td>\n",
       "      <td>-32.97</td>\n",
       "      <td>Posted</td>\n",
       "      <td>12</td>\n",
       "      <td>True</td>\n",
       "      <td>True</td>\n",
       "      <td>False</td>\n",
       "      <td>51</td>\n",
       "    </tr>\n",
       "    <tr>\n",
       "      <th>7</th>\n",
       "      <td>2023-12-26</td>\n",
       "      <td>Crate &amp; Barrel</td>\n",
       "      <td>CRATE &amp; BARREL #631 20   KING OF PRUSSPA</td>\n",
       "      <td>Furnishings</td>\n",
       "      <td>-51.67</td>\n",
       "      <td>Posted</td>\n",
       "      <td>12</td>\n",
       "      <td>True</td>\n",
       "      <td>False</td>\n",
       "      <td>False</td>\n",
       "      <td>51</td>\n",
       "    </tr>\n",
       "    <tr>\n",
       "      <th>...</th>\n",
       "      <td>...</td>\n",
       "      <td>...</td>\n",
       "      <td>...</td>\n",
       "      <td>...</td>\n",
       "      <td>...</td>\n",
       "      <td>...</td>\n",
       "      <td>...</td>\n",
       "      <td>...</td>\n",
       "      <td>...</td>\n",
       "      <td>...</td>\n",
       "      <td>...</td>\n",
       "    </tr>\n",
       "    <tr>\n",
       "      <th>338</th>\n",
       "      <td>2023-01-10</td>\n",
       "      <td>Chipotle</td>\n",
       "      <td>CHIPOTLE ONLINE          949-524-4000 CA</td>\n",
       "      <td>Fast Food</td>\n",
       "      <td>-31.54</td>\n",
       "      <td>Posted</td>\n",
       "      <td>1</td>\n",
       "      <td>True</td>\n",
       "      <td>False</td>\n",
       "      <td>False</td>\n",
       "      <td>1</td>\n",
       "    </tr>\n",
       "    <tr>\n",
       "      <th>339</th>\n",
       "      <td>2023-01-09</td>\n",
       "      <td>Starbucks</td>\n",
       "      <td>STARBUCKS 71218 3400708  CRANBURY     NJ</td>\n",
       "      <td>Coffee Shops</td>\n",
       "      <td>-10.02</td>\n",
       "      <td>Posted</td>\n",
       "      <td>1</td>\n",
       "      <td>True</td>\n",
       "      <td>False</td>\n",
       "      <td>False</td>\n",
       "      <td>1</td>\n",
       "    </tr>\n",
       "    <tr>\n",
       "      <th>340</th>\n",
       "      <td>2023-01-06</td>\n",
       "      <td>Transfer from Venmo</td>\n",
       "      <td>VENMO            CASHOUT    ***********3413</td>\n",
       "      <td>Transfer</td>\n",
       "      <td>380.00</td>\n",
       "      <td>Posted</td>\n",
       "      <td>1</td>\n",
       "      <td>False</td>\n",
       "      <td>False</td>\n",
       "      <td>True</td>\n",
       "      <td>0</td>\n",
       "    </tr>\n",
       "    <tr>\n",
       "      <th>341</th>\n",
       "      <td>2023-01-03</td>\n",
       "      <td>Berkeley Ironworks Touchstonca</td>\n",
       "      <td>BERKELEY IRONWORKS       WWW.TOUCHSTONCA</td>\n",
       "      <td>Entertainment</td>\n",
       "      <td>-85.00</td>\n",
       "      <td>Posted</td>\n",
       "      <td>1</td>\n",
       "      <td>True</td>\n",
       "      <td>False</td>\n",
       "      <td>False</td>\n",
       "      <td>0</td>\n",
       "    </tr>\n",
       "    <tr>\n",
       "      <th>342</th>\n",
       "      <td>2023-01-03</td>\n",
       "      <td>Tea Do N 10th</td>\n",
       "      <td>TEA DO132 N 10TH ST      PHILADELPHIA PA</td>\n",
       "      <td>Fast Food</td>\n",
       "      <td>-5.12</td>\n",
       "      <td>Posted</td>\n",
       "      <td>1</td>\n",
       "      <td>True</td>\n",
       "      <td>False</td>\n",
       "      <td>False</td>\n",
       "      <td>0</td>\n",
       "    </tr>\n",
       "  </tbody>\n",
       "</table>\n",
       "<p>340 rows × 11 columns</p>\n",
       "</div>"
      ],
      "text/plain": [
       "           Date                     Description  \\\n",
       "3    2023-12-29                        El Limon   \n",
       "4    2023-12-28              Benchmark Climbing   \n",
       "5    2023-12-28                  Reach Climbing   \n",
       "6    2023-12-26               Transfer to Venmo   \n",
       "7    2023-12-26                  Crate & Barrel   \n",
       "..          ...                             ...   \n",
       "338  2023-01-10                        Chipotle   \n",
       "339  2023-01-09                       Starbucks   \n",
       "340  2023-01-06             Transfer from Venmo   \n",
       "341  2023-01-03  Berkeley Ironworks Touchstonca   \n",
       "342  2023-01-03                   Tea Do N 10th   \n",
       "\n",
       "                            Original Description       Category  Amount  \\\n",
       "3       EL LIMON - NORRISTOWN    NORRISTOWN   PA    Restaurants  -13.78   \n",
       "4       FSP*BENCHMARK CLIMBING   510-973-0335 CA  Entertainment  -85.00   \n",
       "5       REACH CLIMBING           154-13165747 PA  Entertainment  -20.00   \n",
       "6    VENMO            PAYMENT    ***********0502       Transfer  -32.97   \n",
       "7       CRATE & BARREL #631 20   KING OF PRUSSPA    Furnishings  -51.67   \n",
       "..                                           ...            ...     ...   \n",
       "338     CHIPOTLE ONLINE          949-524-4000 CA      Fast Food  -31.54   \n",
       "339     STARBUCKS 71218 3400708  CRANBURY     NJ   Coffee Shops  -10.02   \n",
       "340  VENMO            CASHOUT    ***********3413       Transfer  380.00   \n",
       "341     BERKELEY IRONWORKS       WWW.TOUCHSTONCA  Entertainment  -85.00   \n",
       "342     TEA DO132 N 10TH ST      PHILADELPHIA PA      Fast Food   -5.12   \n",
       "\n",
       "     Status  Month  Expenditure  Transfer to Venmo  Transfer from Venmo  Week  \n",
       "3    Posted     12         True              False                False    51  \n",
       "4    Posted     12         True              False                False    51  \n",
       "5    Posted     12         True              False                False    51  \n",
       "6    Posted     12         True               True                False    51  \n",
       "7    Posted     12         True              False                False    51  \n",
       "..      ...    ...          ...                ...                  ...   ...  \n",
       "338  Posted      1         True              False                False     1  \n",
       "339  Posted      1         True              False                False     1  \n",
       "340  Posted      1        False              False                 True     0  \n",
       "341  Posted      1         True              False                False     0  \n",
       "342  Posted      1         True              False                False     0  \n",
       "\n",
       "[340 rows x 11 columns]"
      ]
     },
     "execution_count": 11,
     "metadata": {},
     "output_type": "execute_result"
    }
   ],
   "source": [
    "Budgeting_df_annual['Week'] = Budgeting_df_annual['Date'].apply(lambda x: (datetime.strptime(x, '%Y-%m-%d') - datetime.strptime('2023-01-01', '%Y-%m-%d')).days // 7)\n",
    "Budgeting_df_annual"
   ]
  },
  {
   "cell_type": "markdown",
   "metadata": {},
   "source": [
    "The following cell will then display weekly spending as opposed to monthly, for more specificity in the trends:"
   ]
  },
  {
   "cell_type": "code",
   "execution_count": 12,
   "metadata": {},
   "outputs": [
    {
     "data": {
      "text/plain": [
       "Week\n",
       "0      -90.12\n",
       "1      -53.56\n",
       "2     -173.53\n",
       "3      -89.61\n",
       "4     -224.46\n",
       "5      -56.95\n",
       "6     -244.80\n",
       "7      -91.01\n",
       "8     -249.90\n",
       "9     -115.28\n",
       "10    -121.26\n",
       "11     -73.08\n",
       "12    -283.49\n",
       "13    -205.16\n",
       "14     -16.98\n",
       "15     -81.18\n",
       "16     -33.79\n",
       "17    -140.44\n",
       "18     -83.66\n",
       "19     -82.31\n",
       "20     -65.76\n",
       "21     -86.60\n",
       "22      -8.25\n",
       "23     -15.34\n",
       "24     -84.60\n",
       "25     -15.30\n",
       "26   -1669.14\n",
       "27     -51.16\n",
       "28     -48.80\n",
       "29     -89.38\n",
       "30     -10.00\n",
       "31    -210.89\n",
       "32     -16.44\n",
       "33    -279.11\n",
       "34    -157.93\n",
       "35   -1001.37\n",
       "36    -573.13\n",
       "37      -9.43\n",
       "38    -202.64\n",
       "39    -290.43\n",
       "40     -78.29\n",
       "41     -27.15\n",
       "42    -217.84\n",
       "43    -115.56\n",
       "44     -61.16\n",
       "45    -122.74\n",
       "46    -222.71\n",
       "47    -221.02\n",
       "48     -28.28\n",
       "49    -213.07\n",
       "50    -181.37\n",
       "51    -211.42\n",
       "Name: Amount, dtype: float64"
      ]
     },
     "metadata": {},
     "output_type": "display_data"
    },
    {
     "data": {
      "text/plain": [
       "[<matplotlib.lines.Line2D at 0x12cbb3550>]"
      ]
     },
     "execution_count": 12,
     "metadata": {},
     "output_type": "execute_result"
    },
    {
     "data": {
      "image/png": "[encoded data removed]",
      "text/plain": [
       "<Figure size 640x480 with 1 Axes>"
      ]
     },
     "metadata": {},
     "output_type": "display_data"
    }
   ],
   "source": [
    "Weekly_Exp_df = Budgeting_df_annual[['Amount', 'Week', 'Expenditure']][Budgeting_df_annual['Expenditure'] == True].groupby('Week').sum()\n",
    "display(Weekly_Exp_df['Amount'])\n",
    "plt.plot(Weekly_Exp_df['Amount'] * -1)"
   ]
  },
  {
   "cell_type": "markdown",
   "metadata": {},
   "source": [
    "The above graph may contain some anomalous weeks. The following cell will help you look for payments that operate outside of typical spending trends and cause these anomalies. "
   ]
  },
  {
   "cell_type": "code",
   "execution_count": 13,
   "metadata": {},
   "outputs": [
    {
     "data": {
      "text/html": [
       "<div>\n",
       "<style scoped>\n",
       "    .dataframe tbody tr th:only-of-type {\n",
       "        vertical-align: middle;\n",
       "    }\n",
       "\n",
       "    .dataframe tbody tr th {\n",
       "        vertical-align: top;\n",
       "    }\n",
       "\n",
       "    .dataframe thead th {\n",
       "        text-align: right;\n",
       "    }\n",
       "</style>\n",
       "<table border=\"1\" class=\"dataframe\">\n",
       "  <thead>\n",
       "    <tr style=\"text-align: right;\">\n",
       "      <th></th>\n",
       "      <th>Date</th>\n",
       "      <th>Description</th>\n",
       "      <th>Original Description</th>\n",
       "      <th>Category</th>\n",
       "      <th>Amount</th>\n",
       "      <th>Status</th>\n",
       "      <th>Month</th>\n",
       "      <th>Expenditure</th>\n",
       "      <th>Transfer to Venmo</th>\n",
       "      <th>Transfer from Venmo</th>\n",
       "      <th>Week</th>\n",
       "    </tr>\n",
       "  </thead>\n",
       "  <tbody>\n",
       "    <tr>\n",
       "      <th>155</th>\n",
       "      <td>2023-07-05</td>\n",
       "      <td>Transfer to Venmo</td>\n",
       "      <td>VENMO            PAYMENT    ***********6698</td>\n",
       "      <td>Transfer</td>\n",
       "      <td>-1532.40</td>\n",
       "      <td>Posted</td>\n",
       "      <td>7</td>\n",
       "      <td>True</td>\n",
       "      <td>True</td>\n",
       "      <td>False</td>\n",
       "      <td>26</td>\n",
       "    </tr>\n",
       "    <tr>\n",
       "      <th>96</th>\n",
       "      <td>2023-09-07</td>\n",
       "      <td>Air Canada</td>\n",
       "      <td>AIR CAN*    0142179738157AIRCANADA.COMMB</td>\n",
       "      <td>Air Travel</td>\n",
       "      <td>-386.06</td>\n",
       "      <td>Posted</td>\n",
       "      <td>9</td>\n",
       "      <td>True</td>\n",
       "      <td>False</td>\n",
       "      <td>False</td>\n",
       "      <td>35</td>\n",
       "    </tr>\n",
       "    <tr>\n",
       "      <th>97</th>\n",
       "      <td>2023-09-07</td>\n",
       "      <td>Air Canada</td>\n",
       "      <td>AIR CAN*    0142179738158AIRCANADA.COMMB</td>\n",
       "      <td>Air Travel</td>\n",
       "      <td>-386.06</td>\n",
       "      <td>Posted</td>\n",
       "      <td>9</td>\n",
       "      <td>True</td>\n",
       "      <td>False</td>\n",
       "      <td>False</td>\n",
       "      <td>35</td>\n",
       "    </tr>\n",
       "    <tr>\n",
       "      <th>89</th>\n",
       "      <td>2023-09-11</td>\n",
       "      <td>Air Canada</td>\n",
       "      <td>AIR CANADA  0142179736909888-2472262  NY</td>\n",
       "      <td>Air Travel</td>\n",
       "      <td>-213.20</td>\n",
       "      <td>Posted</td>\n",
       "      <td>9</td>\n",
       "      <td>True</td>\n",
       "      <td>False</td>\n",
       "      <td>False</td>\n",
       "      <td>36</td>\n",
       "    </tr>\n",
       "    <tr>\n",
       "      <th>88</th>\n",
       "      <td>2023-09-11</td>\n",
       "      <td>Air Canada</td>\n",
       "      <td>AIR CANADA  0142179736908888-2472262  NY</td>\n",
       "      <td>Air Travel</td>\n",
       "      <td>-213.20</td>\n",
       "      <td>Posted</td>\n",
       "      <td>9</td>\n",
       "      <td>True</td>\n",
       "      <td>False</td>\n",
       "      <td>False</td>\n",
       "      <td>36</td>\n",
       "    </tr>\n",
       "    <tr>\n",
       "      <th>71</th>\n",
       "      <td>2023-10-02</td>\n",
       "      <td>Zelle Transfer to Tianxi</td>\n",
       "      <td>Zelle:  Tianxi</td>\n",
       "      <td>Transfer</td>\n",
       "      <td>-140.00</td>\n",
       "      <td>Posted</td>\n",
       "      <td>10</td>\n",
       "      <td>True</td>\n",
       "      <td>False</td>\n",
       "      <td>False</td>\n",
       "      <td>39</td>\n",
       "    </tr>\n",
       "    <tr>\n",
       "      <th>94</th>\n",
       "      <td>2023-09-08</td>\n",
       "      <td>Zelle Transfer to Azhan</td>\n",
       "      <td>Zelle:  Azhan</td>\n",
       "      <td>Transfer</td>\n",
       "      <td>-137.91</td>\n",
       "      <td>Posted</td>\n",
       "      <td>9</td>\n",
       "      <td>True</td>\n",
       "      <td>False</td>\n",
       "      <td>False</td>\n",
       "      <td>35</td>\n",
       "    </tr>\n",
       "    <tr>\n",
       "      <th>80</th>\n",
       "      <td>2023-09-28</td>\n",
       "      <td>Benchmark</td>\n",
       "      <td>FSP*BENCHMARK CL 1607 SHABERKELEY     CA</td>\n",
       "      <td>Entertainment</td>\n",
       "      <td>-135.00</td>\n",
       "      <td>Posted</td>\n",
       "      <td>9</td>\n",
       "      <td>True</td>\n",
       "      <td>False</td>\n",
       "      <td>False</td>\n",
       "      <td>38</td>\n",
       "    </tr>\n",
       "    <tr>\n",
       "      <th>16</th>\n",
       "      <td>2023-12-13</td>\n",
       "      <td>Kawa</td>\n",
       "      <td>KAWA CLUB                KAWA.CLUB    CA</td>\n",
       "      <td>Clothing</td>\n",
       "      <td>-133.08</td>\n",
       "      <td>Posted</td>\n",
       "      <td>12</td>\n",
       "      <td>True</td>\n",
       "      <td>False</td>\n",
       "      <td>False</td>\n",
       "      <td>49</td>\n",
       "    </tr>\n",
       "    <tr>\n",
       "      <th>41</th>\n",
       "      <td>2023-11-13</td>\n",
       "      <td>Saul's Restaurant</td>\n",
       "      <td>TST* SAUL'S RESTAURANT ANBERKELEY     CA</td>\n",
       "      <td>Restaurants</td>\n",
       "      <td>-118.64</td>\n",
       "      <td>Posted</td>\n",
       "      <td>11</td>\n",
       "      <td>True</td>\n",
       "      <td>False</td>\n",
       "      <td>False</td>\n",
       "      <td>45</td>\n",
       "    </tr>\n",
       "    <tr>\n",
       "      <th>55</th>\n",
       "      <td>2023-10-23</td>\n",
       "      <td>Gig Car Share Gigcca</td>\n",
       "      <td>GIG CAR SHARE            HTTPSWWW.GIGCCA</td>\n",
       "      <td>Rental Car &amp; Taxi</td>\n",
       "      <td>-102.41</td>\n",
       "      <td>Posted</td>\n",
       "      <td>10</td>\n",
       "      <td>True</td>\n",
       "      <td>False</td>\n",
       "      <td>False</td>\n",
       "      <td>42</td>\n",
       "    </tr>\n",
       "    <tr>\n",
       "      <th>72</th>\n",
       "      <td>2023-10-02</td>\n",
       "      <td>Cocotte</td>\n",
       "      <td>SQ *COCOTTE              SAN FRANCISCOCA</td>\n",
       "      <td>Restaurants</td>\n",
       "      <td>-96.82</td>\n",
       "      <td>Posted</td>\n",
       "      <td>10</td>\n",
       "      <td>True</td>\n",
       "      <td>False</td>\n",
       "      <td>False</td>\n",
       "      <td>39</td>\n",
       "    </tr>\n",
       "    <tr>\n",
       "      <th>11</th>\n",
       "      <td>2023-12-18</td>\n",
       "      <td>Amazon</td>\n",
       "      <td>AMZN Mktp US*9F1I60LS3   AMZN.COM/BILLWA</td>\n",
       "      <td>Shopping</td>\n",
       "      <td>-94.34</td>\n",
       "      <td>Posted</td>\n",
       "      <td>12</td>\n",
       "      <td>True</td>\n",
       "      <td>False</td>\n",
       "      <td>False</td>\n",
       "      <td>50</td>\n",
       "    </tr>\n",
       "    <tr>\n",
       "      <th>228</th>\n",
       "      <td>2023-04-03</td>\n",
       "      <td>Berkeley Ironworks</td>\n",
       "      <td>BERKELEY IRONWORKS       WWW.TOUCHSTONCA</td>\n",
       "      <td>Entertainment</td>\n",
       "      <td>-85.00</td>\n",
       "      <td>Posted</td>\n",
       "      <td>4</td>\n",
       "      <td>True</td>\n",
       "      <td>False</td>\n",
       "      <td>False</td>\n",
       "      <td>13</td>\n",
       "    </tr>\n",
       "    <tr>\n",
       "      <th>4</th>\n",
       "      <td>2023-12-28</td>\n",
       "      <td>Benchmark Climbing</td>\n",
       "      <td>FSP*BENCHMARK CLIMBING   510-973-0335 CA</td>\n",
       "      <td>Entertainment</td>\n",
       "      <td>-85.00</td>\n",
       "      <td>Posted</td>\n",
       "      <td>12</td>\n",
       "      <td>True</td>\n",
       "      <td>False</td>\n",
       "      <td>False</td>\n",
       "      <td>51</td>\n",
       "    </tr>\n",
       "    <tr>\n",
       "      <th>208</th>\n",
       "      <td>2023-05-01</td>\n",
       "      <td>Berkeley Ironworks</td>\n",
       "      <td>BERKELEY IRONWORKS       WWW.TOUCHSTONCA</td>\n",
       "      <td>Entertainment</td>\n",
       "      <td>-85.00</td>\n",
       "      <td>Posted</td>\n",
       "      <td>5</td>\n",
       "      <td>True</td>\n",
       "      <td>False</td>\n",
       "      <td>False</td>\n",
       "      <td>17</td>\n",
       "    </tr>\n",
       "    <tr>\n",
       "      <th>26</th>\n",
       "      <td>2023-11-28</td>\n",
       "      <td>Benchmark Climbing</td>\n",
       "      <td>FSP*BENCHMARK CLIMBING   510-973-0335 CA</td>\n",
       "      <td>Entertainment</td>\n",
       "      <td>-85.00</td>\n",
       "      <td>Posted</td>\n",
       "      <td>11</td>\n",
       "      <td>True</td>\n",
       "      <td>False</td>\n",
       "      <td>False</td>\n",
       "      <td>47</td>\n",
       "    </tr>\n",
       "    <tr>\n",
       "      <th>275</th>\n",
       "      <td>2023-03-01</td>\n",
       "      <td>Berkeley Ironworks</td>\n",
       "      <td>BERKELEY IRONWORKS       WWW.TOUCHSTONCA</td>\n",
       "      <td>Entertainment</td>\n",
       "      <td>-85.00</td>\n",
       "      <td>Posted</td>\n",
       "      <td>3</td>\n",
       "      <td>True</td>\n",
       "      <td>False</td>\n",
       "      <td>False</td>\n",
       "      <td>8</td>\n",
       "    </tr>\n",
       "    <tr>\n",
       "      <th>311</th>\n",
       "      <td>2023-02-01</td>\n",
       "      <td>Berkeley Ironworks Touchstonca</td>\n",
       "      <td>BERKELEY IRONWORKS       WWW.TOUCHSTONCA</td>\n",
       "      <td>Entertainment</td>\n",
       "      <td>-85.00</td>\n",
       "      <td>Posted</td>\n",
       "      <td>2</td>\n",
       "      <td>True</td>\n",
       "      <td>False</td>\n",
       "      <td>False</td>\n",
       "      <td>4</td>\n",
       "    </tr>\n",
       "    <tr>\n",
       "      <th>104</th>\n",
       "      <td>2023-09-01</td>\n",
       "      <td>Berkeley Ironworks</td>\n",
       "      <td>BERKELEY IRONWORKS       WWW.TOUCHSTONCA</td>\n",
       "      <td>Entertainment</td>\n",
       "      <td>-85.00</td>\n",
       "      <td>Posted</td>\n",
       "      <td>9</td>\n",
       "      <td>True</td>\n",
       "      <td>False</td>\n",
       "      <td>False</td>\n",
       "      <td>34</td>\n",
       "    </tr>\n",
       "    <tr>\n",
       "      <th>49</th>\n",
       "      <td>2023-10-30</td>\n",
       "      <td>Benchmark Climbing</td>\n",
       "      <td>FSP*BENCHMARK CLIMBING   510-973-0335 CA</td>\n",
       "      <td>Entertainment</td>\n",
       "      <td>-85.00</td>\n",
       "      <td>Posted</td>\n",
       "      <td>10</td>\n",
       "      <td>True</td>\n",
       "      <td>False</td>\n",
       "      <td>False</td>\n",
       "      <td>43</td>\n",
       "    </tr>\n",
       "    <tr>\n",
       "      <th>341</th>\n",
       "      <td>2023-01-03</td>\n",
       "      <td>Berkeley Ironworks Touchstonca</td>\n",
       "      <td>BERKELEY IRONWORKS       WWW.TOUCHSTONCA</td>\n",
       "      <td>Entertainment</td>\n",
       "      <td>-85.00</td>\n",
       "      <td>Posted</td>\n",
       "      <td>1</td>\n",
       "      <td>True</td>\n",
       "      <td>False</td>\n",
       "      <td>False</td>\n",
       "      <td>0</td>\n",
       "    </tr>\n",
       "    <tr>\n",
       "      <th>24</th>\n",
       "      <td>2023-11-30</td>\n",
       "      <td>Amazon</td>\n",
       "      <td>AMZN Mktp US*781VG6QK3   AMZN.COM/BILLWA</td>\n",
       "      <td>Shopping</td>\n",
       "      <td>-83.11</td>\n",
       "      <td>Posted</td>\n",
       "      <td>11</td>\n",
       "      <td>True</td>\n",
       "      <td>False</td>\n",
       "      <td>False</td>\n",
       "      <td>47</td>\n",
       "    </tr>\n",
       "    <tr>\n",
       "      <th>90</th>\n",
       "      <td>2023-09-11</td>\n",
       "      <td>Gig Car Share Gigcca</td>\n",
       "      <td>GIG CAR SHARE            HTTPSWWW.GIGCCA</td>\n",
       "      <td>Rental Car &amp; Taxi</td>\n",
       "      <td>-76.22</td>\n",
       "      <td>Posted</td>\n",
       "      <td>9</td>\n",
       "      <td>True</td>\n",
       "      <td>False</td>\n",
       "      <td>False</td>\n",
       "      <td>36</td>\n",
       "    </tr>\n",
       "    <tr>\n",
       "      <th>237</th>\n",
       "      <td>2023-03-27</td>\n",
       "      <td>Mobile ATM</td>\n",
       "      <td>2400 MOBILE ATM2384 TELEGBERKELEY     CA</td>\n",
       "      <td>Cash</td>\n",
       "      <td>-73.75</td>\n",
       "      <td>Posted</td>\n",
       "      <td>3</td>\n",
       "      <td>True</td>\n",
       "      <td>False</td>\n",
       "      <td>False</td>\n",
       "      <td>12</td>\n",
       "    </tr>\n",
       "    <tr>\n",
       "      <th>115</th>\n",
       "      <td>2023-08-21</td>\n",
       "      <td>Bkesslermd</td>\n",
       "      <td>NUGGMD CA BKESSLERMD     866-8477205  NY</td>\n",
       "      <td>Doctor</td>\n",
       "      <td>-70.00</td>\n",
       "      <td>Posted</td>\n",
       "      <td>8</td>\n",
       "      <td>True</td>\n",
       "      <td>False</td>\n",
       "      <td>False</td>\n",
       "      <td>33</td>\n",
       "    </tr>\n",
       "    <tr>\n",
       "      <th>332</th>\n",
       "      <td>2023-01-17</td>\n",
       "      <td>Mobile ATM</td>\n",
       "      <td>2400 MOBILE ATM2565 TELEGBERKELEY     CA</td>\n",
       "      <td>Cash</td>\n",
       "      <td>-63.75</td>\n",
       "      <td>Posted</td>\n",
       "      <td>1</td>\n",
       "      <td>True</td>\n",
       "      <td>False</td>\n",
       "      <td>False</td>\n",
       "      <td>2</td>\n",
       "    </tr>\n",
       "    <tr>\n",
       "      <th>314</th>\n",
       "      <td>2023-01-30</td>\n",
       "      <td>Transfer to Venmo</td>\n",
       "      <td>VENMO            PAYMENT    ***********6285</td>\n",
       "      <td>Transfer</td>\n",
       "      <td>-62.00</td>\n",
       "      <td>Posted</td>\n",
       "      <td>1</td>\n",
       "      <td>True</td>\n",
       "      <td>True</td>\n",
       "      <td>False</td>\n",
       "      <td>4</td>\n",
       "    </tr>\n",
       "    <tr>\n",
       "      <th>172</th>\n",
       "      <td>2023-06-20</td>\n",
       "      <td>Amazon</td>\n",
       "      <td>AMZN MKTP US*IP12D74E3 AMAMZN.COM/BILLWA</td>\n",
       "      <td>Shopping</td>\n",
       "      <td>-59.56</td>\n",
       "      <td>Posted</td>\n",
       "      <td>6</td>\n",
       "      <td>True</td>\n",
       "      <td>False</td>\n",
       "      <td>False</td>\n",
       "      <td>24</td>\n",
       "    </tr>\n",
       "    <tr>\n",
       "      <th>293</th>\n",
       "      <td>2023-02-15</td>\n",
       "      <td>Gig Car Share Gigcca</td>\n",
       "      <td>GIG CAR SHARE            HTTPSWWW.GIGCCA</td>\n",
       "      <td>Rental Car &amp; Taxi</td>\n",
       "      <td>-59.11</td>\n",
       "      <td>Posted</td>\n",
       "      <td>2</td>\n",
       "      <td>True</td>\n",
       "      <td>False</td>\n",
       "      <td>False</td>\n",
       "      <td>6</td>\n",
       "    </tr>\n",
       "  </tbody>\n",
       "</table>\n",
       "</div>"
      ],
      "text/plain": [
       "           Date                     Description  \\\n",
       "155  2023-07-05               Transfer to Venmo   \n",
       "96   2023-09-07                      Air Canada   \n",
       "97   2023-09-07                      Air Canada   \n",
       "89   2023-09-11                      Air Canada   \n",
       "88   2023-09-11                      Air Canada   \n",
       "71   2023-10-02        Zelle Transfer to Tianxi   \n",
       "94   2023-09-08         Zelle Transfer to Azhan   \n",
       "80   2023-09-28                       Benchmark   \n",
       "16   2023-12-13                            Kawa   \n",
       "41   2023-11-13               Saul's Restaurant   \n",
       "55   2023-10-23            Gig Car Share Gigcca   \n",
       "72   2023-10-02                         Cocotte   \n",
       "11   2023-12-18                          Amazon   \n",
       "228  2023-04-03              Berkeley Ironworks   \n",
       "4    2023-12-28              Benchmark Climbing   \n",
       "208  2023-05-01              Berkeley Ironworks   \n",
       "26   2023-11-28              Benchmark Climbing   \n",
       "275  2023-03-01              Berkeley Ironworks   \n",
       "311  2023-02-01  Berkeley Ironworks Touchstonca   \n",
       "104  2023-09-01              Berkeley Ironworks   \n",
       "49   2023-10-30              Benchmark Climbing   \n",
       "341  2023-01-03  Berkeley Ironworks Touchstonca   \n",
       "24   2023-11-30                          Amazon   \n",
       "90   2023-09-11            Gig Car Share Gigcca   \n",
       "237  2023-03-27                      Mobile ATM   \n",
       "115  2023-08-21                      Bkesslermd   \n",
       "332  2023-01-17                      Mobile ATM   \n",
       "314  2023-01-30               Transfer to Venmo   \n",
       "172  2023-06-20                          Amazon   \n",
       "293  2023-02-15            Gig Car Share Gigcca   \n",
       "\n",
       "                            Original Description           Category   Amount  \\\n",
       "155  VENMO            PAYMENT    ***********6698           Transfer -1532.40   \n",
       "96      AIR CAN*    0142179738157AIRCANADA.COMMB         Air Travel  -386.06   \n",
       "97      AIR CAN*    0142179738158AIRCANADA.COMMB         Air Travel  -386.06   \n",
       "89      AIR CANADA  0142179736909888-2472262  NY         Air Travel  -213.20   \n",
       "88      AIR CANADA  0142179736908888-2472262  NY         Air Travel  -213.20   \n",
       "71                                Zelle:  Tianxi           Transfer  -140.00   \n",
       "94                                 Zelle:  Azhan           Transfer  -137.91   \n",
       "80      FSP*BENCHMARK CL 1607 SHABERKELEY     CA      Entertainment  -135.00   \n",
       "16      KAWA CLUB                KAWA.CLUB    CA           Clothing  -133.08   \n",
       "41      TST* SAUL'S RESTAURANT ANBERKELEY     CA        Restaurants  -118.64   \n",
       "55      GIG CAR SHARE            HTTPSWWW.GIGCCA  Rental Car & Taxi  -102.41   \n",
       "72      SQ *COCOTTE              SAN FRANCISCOCA        Restaurants   -96.82   \n",
       "11      AMZN Mktp US*9F1I60LS3   AMZN.COM/BILLWA           Shopping   -94.34   \n",
       "228     BERKELEY IRONWORKS       WWW.TOUCHSTONCA      Entertainment   -85.00   \n",
       "4       FSP*BENCHMARK CLIMBING   510-973-0335 CA      Entertainment   -85.00   \n",
       "208     BERKELEY IRONWORKS       WWW.TOUCHSTONCA      Entertainment   -85.00   \n",
       "26      FSP*BENCHMARK CLIMBING   510-973-0335 CA      Entertainment   -85.00   \n",
       "275     BERKELEY IRONWORKS       WWW.TOUCHSTONCA      Entertainment   -85.00   \n",
       "311     BERKELEY IRONWORKS       WWW.TOUCHSTONCA      Entertainment   -85.00   \n",
       "104     BERKELEY IRONWORKS       WWW.TOUCHSTONCA      Entertainment   -85.00   \n",
       "49      FSP*BENCHMARK CLIMBING   510-973-0335 CA      Entertainment   -85.00   \n",
       "341     BERKELEY IRONWORKS       WWW.TOUCHSTONCA      Entertainment   -85.00   \n",
       "24      AMZN Mktp US*781VG6QK3   AMZN.COM/BILLWA           Shopping   -83.11   \n",
       "90      GIG CAR SHARE            HTTPSWWW.GIGCCA  Rental Car & Taxi   -76.22   \n",
       "237     2400 MOBILE ATM2384 TELEGBERKELEY     CA               Cash   -73.75   \n",
       "115     NUGGMD CA BKESSLERMD     866-8477205  NY             Doctor   -70.00   \n",
       "332     2400 MOBILE ATM2565 TELEGBERKELEY     CA               Cash   -63.75   \n",
       "314  VENMO            PAYMENT    ***********6285           Transfer   -62.00   \n",
       "172     AMZN MKTP US*IP12D74E3 AMAMZN.COM/BILLWA           Shopping   -59.56   \n",
       "293     GIG CAR SHARE            HTTPSWWW.GIGCCA  Rental Car & Taxi   -59.11   \n",
       "\n",
       "     Status  Month  Expenditure  Transfer to Venmo  Transfer from Venmo  Week  \n",
       "155  Posted      7         True               True                False    26  \n",
       "96   Posted      9         True              False                False    35  \n",
       "97   Posted      9         True              False                False    35  \n",
       "89   Posted      9         True              False                False    36  \n",
       "88   Posted      9         True              False                False    36  \n",
       "71   Posted     10         True              False                False    39  \n",
       "94   Posted      9         True              False                False    35  \n",
       "80   Posted      9         True              False                False    38  \n",
       "16   Posted     12         True              False                False    49  \n",
       "41   Posted     11         True              False                False    45  \n",
       "55   Posted     10         True              False                False    42  \n",
       "72   Posted     10         True              False                False    39  \n",
       "11   Posted     12         True              False                False    50  \n",
       "228  Posted      4         True              False                False    13  \n",
       "4    Posted     12         True              False                False    51  \n",
       "208  Posted      5         True              False                False    17  \n",
       "26   Posted     11         True              False                False    47  \n",
       "275  Posted      3         True              False                False     8  \n",
       "311  Posted      2         True              False                False     4  \n",
       "104  Posted      9         True              False                False    34  \n",
       "49   Posted     10         True              False                False    43  \n",
       "341  Posted      1         True              False                False     0  \n",
       "24   Posted     11         True              False                False    47  \n",
       "90   Posted      9         True              False                False    36  \n",
       "237  Posted      3         True              False                False    12  \n",
       "115  Posted      8         True              False                False    33  \n",
       "332  Posted      1         True              False                False     2  \n",
       "314  Posted      1         True               True                False     4  \n",
       "172  Posted      6         True              False                False    24  \n",
       "293  Posted      2         True              False                False     6  "
      ]
     },
     "execution_count": 13,
     "metadata": {},
     "output_type": "execute_result"
    }
   ],
   "source": [
    "Budgeting_df_annual.sort_values(by = 'Amount').head(30)"
   ]
  },
  {
   "cell_type": "markdown",
   "metadata": {},
   "source": [
    "### Removing one-time large purchases\n",
    "\n",
    "To identify more discernable trends in spending, in the following cell, put the indicies of these anomalous statements into the list (inside .drop). This is a good place to remove any instances of transferring someone else's or your own money, and if you feel that it is not reflective of your weekly spending trends, flights and travel. Removing these outlying and anomalous purchases from the data can help reduce the variance they create, leaving behind more useful trends. "
   ]
  },
  {
   "cell_type": "code",
   "execution_count": 14,
   "metadata": {},
   "outputs": [
    {
     "data": {
      "text/plain": [
       "Week\n",
       "0     -90.12\n",
       "1     -53.56\n",
       "2    -173.53\n",
       "3     -89.61\n",
       "4    -224.46\n",
       "5     -56.95\n",
       "6    -244.80\n",
       "7     -91.01\n",
       "8    -249.90\n",
       "9    -115.28\n",
       "10   -121.26\n",
       "11    -73.08\n",
       "12   -283.49\n",
       "13   -205.16\n",
       "14    -16.98\n",
       "15    -81.18\n",
       "16    -33.79\n",
       "17   -140.44\n",
       "18    -83.66\n",
       "19    -82.31\n",
       "20    -65.76\n",
       "21    -86.60\n",
       "22     -8.25\n",
       "23    -15.34\n",
       "24    -84.60\n",
       "25    -15.30\n",
       "26   -136.74\n",
       "27    -51.16\n",
       "28    -48.80\n",
       "29    -89.38\n",
       "30    -10.00\n",
       "31   -210.89\n",
       "32    -16.44\n",
       "33   -279.11\n",
       "34   -157.93\n",
       "35    -91.34\n",
       "36   -146.73\n",
       "37     -9.43\n",
       "38    -67.64\n",
       "39   -290.43\n",
       "40    -78.29\n",
       "41    -27.15\n",
       "42   -217.84\n",
       "43   -115.56\n",
       "44    -61.16\n",
       "45   -122.74\n",
       "46   -222.71\n",
       "47   -221.02\n",
       "48    -28.28\n",
       "49   -213.07\n",
       "50   -181.37\n",
       "51   -211.42\n",
       "Name: Amount, dtype: float64"
      ]
     },
     "metadata": {},
     "output_type": "display_data"
    },
    {
     "data": {
      "text/plain": [
       "-117.17403846153844"
      ]
     },
     "metadata": {},
     "output_type": "display_data"
    },
    {
     "data": {
      "text/plain": [
       "[<matplotlib.lines.Line2D at 0x12cc078d0>]"
      ]
     },
     "execution_count": 14,
     "metadata": {},
     "output_type": "execute_result"
    },
    {
     "data": {
      "image/png": "[encoded data removed]",
      "text/plain": [
       "<Figure size 640x480 with 1 Axes>"
      ]
     },
     "metadata": {},
     "output_type": "display_data"
    }
   ],
   "source": [
    "droplist = [155, 96, 97, 89, 88, 94, 80]\n",
    "Specific_Spend_df = Budgeting_df_annual.drop(droplist)\n",
    "\n",
    "Weekly_Exp_df = Specific_Spend_df[['Amount', 'Week', 'Expenditure']][Specific_Spend_df['Expenditure'] == True].groupby('Week').sum()\n",
    "display(Weekly_Exp_df['Amount'])\n",
    "display(Weekly_Exp_df['Amount'].mean())\n",
    "plt.plot(Weekly_Exp_df['Amount'] * -1)"
   ]
  },
  {
   "cell_type": "markdown",
   "metadata": {},
   "source": [
    "### Regularizing the Data\n",
    "\n",
    "If you find the above plot to be difficult to interpret (Really spikey), it may be because your spending trends are not consistent week by week. I identified that using four-week averages (because months are not consistent length) works well to identify spending trends throughout the year. Using four week averages helps to regularize the data and get a better sense of what the spending trends look like throughout the year as a whole."
   ]
  },
  {
   "cell_type": "code",
   "execution_count": 15,
   "metadata": {},
   "outputs": [
    {
     "data": {
      "text/html": [
       "<div>\n",
       "<style scoped>\n",
       "    .dataframe tbody tr th:only-of-type {\n",
       "        vertical-align: middle;\n",
       "    }\n",
       "\n",
       "    .dataframe tbody tr th {\n",
       "        vertical-align: top;\n",
       "    }\n",
       "\n",
       "    .dataframe thead th {\n",
       "        text-align: right;\n",
       "    }\n",
       "</style>\n",
       "<table border=\"1\" class=\"dataframe\">\n",
       "  <thead>\n",
       "    <tr style=\"text-align: right;\">\n",
       "      <th></th>\n",
       "      <th>Date</th>\n",
       "      <th>Description</th>\n",
       "      <th>Original Description</th>\n",
       "      <th>Category</th>\n",
       "      <th>Amount</th>\n",
       "      <th>Status</th>\n",
       "      <th>Month</th>\n",
       "      <th>Expenditure</th>\n",
       "      <th>Transfer to Venmo</th>\n",
       "      <th>Transfer from Venmo</th>\n",
       "      <th>Week</th>\n",
       "      <th>4 Week Period</th>\n",
       "      <th>4 Week Period Midpoint</th>\n",
       "    </tr>\n",
       "  </thead>\n",
       "  <tbody>\n",
       "    <tr>\n",
       "      <th>3</th>\n",
       "      <td>2023-12-29</td>\n",
       "      <td>El Limon</td>\n",
       "      <td>EL LIMON - NORRISTOWN    NORRISTOWN   PA</td>\n",
       "      <td>Restaurants</td>\n",
       "      <td>-13.78</td>\n",
       "      <td>Posted</td>\n",
       "      <td>12</td>\n",
       "      <td>True</td>\n",
       "      <td>False</td>\n",
       "      <td>False</td>\n",
       "      <td>51</td>\n",
       "      <td>13</td>\n",
       "      <td>50</td>\n",
       "    </tr>\n",
       "    <tr>\n",
       "      <th>4</th>\n",
       "      <td>2023-12-28</td>\n",
       "      <td>Benchmark Climbing</td>\n",
       "      <td>FSP*BENCHMARK CLIMBING   510-973-0335 CA</td>\n",
       "      <td>Entertainment</td>\n",
       "      <td>-85.00</td>\n",
       "      <td>Posted</td>\n",
       "      <td>12</td>\n",
       "      <td>True</td>\n",
       "      <td>False</td>\n",
       "      <td>False</td>\n",
       "      <td>51</td>\n",
       "      <td>13</td>\n",
       "      <td>50</td>\n",
       "    </tr>\n",
       "    <tr>\n",
       "      <th>5</th>\n",
       "      <td>2023-12-28</td>\n",
       "      <td>Reach Climbing</td>\n",
       "      <td>REACH CLIMBING           154-13165747 PA</td>\n",
       "      <td>Entertainment</td>\n",
       "      <td>-20.00</td>\n",
       "      <td>Posted</td>\n",
       "      <td>12</td>\n",
       "      <td>True</td>\n",
       "      <td>False</td>\n",
       "      <td>False</td>\n",
       "      <td>51</td>\n",
       "      <td>13</td>\n",
       "      <td>50</td>\n",
       "    </tr>\n",
       "    <tr>\n",
       "      <th>6</th>\n",
       "      <td>2023-12-26</td>\n",
       "      <td>Transfer to Venmo</td>\n",
       "      <td>VENMO            PAYMENT    ***********0502</td>\n",
       "      <td>Transfer</td>\n",
       "      <td>-32.97</td>\n",
       "      <td>Posted</td>\n",
       "      <td>12</td>\n",
       "      <td>True</td>\n",
       "      <td>True</td>\n",
       "      <td>False</td>\n",
       "      <td>51</td>\n",
       "      <td>13</td>\n",
       "      <td>50</td>\n",
       "    </tr>\n",
       "    <tr>\n",
       "      <th>7</th>\n",
       "      <td>2023-12-26</td>\n",
       "      <td>Crate &amp; Barrel</td>\n",
       "      <td>CRATE &amp; BARREL #631 20   KING OF PRUSSPA</td>\n",
       "      <td>Furnishings</td>\n",
       "      <td>-51.67</td>\n",
       "      <td>Posted</td>\n",
       "      <td>12</td>\n",
       "      <td>True</td>\n",
       "      <td>False</td>\n",
       "      <td>False</td>\n",
       "      <td>51</td>\n",
       "      <td>13</td>\n",
       "      <td>50</td>\n",
       "    </tr>\n",
       "    <tr>\n",
       "      <th>...</th>\n",
       "      <td>...</td>\n",
       "      <td>...</td>\n",
       "      <td>...</td>\n",
       "      <td>...</td>\n",
       "      <td>...</td>\n",
       "      <td>...</td>\n",
       "      <td>...</td>\n",
       "      <td>...</td>\n",
       "      <td>...</td>\n",
       "      <td>...</td>\n",
       "      <td>...</td>\n",
       "      <td>...</td>\n",
       "      <td>...</td>\n",
       "    </tr>\n",
       "    <tr>\n",
       "      <th>338</th>\n",
       "      <td>2023-01-10</td>\n",
       "      <td>Chipotle</td>\n",
       "      <td>CHIPOTLE ONLINE          949-524-4000 CA</td>\n",
       "      <td>Fast Food</td>\n",
       "      <td>-31.54</td>\n",
       "      <td>Posted</td>\n",
       "      <td>1</td>\n",
       "      <td>True</td>\n",
       "      <td>False</td>\n",
       "      <td>False</td>\n",
       "      <td>1</td>\n",
       "      <td>1</td>\n",
       "      <td>2</td>\n",
       "    </tr>\n",
       "    <tr>\n",
       "      <th>339</th>\n",
       "      <td>2023-01-09</td>\n",
       "      <td>Starbucks</td>\n",
       "      <td>STARBUCKS 71218 3400708  CRANBURY     NJ</td>\n",
       "      <td>Coffee Shops</td>\n",
       "      <td>-10.02</td>\n",
       "      <td>Posted</td>\n",
       "      <td>1</td>\n",
       "      <td>True</td>\n",
       "      <td>False</td>\n",
       "      <td>False</td>\n",
       "      <td>1</td>\n",
       "      <td>1</td>\n",
       "      <td>2</td>\n",
       "    </tr>\n",
       "    <tr>\n",
       "      <th>340</th>\n",
       "      <td>2023-01-06</td>\n",
       "      <td>Transfer from Venmo</td>\n",
       "      <td>VENMO            CASHOUT    ***********3413</td>\n",
       "      <td>Transfer</td>\n",
       "      <td>380.00</td>\n",
       "      <td>Posted</td>\n",
       "      <td>1</td>\n",
       "      <td>False</td>\n",
       "      <td>False</td>\n",
       "      <td>True</td>\n",
       "      <td>0</td>\n",
       "      <td>1</td>\n",
       "      <td>2</td>\n",
       "    </tr>\n",
       "    <tr>\n",
       "      <th>341</th>\n",
       "      <td>2023-01-03</td>\n",
       "      <td>Berkeley Ironworks Touchstonca</td>\n",
       "      <td>BERKELEY IRONWORKS       WWW.TOUCHSTONCA</td>\n",
       "      <td>Entertainment</td>\n",
       "      <td>-85.00</td>\n",
       "      <td>Posted</td>\n",
       "      <td>1</td>\n",
       "      <td>True</td>\n",
       "      <td>False</td>\n",
       "      <td>False</td>\n",
       "      <td>0</td>\n",
       "      <td>1</td>\n",
       "      <td>2</td>\n",
       "    </tr>\n",
       "    <tr>\n",
       "      <th>342</th>\n",
       "      <td>2023-01-03</td>\n",
       "      <td>Tea Do N 10th</td>\n",
       "      <td>TEA DO132 N 10TH ST      PHILADELPHIA PA</td>\n",
       "      <td>Fast Food</td>\n",
       "      <td>-5.12</td>\n",
       "      <td>Posted</td>\n",
       "      <td>1</td>\n",
       "      <td>True</td>\n",
       "      <td>False</td>\n",
       "      <td>False</td>\n",
       "      <td>0</td>\n",
       "      <td>1</td>\n",
       "      <td>2</td>\n",
       "    </tr>\n",
       "  </tbody>\n",
       "</table>\n",
       "<p>333 rows × 13 columns</p>\n",
       "</div>"
      ],
      "text/plain": [
       "           Date                     Description  \\\n",
       "3    2023-12-29                        El Limon   \n",
       "4    2023-12-28              Benchmark Climbing   \n",
       "5    2023-12-28                  Reach Climbing   \n",
       "6    2023-12-26               Transfer to Venmo   \n",
       "7    2023-12-26                  Crate & Barrel   \n",
       "..          ...                             ...   \n",
       "338  2023-01-10                        Chipotle   \n",
       "339  2023-01-09                       Starbucks   \n",
       "340  2023-01-06             Transfer from Venmo   \n",
       "341  2023-01-03  Berkeley Ironworks Touchstonca   \n",
       "342  2023-01-03                   Tea Do N 10th   \n",
       "\n",
       "                            Original Description       Category  Amount  \\\n",
       "3       EL LIMON - NORRISTOWN    NORRISTOWN   PA    Restaurants  -13.78   \n",
       "4       FSP*BENCHMARK CLIMBING   510-973-0335 CA  Entertainment  -85.00   \n",
       "5       REACH CLIMBING           154-13165747 PA  Entertainment  -20.00   \n",
       "6    VENMO            PAYMENT    ***********0502       Transfer  -32.97   \n",
       "7       CRATE & BARREL #631 20   KING OF PRUSSPA    Furnishings  -51.67   \n",
       "..                                           ...            ...     ...   \n",
       "338     CHIPOTLE ONLINE          949-524-4000 CA      Fast Food  -31.54   \n",
       "339     STARBUCKS 71218 3400708  CRANBURY     NJ   Coffee Shops  -10.02   \n",
       "340  VENMO            CASHOUT    ***********3413       Transfer  380.00   \n",
       "341     BERKELEY IRONWORKS       WWW.TOUCHSTONCA  Entertainment  -85.00   \n",
       "342     TEA DO132 N 10TH ST      PHILADELPHIA PA      Fast Food   -5.12   \n",
       "\n",
       "     Status  Month  Expenditure  Transfer to Venmo  Transfer from Venmo  Week  \\\n",
       "3    Posted     12         True              False                False    51   \n",
       "4    Posted     12         True              False                False    51   \n",
       "5    Posted     12         True              False                False    51   \n",
       "6    Posted     12         True               True                False    51   \n",
       "7    Posted     12         True              False                False    51   \n",
       "..      ...    ...          ...                ...                  ...   ...   \n",
       "338  Posted      1         True              False                False     1   \n",
       "339  Posted      1         True              False                False     1   \n",
       "340  Posted      1        False              False                 True     0   \n",
       "341  Posted      1         True              False                False     0   \n",
       "342  Posted      1         True              False                False     0   \n",
       "\n",
       "     4 Week Period  4 Week Period Midpoint  \n",
       "3               13                      50  \n",
       "4               13                      50  \n",
       "5               13                      50  \n",
       "6               13                      50  \n",
       "7               13                      50  \n",
       "..             ...                     ...  \n",
       "338              1                       2  \n",
       "339              1                       2  \n",
       "340              1                       2  \n",
       "341              1                       2  \n",
       "342              1                       2  \n",
       "\n",
       "[333 rows x 13 columns]"
      ]
     },
     "metadata": {},
     "output_type": "display_data"
    },
    {
     "data": {
      "text/plain": [
       "[<matplotlib.lines.Line2D at 0x12ccc7590>]"
      ]
     },
     "execution_count": 15,
     "metadata": {},
     "output_type": "execute_result"
    },
    {
     "data": {
      "image/png": "[encoded data removed]",
      "text/plain": [
       "<Figure size 640x480 with 1 Axes>"
      ]
     },
     "metadata": {},
     "output_type": "display_data"
    }
   ],
   "source": [
    "Specific_Spend_df['4 Week Period'] = ((Specific_Spend_df['Week']) // 4) + 1\n",
    "Specific_Spend_df['4 Week Period Midpoint'] = (Specific_Spend_df['4 Week Period'] * 4) - 2\n",
    "display(Specific_Spend_df)\n",
    "QuadWeekly_Exp_df = Specific_Spend_df[['Amount', '4 Week Period Midpoint', 'Expenditure']][Specific_Spend_df['Expenditure'] == True].groupby('4 Week Period Midpoint').sum()\n",
    "\n",
    "plt.plot(Weekly_Exp_df['Amount'] * -1)\n",
    "plt.plot(QuadWeekly_Exp_df['Amount'] * -0.25)"
   ]
  },
  {
   "cell_type": "markdown",
   "metadata": {},
   "source": [
    "## Checking Subscriptions\n",
    "\n",
    "It's typically good to see what payments are subscription ones, and to see what effect those have on spending patterns. Subscriptions aren't really 'discretionary spending' per say, since we usually keep them for some service that we enjoy regularly. Thus, it is important to analyze how our spending habits appear both before and after subscription payments.\n",
    "\n",
    "Subscriptions are identified here as any statements of the same amount and description that occurred in distinct months from each other, at least 3 times. What is not counted is statements that are repeated multiple times in the same month, initiation fees for subscriptions, and statements that occur less than 3 times. If there are statements which fit this description but you still deem them to be 'subscriptions', add them above in the anomalous purchases section. "
   ]
  },
  {
   "cell_type": "code",
   "execution_count": 16,
   "metadata": {},
   "outputs": [],
   "source": [
    "Recurring_df = Budgeting_df_annual[Budgeting_df_annual.duplicated(subset = ['Original Description', 'Amount'], keep = False)]\n",
    "Recurring_df['group'] = Recurring_df.groupby(['Original Description', 'Amount']).ngroup()\n",
    "Recurring_df['Subscription'] = Recurring_df.groupby('group')['Month'].transform(lambda x: x.nunique() == len(x) and len(x) > 2)\n",
    "sub_inds = Recurring_df[Recurring_df['Subscription'] == True].index\n",
    "\n",
    "Budgeting_df_annual['Subscription'] = False\n",
    "Budgeting_df_annual.loc[sub_inds, 'Subscription'] = True"
   ]
  },
  {
   "cell_type": "code",
   "execution_count": 17,
   "metadata": {},
   "outputs": [
    {
     "name": "stdout",
     "output_type": "stream",
     "text": [
      "\n",
      " 4 week period subscription spending:\n"
     ]
    },
    {
     "data": {
      "text/html": [
       "<div>\n",
       "<style scoped>\n",
       "    .dataframe tbody tr th:only-of-type {\n",
       "        vertical-align: middle;\n",
       "    }\n",
       "\n",
       "    .dataframe tbody tr th {\n",
       "        vertical-align: top;\n",
       "    }\n",
       "\n",
       "    .dataframe thead th {\n",
       "        text-align: right;\n",
       "    }\n",
       "</style>\n",
       "<table border=\"1\" class=\"dataframe\">\n",
       "  <thead>\n",
       "    <tr style=\"text-align: right;\">\n",
       "      <th></th>\n",
       "      <th>Amount</th>\n",
       "      <th>Expenditure</th>\n",
       "    </tr>\n",
       "    <tr>\n",
       "      <th>4 Week Period Midpoint</th>\n",
       "      <th></th>\n",
       "      <th></th>\n",
       "    </tr>\n",
       "  </thead>\n",
       "  <tbody>\n",
       "    <tr>\n",
       "      <th>2</th>\n",
       "      <td>-85.0</td>\n",
       "      <td>1</td>\n",
       "    </tr>\n",
       "    <tr>\n",
       "      <th>6</th>\n",
       "      <td>-85.0</td>\n",
       "      <td>1</td>\n",
       "    </tr>\n",
       "    <tr>\n",
       "      <th>10</th>\n",
       "      <td>-85.0</td>\n",
       "      <td>1</td>\n",
       "    </tr>\n",
       "    <tr>\n",
       "      <th>14</th>\n",
       "      <td>-85.0</td>\n",
       "      <td>1</td>\n",
       "    </tr>\n",
       "    <tr>\n",
       "      <th>18</th>\n",
       "      <td>-85.0</td>\n",
       "      <td>1</td>\n",
       "    </tr>\n",
       "    <tr>\n",
       "      <th>22</th>\n",
       "      <td>-10.0</td>\n",
       "      <td>1</td>\n",
       "    </tr>\n",
       "    <tr>\n",
       "      <th>30</th>\n",
       "      <td>-10.0</td>\n",
       "      <td>1</td>\n",
       "    </tr>\n",
       "    <tr>\n",
       "      <th>34</th>\n",
       "      <td>-85.0</td>\n",
       "      <td>1</td>\n",
       "    </tr>\n",
       "    <tr>\n",
       "      <th>38</th>\n",
       "      <td>-10.0</td>\n",
       "      <td>1</td>\n",
       "    </tr>\n",
       "    <tr>\n",
       "      <th>42</th>\n",
       "      <td>-95.0</td>\n",
       "      <td>2</td>\n",
       "    </tr>\n",
       "    <tr>\n",
       "      <th>46</th>\n",
       "      <td>-85.0</td>\n",
       "      <td>1</td>\n",
       "    </tr>\n",
       "    <tr>\n",
       "      <th>50</th>\n",
       "      <td>-85.0</td>\n",
       "      <td>1</td>\n",
       "    </tr>\n",
       "  </tbody>\n",
       "</table>\n",
       "</div>"
      ],
      "text/plain": [
       "                        Amount  Expenditure\n",
       "4 Week Period Midpoint                     \n",
       "2                        -85.0            1\n",
       "6                        -85.0            1\n",
       "10                       -85.0            1\n",
       "14                       -85.0            1\n",
       "18                       -85.0            1\n",
       "22                       -10.0            1\n",
       "30                       -10.0            1\n",
       "34                       -85.0            1\n",
       "38                       -10.0            1\n",
       "42                       -95.0            2\n",
       "46                       -85.0            1\n",
       "50                       -85.0            1"
      ]
     },
     "metadata": {},
     "output_type": "display_data"
    },
    {
     "name": "stdout",
     "output_type": "stream",
     "text": [
      "\n",
      "\n",
      " Overlay plot:\n"
     ]
    },
    {
     "data": {
      "text/plain": [
       "(0.0, 350.0)"
      ]
     },
     "execution_count": 17,
     "metadata": {},
     "output_type": "execute_result"
    },
    {
     "data": {
      "image/png": "[encoded data removed]",
      "text/plain": [
       "<Figure size 1000x800 with 1 Axes>"
      ]
     },
     "metadata": {},
     "output_type": "display_data"
    }
   ],
   "source": [
    "Specific_Spend_df = Budgeting_df_annual.drop(droplist)\n",
    "Specific_Spend_df['4 Week Period'] = ((Specific_Spend_df['Week']) // 4) + 1\n",
    "Specific_Spend_df['4 Week Period Midpoint'] = (Specific_Spend_df['4 Week Period'] * 4) - 2\n",
    "\n",
    "noSub_weekly = Specific_Spend_df[Specific_Spend_df['Subscription'] == False][['Amount', 'Week', 'Expenditure']][Specific_Spend_df['Expenditure'] == True].groupby('Week').sum()\n",
    "noSub_Quad = Specific_Spend_df[Specific_Spend_df['Subscription'] == False][['Amount', '4 Week Period Midpoint', 'Expenditure']][Specific_Spend_df['Expenditure'] == True].groupby('4 Week Period Midpoint').sum()\n",
    "\n",
    "Sub_only_4 = Specific_Spend_df[Specific_Spend_df['Subscription'] == True][['Amount', '4 Week Period Midpoint', 'Expenditure']][Specific_Spend_df['Expenditure'] == True].groupby('4 Week Period Midpoint').sum()\n",
    "\n",
    "print('\\n 4 week period subscription spending:')\n",
    "display(Sub_only_4)\n",
    "\n",
    "print('\\n\\n Overlay plot:')\n",
    "from matplotlib.pyplot import figure\n",
    "## Uncomment the commented lines to include the weekly overlay\n",
    "\n",
    "figure(figsize = (10,8))\n",
    "# plt.plot(Weekly_Exp_df['Amount'] * -1)\n",
    "plt.plot(QuadWeekly_Exp_df['Amount'] * -0.25)\n",
    "# plt.plot(noSub_weekly['Amount'] * -1)\n",
    "plt.plot(noSub_Quad['Amount'] * -0.25)\n",
    "plt.plot(Sub_only_4['Amount'] * -1)\n",
    "plt.legend([#'Weekly Totals', \n",
    "            '4 Week (Avg, at midpoint)', \n",
    "            #'Weekly Without Subscriptions', \n",
    "            '4 Week Without Subscriptions (Avg, at midpoint)', \n",
    "            '4 Week, Only Subscriptions (Total)'], fontsize = 6)\n",
    "plt.ylim(0, 350)"
   ]
  },
  {
   "cell_type": "markdown",
   "metadata": {},
   "source": [
    "## Spending By Category\n",
    "\n",
    "Now that we can discern subscriptions from discretionary spending, lets stratify the types of spending, to see where our spending tends to fall. We first look at the spending trends on a weekly basis(click each category on the plot to view it):"
   ]
  },
  {
   "cell_type": "code",
   "execution_count": 47,
   "metadata": {},
   "outputs": [
    {
     "data": {
      "application/vnd.plotly.v1+json": {
       "config": {
        "plotlyServerURL": "https://plot.ly"
       },
       "data": [
        {
         "hovertemplate": "Category=Fast Food<br>Week=%{x}<br>Weekly Total=%{y}<extra></extra>",
         "legendgroup": "Fast Food",
         "line": {
          "color": "#636efa",
          "dash": "solid"
         },
         "marker": {
          "symbol": "circle"
         },
         "mode": "lines",
         "name": "Fast Food",
         "orientation": "v",
         "showlegend": true,
         "type": "scatter",
         "x": [
          0,
          1,
          3,
          4,
          7,
          8,
          10,
          11,
          12,
          17,
          19,
          20,
          21,
          22,
          23,
          24,
          25,
          26,
          28,
          29,
          31,
          32,
          35,
          37,
          38,
          42,
          43,
          50
         ],
         "xaxis": "x",
         "y": [
          5.12,
          31.54,
          23.81,
          11.57,
          27.81,
          22.23,
          1,
          10,
          24.02,
          47.24,
          8.36,
          2.29,
          4.98,
          8.25,
          5.34,
          2.29,
          6.44,
          9.030000000000001,
          2.49,
          4.38,
          23.27,
          2.59,
          4.25,
          3.95,
          3.95,
          26.28,
          13.56,
          6.81
         ],
         "yaxis": "y"
        },
        {
         "hovertemplate": "Category=Restaurants<br>Week=%{x}<br>Weekly Total=%{y}<extra></extra>",
         "legendgroup": "Restaurants",
         "line": {
          "color": "#EF553B",
          "dash": "solid"
         },
         "marker": {
          "symbol": "circle"
         },
         "mode": "lines",
         "name": "Restaurants",
         "orientation": "v",
         "showlegend": true,
         "type": "scatter",
         "visible": "legendonly",
         "x": [
          2,
          3,
          4,
          6,
          8,
          9,
          10,
          11,
          12,
          13,
          18,
          19,
          20,
          25,
          26,
          28,
          31,
          33,
          34,
          35,
          38,
          39,
          40,
          41,
          45,
          46,
          49,
          51
         ],
         "xaxis": "x",
         "y": [
          10.75,
          16.65,
          21.52,
          35.09,
          26.54,
          14.28,
          20.04,
          14.28,
          40.71,
          12.69,
          13.04,
          29.9,
          19.29,
          2.11,
          44.519999999999996,
          46.31,
          62.480000000000004,
          58.33,
          35.11,
          3.87,
          24.93,
          96.82,
          8.15,
          7.15,
          118.64,
          17.72,
          54.24,
          13.78
         ],
         "yaxis": "y"
        },
        {
         "hovertemplate": "Category=Transfer<br>Week=%{x}<br>Weekly Total=%{y}<extra></extra>",
         "legendgroup": "Transfer",
         "line": {
          "color": "#00cc96",
          "dash": "solid"
         },
         "marker": {
          "symbol": "circle"
         },
         "mode": "lines",
         "name": "Transfer",
         "orientation": "v",
         "showlegend": true,
         "type": "scatter",
         "visible": "legendonly",
         "x": [
          1,
          2,
          4,
          5,
          6,
          8,
          9,
          12,
          13,
          14,
          15,
          16,
          20,
          21,
          26,
          27,
          36,
          38,
          39,
          41,
          42,
          43,
          44,
          45,
          46,
          48,
          51
         ],
         "xaxis": "x",
         "y": [
          12,
          5,
          63,
          12.95,
          4,
          20,
          30,
          9,
          55,
          11,
          37.15,
          23.89,
          22,
          12.25,
          12,
          34,
          20,
          15,
          140,
          20,
          33,
          7,
          5,
          4.1,
          35,
          3,
          32.97
         ],
         "yaxis": "y"
        },
        {
         "hovertemplate": "Category=Groceries<br>Week=%{x}<br>Weekly Total=%{y}<extra></extra>",
         "legendgroup": "Groceries",
         "line": {
          "color": "#ab63fa",
          "dash": "solid"
         },
         "marker": {
          "symbol": "circle"
         },
         "mode": "lines",
         "name": "Groceries",
         "orientation": "v",
         "showlegend": true,
         "type": "scatter",
         "visible": "legendonly",
         "x": [
          2,
          8,
          9,
          11,
          12,
          14,
          15,
          16,
          24,
          31,
          34,
          35,
          37,
          38,
          39,
          40,
          48,
          49
         ],
         "xaxis": "x",
         "y": [
          6.67,
          3.75,
          8.98,
          5,
          40.79,
          5.98,
          9.91,
          9.9,
          5.75,
          22.8,
          4.92,
          22.68,
          5.48,
          16.77,
          9.91,
          16.49,
          8.99,
          11.98
         ],
         "yaxis": "y"
        },
        {
         "hovertemplate": "Category=Shopping<br>Week=%{x}<br>Weekly Total=%{y}<extra></extra>",
         "legendgroup": "Shopping",
         "line": {
          "color": "#FFA15A",
          "dash": "solid"
         },
         "marker": {
          "symbol": "circle"
         },
         "mode": "lines",
         "name": "Shopping",
         "orientation": "v",
         "showlegend": true,
         "type": "scatter",
         "visible": "legendonly",
         "x": [
          2,
          9,
          15,
          21,
          24,
          27,
          29,
          33,
          36,
          40,
          42,
          44,
          46,
          47,
          48,
          50
         ],
         "xaxis": "x",
         "y": [
          30.5,
          23.14,
          34.12,
          18,
          59.56,
          5.69,
          41.5,
          60.92,
          8.26,
          50.339999999999996,
          27.55,
          8.26,
          32.41,
          136.01999999999998,
          8.26,
          165.02
         ],
         "yaxis": "y"
        },
        {
         "hovertemplate": "Category=Rental Car & Taxi<br>Week=%{x}<br>Weekly Total=%{y}<extra></extra>",
         "legendgroup": "Rental Car & Taxi",
         "line": {
          "color": "#19d3f3",
          "dash": "solid"
         },
         "marker": {
          "symbol": "circle"
         },
         "mode": "lines",
         "name": "Rental Car & Taxi",
         "orientation": "v",
         "showlegend": true,
         "type": "scatter",
         "visible": "legendonly",
         "x": [
          3,
          4,
          6,
          7,
          8,
          10,
          11,
          12,
          19,
          32,
          36,
          39,
          42,
          46,
          49
         ],
         "xaxis": "x",
         "y": [
          40.74,
          35.37,
          163.39,
          31.8,
          39.97,
          93.84,
          43.8,
          39.74,
          35.3,
          13.85,
          76.22,
          33.7,
          131.01,
          57.5,
          9.91
         ],
         "yaxis": "y"
        },
        {
         "hovertemplate": "Category=Entertainment<br>Week=%{x}<br>Weekly Total=%{y}<extra></extra>",
         "legendgroup": "Entertainment",
         "line": {
          "color": "#FF6692",
          "dash": "solid"
         },
         "marker": {
          "symbol": "circle"
         },
         "mode": "lines",
         "name": "Entertainment",
         "orientation": "v",
         "showlegend": true,
         "type": "scatter",
         "visible": "legendonly",
         "x": [
          5,
          6,
          9,
          18,
          26,
          34,
          40,
          46,
          49,
          51
         ],
         "xaxis": "x",
         "y": [
          4,
          10,
          15,
          18.8,
          10,
          32.9,
          3.31,
          6.61,
          3.86,
          28
         ],
         "yaxis": "y"
        },
        {
         "hovertemplate": "Category=Food & Dining<br>Week=%{x}<br>Weekly Total=%{y}<extra></extra>",
         "legendgroup": "Food & Dining",
         "line": {
          "color": "#B6E880",
          "dash": "solid"
         },
         "marker": {
          "symbol": "circle"
         },
         "mode": "lines",
         "name": "Food & Dining",
         "orientation": "v",
         "showlegend": true,
         "type": "scatter",
         "visible": "legendonly",
         "x": [
          17,
          21,
          26,
          27,
          31,
          33,
          38,
          46
         ],
         "xaxis": "x",
         "y": [
          8.2,
          19.04,
          33.25,
          11.47,
          44.59,
          23.06,
          6.99,
          15.440000000000001
         ],
         "yaxis": "y"
        },
        {
         "hovertemplate": "Category=Gas<br>Week=%{x}<br>Weekly Total=%{y}<extra></extra>",
         "legendgroup": "Gas",
         "line": {
          "color": "#FF97FF",
          "dash": "solid"
         },
         "marker": {
          "symbol": "circle"
         },
         "mode": "lines",
         "name": "Gas",
         "orientation": "v",
         "showlegend": true,
         "type": "scatter",
         "visible": "legendonly",
         "x": [
          2,
          10,
          12,
          13,
          19,
          21,
          36
         ],
         "xaxis": "x",
         "y": [
          10.81,
          6.38,
          30.19,
          16.810000000000002,
          8.75,
          32.33,
          42.25
         ],
         "yaxis": "y"
        },
        {
         "hovertemplate": "Category=Pharmacy<br>Week=%{x}<br>Weekly Total=%{y}<extra></extra>",
         "legendgroup": "Pharmacy",
         "line": {
          "color": "#FECB52",
          "dash": "solid"
         },
         "marker": {
          "symbol": "circle"
         },
         "mode": "lines",
         "name": "Pharmacy",
         "orientation": "v",
         "showlegend": true,
         "type": "scatter",
         "visible": "legendonly",
         "x": [
          2,
          6,
          7,
          12,
          13,
          18,
          35
         ],
         "xaxis": "x",
         "y": [
          46.05,
          25.32,
          31.4,
          25.29,
          31.41,
          8.82,
          49.59
         ],
         "yaxis": "y"
        },
        {
         "hovertemplate": "Category=Coffee Shops<br>Week=%{x}<br>Weekly Total=%{y}<extra></extra>",
         "legendgroup": "Coffee Shops",
         "line": {
          "color": "#636efa",
          "dash": "solid"
         },
         "marker": {
          "symbol": "circle"
         },
         "mode": "lines",
         "name": "Coffee Shops",
         "orientation": "v",
         "showlegend": true,
         "type": "scatter",
         "visible": "legendonly",
         "x": [
          1,
          3,
          13,
          20,
          35,
          44,
          50
         ],
         "xaxis": "x",
         "y": [
          10.02,
          4.41,
          4.25,
          7.18,
          10.95,
          16.1,
          9.54
         ],
         "yaxis": "y"
        },
        {
         "hovertemplate": "Category=Cash<br>Week=%{x}<br>Weekly Total=%{y}<extra></extra>",
         "legendgroup": "Cash",
         "line": {
          "color": "#EF553B",
          "dash": "solid"
         },
         "marker": {
          "symbol": "circle"
         },
         "mode": "lines",
         "name": "Cash",
         "orientation": "v",
         "showlegend": true,
         "type": "scatter",
         "visible": "legendonly",
         "x": [
          2,
          12,
          18,
          29,
          31,
          33,
          46
         ],
         "xaxis": "x",
         "y": [
          63.75,
          73.75,
          43,
          43.5,
          17.25,
          33.75,
          46.62
         ],
         "yaxis": "y"
        },
        {
         "hovertemplate": "Category=Public Transportation<br>Week=%{x}<br>Weekly Total=%{y}<extra></extra>",
         "legendgroup": "Public Transportation",
         "line": {
          "color": "#00cc96",
          "dash": "solid"
         },
         "marker": {
          "symbol": "circle"
         },
         "mode": "lines",
         "name": "Public Transportation",
         "orientation": "v",
         "showlegend": true,
         "type": "scatter",
         "visible": "legendonly",
         "x": [
          20,
          25,
          31
         ],
         "xaxis": "x",
         "y": [
          15,
          6.75,
          40.5
         ],
         "yaxis": "y"
        },
        {
         "hovertemplate": "Category=Clothing<br>Week=%{x}<br>Weekly Total=%{y}<extra></extra>",
         "legendgroup": "Clothing",
         "line": {
          "color": "#ab63fa",
          "dash": "solid"
         },
         "marker": {
          "symbol": "circle"
         },
         "mode": "lines",
         "name": "Clothing",
         "orientation": "v",
         "showlegend": true,
         "type": "scatter",
         "visible": "legendonly",
         "x": [
          44,
          46,
          49
         ],
         "xaxis": "x",
         "y": [
          31.8,
          11.41,
          133.08
         ],
         "yaxis": "y"
        },
        {
         "hovertemplate": "Category=Education<br>Week=%{x}<br>Weekly Total=%{y}<extra></extra>",
         "legendgroup": "Education",
         "line": {
          "color": "#FFA15A",
          "dash": "solid"
         },
         "marker": {
          "symbol": "circle"
         },
         "mode": "lines",
         "name": "Education",
         "orientation": "v",
         "showlegend": true,
         "type": "scatter",
         "visible": "legendonly",
         "x": [
          5,
          6
         ],
         "xaxis": "x",
         "y": [
          40,
          7
         ],
         "yaxis": "y"
        },
        {
         "hovertemplate": "Category=Laundry<br>Week=%{x}<br>Weekly Total=%{y}<extra></extra>",
         "legendgroup": "Laundry",
         "line": {
          "color": "#19d3f3",
          "dash": "solid"
         },
         "marker": {
          "symbol": "circle"
         },
         "mode": "lines",
         "name": "Laundry",
         "orientation": "v",
         "showlegend": true,
         "type": "scatter",
         "visible": "legendonly",
         "x": [
          3,
          4
         ],
         "xaxis": "x",
         "y": [
          4,
          8
         ],
         "yaxis": "y"
        },
        {
         "hovertemplate": "Category=Electronics & Software<br>Week=%{x}<br>Weekly Total=%{y}<extra></extra>",
         "legendgroup": "Electronics & Software",
         "line": {
          "color": "#FF6692",
          "dash": "solid"
         },
         "marker": {
          "symbol": "circle"
         },
         "mode": "lines",
         "name": "Electronics & Software",
         "orientation": "v",
         "showlegend": true,
         "type": "scatter",
         "visible": "legendonly",
         "x": [
          9
         ],
         "xaxis": "x",
         "y": [
          23.88
         ],
         "yaxis": "y"
        },
        {
         "hovertemplate": "Category=Alcohol & Bars<br>Week=%{x}<br>Weekly Total=%{y}<extra></extra>",
         "legendgroup": "Alcohol & Bars",
         "line": {
          "color": "#B6E880",
          "dash": "solid"
         },
         "marker": {
          "symbol": "circle"
         },
         "mode": "lines",
         "name": "Alcohol & Bars",
         "orientation": "v",
         "showlegend": true,
         "type": "scatter",
         "visible": "legendonly",
         "x": [
          8
         ],
         "xaxis": "x",
         "y": [
          52.41
         ],
         "yaxis": "y"
        },
        {
         "hovertemplate": "Category=Movies & Dvds<br>Week=%{x}<br>Weekly Total=%{y}<extra></extra>",
         "legendgroup": "Movies & Dvds",
         "line": {
          "color": "#FF97FF",
          "dash": "solid"
         },
         "marker": {
          "symbol": "circle"
         },
         "mode": "lines",
         "name": "Movies & Dvds",
         "orientation": "v",
         "showlegend": true,
         "type": "scatter",
         "visible": "legendonly",
         "x": [
          24
         ],
         "xaxis": "x",
         "y": [
          17
         ],
         "yaxis": "y"
        },
        {
         "hovertemplate": "Category=Travel<br>Week=%{x}<br>Weekly Total=%{y}<extra></extra>",
         "legendgroup": "Travel",
         "line": {
          "color": "#FECB52",
          "dash": "solid"
         },
         "marker": {
          "symbol": "circle"
         },
         "mode": "lines",
         "name": "Travel",
         "orientation": "v",
         "showlegend": true,
         "type": "scatter",
         "visible": "legendonly",
         "x": [
          26
         ],
         "xaxis": "x",
         "y": [
          18
         ],
         "yaxis": "y"
        },
        {
         "hovertemplate": "Category=Newspapers & Magazines<br>Week=%{x}<br>Weekly Total=%{y}<extra></extra>",
         "legendgroup": "Newspapers & Magazines",
         "line": {
          "color": "#636efa",
          "dash": "solid"
         },
         "marker": {
          "symbol": "circle"
         },
         "mode": "lines",
         "name": "Newspapers & Magazines",
         "orientation": "v",
         "showlegend": true,
         "type": "scatter",
         "visible": "legendonly",
         "x": [
          26
         ],
         "xaxis": "x",
         "y": [
          9.94
         ],
         "yaxis": "y"
        },
        {
         "hovertemplate": "Category=Doctor<br>Week=%{x}<br>Weekly Total=%{y}<extra></extra>",
         "legendgroup": "Doctor",
         "line": {
          "color": "#EF553B",
          "dash": "solid"
         },
         "marker": {
          "symbol": "circle"
         },
         "mode": "lines",
         "name": "Doctor",
         "orientation": "v",
         "showlegend": true,
         "type": "scatter",
         "visible": "legendonly",
         "x": [
          33
         ],
         "xaxis": "x",
         "y": [
          70
         ],
         "yaxis": "y"
        },
        {
         "hovertemplate": "Category=Music<br>Week=%{x}<br>Weekly Total=%{y}<extra></extra>",
         "legendgroup": "Music",
         "line": {
          "color": "#00cc96",
          "dash": "solid"
         },
         "marker": {
          "symbol": "circle"
         },
         "mode": "lines",
         "name": "Music",
         "orientation": "v",
         "showlegend": true,
         "type": "scatter",
         "visible": "legendonly",
         "x": [
          33
         ],
         "xaxis": "x",
         "y": [
          33.05
         ],
         "yaxis": "y"
        },
        {
         "hovertemplate": "Category=Auto & Transport<br>Week=%{x}<br>Weekly Total=%{y}<extra></extra>",
         "legendgroup": "Auto & Transport",
         "line": {
          "color": "#ab63fa",
          "dash": "solid"
         },
         "marker": {
          "symbol": "circle"
         },
         "mode": "lines",
         "name": "Auto & Transport",
         "orientation": "v",
         "showlegend": true,
         "type": "scatter",
         "visible": "legendonly",
         "x": [
          48
         ],
         "xaxis": "x",
         "y": [
          8.03
         ],
         "yaxis": "y"
        },
        {
         "hovertemplate": "Category=Furnishings<br>Week=%{x}<br>Weekly Total=%{y}<extra></extra>",
         "legendgroup": "Furnishings",
         "line": {
          "color": "#FFA15A",
          "dash": "solid"
         },
         "marker": {
          "symbol": "circle"
         },
         "mode": "lines",
         "name": "Furnishings",
         "orientation": "v",
         "showlegend": true,
         "type": "scatter",
         "visible": "legendonly",
         "x": [
          51
         ],
         "xaxis": "x",
         "y": [
          51.67
         ],
         "yaxis": "y"
        }
       ],
       "layout": {
        "legend": {
         "title": {
          "text": "Category"
         },
         "tracegroupgap": 0
        },
        "template": {
         "data": {
          "bar": [
           {
            "error_x": {
             "color": "#2a3f5f"
            },
            "error_y": {
             "color": "#2a3f5f"
            },
            "marker": {
             "line": {
              "color": "#E5ECF6",
              "width": 0.5
             },
             "pattern": {
              "fillmode": "overlay",
              "size": 10,
              "solidity": 0.2
             }
            },
            "type": "bar"
           }
          ],
          "barpolar": [
           {
            "marker": {
             "line": {
              "color": "#E5ECF6",
              "width": 0.5
             },
             "pattern": {
              "fillmode": "overlay",
              "size": 10,
              "solidity": 0.2
             }
            },
            "type": "barpolar"
           }
          ],
          "carpet": [
           {
            "aaxis": {
             "endlinecolor": "#2a3f5f",
             "gridcolor": "white",
             "linecolor": "white",
             "minorgridcolor": "white",
             "startlinecolor": "#2a3f5f"
            },
            "baxis": {
             "endlinecolor": "#2a3f5f",
             "gridcolor": "white",
             "linecolor": "white",
             "minorgridcolor": "white",
             "startlinecolor": "#2a3f5f"
            },
            "type": "carpet"
           }
          ],
          "choropleth": [
           {
            "colorbar": {
             "outlinewidth": 0,
             "ticks": ""
            },
            "type": "choropleth"
           }
          ],
          "contour": [
           {
            "colorbar": {
             "outlinewidth": 0,
             "ticks": ""
            },
            "colorscale": [
             [
              0,
              "#0d0887"
             ],
             [
              0.1111111111111111,
              "#46039f"
             ],
             [
              0.2222222222222222,
              "#7201a8"
             ],
             [
              0.3333333333333333,
              "#9c179e"
             ],
             [
              0.4444444444444444,
              "#bd3786"
             ],
             [
              0.5555555555555556,
              "#d8576b"
             ],
             [
              0.6666666666666666,
              "#ed7953"
             ],
             [
              0.7777777777777778,
              "#fb9f3a"
             ],
             [
              0.8888888888888888,
              "#fdca26"
             ],
             [
              1,
              "#f0f921"
             ]
            ],
            "type": "contour"
           }
          ],
          "contourcarpet": [
           {
            "colorbar": {
             "outlinewidth": 0,
             "ticks": ""
            },
            "type": "contourcarpet"
           }
          ],
          "heatmap": [
           {
            "colorbar": {
             "outlinewidth": 0,
             "ticks": ""
            },
            "colorscale": [
             [
              0,
              "#0d0887"
             ],
             [
              0.1111111111111111,
              "#46039f"
             ],
             [
              0.2222222222222222,
              "#7201a8"
             ],
             [
              0.3333333333333333,
              "#9c179e"
             ],
             [
              0.4444444444444444,
              "#bd3786"
             ],
             [
              0.5555555555555556,
              "#d8576b"
             ],
             [
              0.6666666666666666,
              "#ed7953"
             ],
             [
              0.7777777777777778,
              "#fb9f3a"
             ],
             [
              0.8888888888888888,
              "#fdca26"
             ],
             [
              1,
              "#f0f921"
             ]
            ],
            "type": "heatmap"
           }
          ],
          "heatmapgl": [
           {
            "colorbar": {
             "outlinewidth": 0,
             "ticks": ""
            },
            "colorscale": [
             [
              0,
              "#0d0887"
             ],
             [
              0.1111111111111111,
              "#46039f"
             ],
             [
              0.2222222222222222,
              "#7201a8"
             ],
             [
              0.3333333333333333,
              "#9c179e"
             ],
             [
              0.4444444444444444,
              "#bd3786"
             ],
             [
              0.5555555555555556,
              "#d8576b"
             ],
             [
              0.6666666666666666,
              "#ed7953"
             ],
             [
              0.7777777777777778,
              "#fb9f3a"
             ],
             [
              0.8888888888888888,
              "#fdca26"
             ],
             [
              1,
              "#f0f921"
             ]
            ],
            "type": "heatmapgl"
           }
          ],
          "histogram": [
           {
            "marker": {
             "pattern": {
              "fillmode": "overlay",
              "size": 10,
              "solidity": 0.2
             }
            },
            "type": "histogram"
           }
          ],
          "histogram2d": [
           {
            "colorbar": {
             "outlinewidth": 0,
             "ticks": ""
            },
            "colorscale": [
             [
              0,
              "#0d0887"
             ],
             [
              0.1111111111111111,
              "#46039f"
             ],
             [
              0.2222222222222222,
              "#7201a8"
             ],
             [
              0.3333333333333333,
              "#9c179e"
             ],
             [
              0.4444444444444444,
              "#bd3786"
             ],
             [
              0.5555555555555556,
              "#d8576b"
             ],
             [
              0.6666666666666666,
              "#ed7953"
             ],
             [
              0.7777777777777778,
              "#fb9f3a"
             ],
             [
              0.8888888888888888,
              "#fdca26"
             ],
             [
              1,
              "#f0f921"
             ]
            ],
            "type": "histogram2d"
           }
          ],
          "histogram2dcontour": [
           {
            "colorbar": {
             "outlinewidth": 0,
             "ticks": ""
            },
            "colorscale": [
             [
              0,
              "#0d0887"
             ],
             [
              0.1111111111111111,
              "#46039f"
             ],
             [
              0.2222222222222222,
              "#7201a8"
             ],
             [
              0.3333333333333333,
              "#9c179e"
             ],
             [
              0.4444444444444444,
              "#bd3786"
             ],
             [
              0.5555555555555556,
              "#d8576b"
             ],
             [
              0.6666666666666666,
              "#ed7953"
             ],
             [
              0.7777777777777778,
              "#fb9f3a"
             ],
             [
              0.8888888888888888,
              "#fdca26"
             ],
             [
              1,
              "#f0f921"
             ]
            ],
            "type": "histogram2dcontour"
           }
          ],
          "mesh3d": [
           {
            "colorbar": {
             "outlinewidth": 0,
             "ticks": ""
            },
            "type": "mesh3d"
           }
          ],
          "parcoords": [
           {
            "line": {
             "colorbar": {
              "outlinewidth": 0,
              "ticks": ""
             }
            },
            "type": "parcoords"
           }
          ],
          "pie": [
           {
            "automargin": true,
            "type": "pie"
           }
          ],
          "scatter": [
           {
            "fillpattern": {
             "fillmode": "overlay",
             "size": 10,
             "solidity": 0.2
            },
            "type": "scatter"
           }
          ],
          "scatter3d": [
           {
            "line": {
             "colorbar": {
              "outlinewidth": 0,
              "ticks": ""
             }
            },
            "marker": {
             "colorbar": {
              "outlinewidth": 0,
              "ticks": ""
             }
            },
            "type": "scatter3d"
           }
          ],
          "scattercarpet": [
           {
            "marker": {
             "colorbar": {
              "outlinewidth": 0,
              "ticks": ""
             }
            },
            "type": "scattercarpet"
           }
          ],
          "scattergeo": [
           {
            "marker": {
             "colorbar": {
              "outlinewidth": 0,
              "ticks": ""
             }
            },
            "type": "scattergeo"
           }
          ],
          "scattergl": [
           {
            "marker": {
             "colorbar": {
              "outlinewidth": 0,
              "ticks": ""
             }
            },
            "type": "scattergl"
           }
          ],
          "scattermapbox": [
           {
            "marker": {
             "colorbar": {
              "outlinewidth": 0,
              "ticks": ""
             }
            },
            "type": "scattermapbox"
           }
          ],
          "scatterpolar": [
           {
            "marker": {
             "colorbar": {
              "outlinewidth": 0,
              "ticks": ""
             }
            },
            "type": "scatterpolar"
           }
          ],
          "scatterpolargl": [
           {
            "marker": {
             "colorbar": {
              "outlinewidth": 0,
              "ticks": ""
             }
            },
            "type": "scatterpolargl"
           }
          ],
          "scatterternary": [
           {
            "marker": {
             "colorbar": {
              "outlinewidth": 0,
              "ticks": ""
             }
            },
            "type": "scatterternary"
           }
          ],
          "surface": [
           {
            "colorbar": {
             "outlinewidth": 0,
             "ticks": ""
            },
            "colorscale": [
             [
              0,
              "#0d0887"
             ],
             [
              0.1111111111111111,
              "#46039f"
             ],
             [
              0.2222222222222222,
              "#7201a8"
             ],
             [
              0.3333333333333333,
              "#9c179e"
             ],
             [
              0.4444444444444444,
              "#bd3786"
             ],
             [
              0.5555555555555556,
              "#d8576b"
             ],
             [
              0.6666666666666666,
              "#ed7953"
             ],
             [
              0.7777777777777778,
              "#fb9f3a"
             ],
             [
              0.8888888888888888,
              "#fdca26"
             ],
             [
              1,
              "#f0f921"
             ]
            ],
            "type": "surface"
           }
          ],
          "table": [
           {
            "cells": {
             "fill": {
              "color": "#EBF0F8"
             },
             "line": {
              "color": "white"
             }
            },
            "header": {
             "fill": {
              "color": "#C8D4E3"
             },
             "line": {
              "color": "white"
             }
            },
            "type": "table"
           }
          ]
         },
         "layout": {
          "annotationdefaults": {
           "arrowcolor": "#2a3f5f",
           "arrowhead": 0,
           "arrowwidth": 1
          },
          "autotypenumbers": "strict",
          "coloraxis": {
           "colorbar": {
            "outlinewidth": 0,
            "ticks": ""
           }
          },
          "colorscale": {
           "diverging": [
            [
             0,
             "#8e0152"
            ],
            [
             0.1,
             "#c51b7d"
            ],
            [
             0.2,
             "#de77ae"
            ],
            [
             0.3,
             "#f1b6da"
            ],
            [
             0.4,
             "#fde0ef"
            ],
            [
             0.5,
             "#f7f7f7"
            ],
            [
             0.6,
             "#e6f5d0"
            ],
            [
             0.7,
             "#b8e186"
            ],
            [
             0.8,
             "#7fbc41"
            ],
            [
             0.9,
             "#4d9221"
            ],
            [
             1,
             "#276419"
            ]
           ],
           "sequential": [
            [
             0,
             "#0d0887"
            ],
            [
             0.1111111111111111,
             "#46039f"
            ],
            [
             0.2222222222222222,
             "#7201a8"
            ],
            [
             0.3333333333333333,
             "#9c179e"
            ],
            [
             0.4444444444444444,
             "#bd3786"
            ],
            [
             0.5555555555555556,
             "#d8576b"
            ],
            [
             0.6666666666666666,
             "#ed7953"
            ],
            [
             0.7777777777777778,
             "#fb9f3a"
            ],
            [
             0.8888888888888888,
             "#fdca26"
            ],
            [
             1,
             "#f0f921"
            ]
           ],
           "sequentialminus": [
            [
             0,
             "#0d0887"
            ],
            [
             0.1111111111111111,
             "#46039f"
            ],
            [
             0.2222222222222222,
             "#7201a8"
            ],
            [
             0.3333333333333333,
             "#9c179e"
            ],
            [
             0.4444444444444444,
             "#bd3786"
            ],
            [
             0.5555555555555556,
             "#d8576b"
            ],
            [
             0.6666666666666666,
             "#ed7953"
            ],
            [
             0.7777777777777778,
             "#fb9f3a"
            ],
            [
             0.8888888888888888,
             "#fdca26"
            ],
            [
             1,
             "#f0f921"
            ]
           ]
          },
          "colorway": [
           "#636efa",
           "#EF553B",
           "#00cc96",
           "#ab63fa",
           "#FFA15A",
           "#19d3f3",
           "#FF6692",
           "#B6E880",
           "#FF97FF",
           "#FECB52"
          ],
          "font": {
           "color": "#2a3f5f"
          },
          "geo": {
           "bgcolor": "white",
           "lakecolor": "white",
           "landcolor": "#E5ECF6",
           "showlakes": true,
           "showland": true,
           "subunitcolor": "white"
          },
          "hoverlabel": {
           "align": "left"
          },
          "hovermode": "closest",
          "mapbox": {
           "style": "light"
          },
          "paper_bgcolor": "white",
          "plot_bgcolor": "#E5ECF6",
          "polar": {
           "angularaxis": {
            "gridcolor": "white",
            "linecolor": "white",
            "ticks": ""
           },
           "bgcolor": "#E5ECF6",
           "radialaxis": {
            "gridcolor": "white",
            "linecolor": "white",
            "ticks": ""
           }
          },
          "scene": {
           "xaxis": {
            "backgroundcolor": "#E5ECF6",
            "gridcolor": "white",
            "gridwidth": 2,
            "linecolor": "white",
            "showbackground": true,
            "ticks": "",
            "zerolinecolor": "white"
           },
           "yaxis": {
            "backgroundcolor": "#E5ECF6",
            "gridcolor": "white",
            "gridwidth": 2,
            "linecolor": "white",
            "showbackground": true,
            "ticks": "",
            "zerolinecolor": "white"
           },
           "zaxis": {
            "backgroundcolor": "#E5ECF6",
            "gridcolor": "white",
            "gridwidth": 2,
            "linecolor": "white",
            "showbackground": true,
            "ticks": "",
            "zerolinecolor": "white"
           }
          },
          "shapedefaults": {
           "line": {
            "color": "#2a3f5f"
           }
          },
          "ternary": {
           "aaxis": {
            "gridcolor": "white",
            "linecolor": "white",
            "ticks": ""
           },
           "baxis": {
            "gridcolor": "white",
            "linecolor": "white",
            "ticks": ""
           },
           "bgcolor": "#E5ECF6",
           "caxis": {
            "gridcolor": "white",
            "linecolor": "white",
            "ticks": ""
           }
          },
          "title": {
           "x": 0.05
          },
          "xaxis": {
           "automargin": true,
           "gridcolor": "white",
           "linecolor": "white",
           "ticks": "",
           "title": {
            "standoff": 15
           },
           "zerolinecolor": "white",
           "zerolinewidth": 2
          },
          "yaxis": {
           "automargin": true,
           "gridcolor": "white",
           "linecolor": "white",
           "ticks": "",
           "title": {
            "standoff": 15
           },
           "zerolinecolor": "white",
           "zerolinewidth": 2
          }
         }
        },
        "title": {
         "text": "Interactive Plot for Each Category"
        },
        "xaxis": {
         "anchor": "y",
         "domain": [
          0,
          1
         ],
         "range": [
          0,
          52
         ],
         "title": {
          "text": "Week"
         }
        },
        "yaxis": {
         "anchor": "x",
         "domain": [
          0,
          1
         ],
         "title": {
          "text": "Weekly Total"
         }
        }
       }
      }
     },
     "metadata": {},
     "output_type": "display_data"
    }
   ],
   "source": [
    "Strat_wk = Specific_Spend_df[['Amount', 'Week', 'Expenditure', 'Category']][Specific_Spend_df['Expenditure'] == True][Specific_Spend_df['Subscription'] == False].groupby(['Week','Category']).sum().reset_index()\n",
    "\n",
    "Strat_wk['AmountTotal'] = Strat_wk['Amount'] * -1\n",
    "\n",
    "category_counts = Strat_wk['Category'].value_counts()\n",
    "sorted_categories = category_counts.index.tolist()\n",
    "\n",
    "# Create an interactive line plot using plotly express\n",
    "fig = px.line(Strat_wk, x='Week', y='AmountTotal', color='Category',\n",
    "              labels={'AmountTotal': 'Weekly Total'},\n",
    "              title='Interactive Plot for Each Category',\n",
    "              category_orders={'Category': sorted_categories})\n",
    "\n",
    "# Set the default visibility of traces\n",
    "for i in range(1, len(fig.data)):\n",
    "    fig.data[i].update(visible='legendonly')\n",
    "\n",
    "fig.update_xaxes(range=[0, 52])\n",
    "\n",
    "fig.show()"
   ]
  },
  {
   "cell_type": "markdown",
   "metadata": {},
   "source": [
    "Here it is over 4 week periods:"
   ]
  },
  {
   "cell_type": "code",
   "execution_count": 46,
   "metadata": {},
   "outputs": [
    {
     "data": {
      "application/vnd.plotly.v1+json": {
       "config": {
        "plotlyServerURL": "https://plot.ly"
       },
       "data": [
        {
         "hovertemplate": "Category=Restaurants<br>4 Week Period Midpoint=%{x}<br>4-Week Total=%{y}<extra></extra>",
         "legendgroup": "Restaurants",
         "line": {
          "color": "#636efa",
          "dash": "solid"
         },
         "marker": {
          "symbol": "circle"
         },
         "mode": "lines",
         "name": "Restaurants",
         "orientation": "v",
         "showlegend": true,
         "type": "scatter",
         "x": [
          2,
          6,
          10,
          14,
          18,
          22,
          26,
          30,
          34,
          38,
          42,
          46,
          50
         ],
         "xaxis": "x",
         "y": [
          27.4,
          56.61,
          75.14,
          53.4,
          42.94,
          19.29,
          46.63,
          108.79,
          97.31,
          121.75,
          15.3,
          136.36,
          68.02
         ],
         "yaxis": "y"
        },
        {
         "hovertemplate": "Category=Fast Food<br>4 Week Period Midpoint=%{x}<br>4-Week Total=%{y}<extra></extra>",
         "legendgroup": "Fast Food",
         "line": {
          "color": "#EF553B",
          "dash": "solid"
         },
         "marker": {
          "symbol": "circle"
         },
         "mode": "lines",
         "name": "Fast Food",
         "orientation": "v",
         "showlegend": true,
         "type": "scatter",
         "visible": "legendonly",
         "x": [
          2,
          6,
          10,
          14,
          18,
          22,
          26,
          30,
          34,
          38,
          42,
          50
         ],
         "xaxis": "x",
         "y": [
          60.47,
          39.379999999999995,
          33.230000000000004,
          24.02,
          55.6,
          20.86,
          17.76,
          30.14,
          6.84,
          7.9,
          39.84,
          6.81
         ],
         "yaxis": "y"
        },
        {
         "hovertemplate": "Category=Shopping<br>4 Week Period Midpoint=%{x}<br>4-Week Total=%{y}<extra></extra>",
         "legendgroup": "Shopping",
         "line": {
          "color": "#00cc96",
          "dash": "solid"
         },
         "marker": {
          "symbol": "circle"
         },
         "mode": "lines",
         "name": "Shopping",
         "orientation": "v",
         "showlegend": true,
         "type": "scatter",
         "visible": "legendonly",
         "x": [
          2,
          10,
          14,
          22,
          26,
          30,
          34,
          38,
          42,
          46,
          50
         ],
         "xaxis": "x",
         "y": [
          30.5,
          23.14,
          34.12,
          18,
          65.25,
          41.5,
          60.92,
          8.26,
          77.89,
          176.69,
          173.28
         ],
         "yaxis": "y"
        },
        {
         "hovertemplate": "Category=Transfer<br>4 Week Period Midpoint=%{x}<br>4-Week Total=%{y}<extra></extra>",
         "legendgroup": "Transfer",
         "line": {
          "color": "#ab63fa",
          "dash": "solid"
         },
         "marker": {
          "symbol": "circle"
         },
         "mode": "lines",
         "name": "Transfer",
         "orientation": "v",
         "showlegend": true,
         "type": "scatter",
         "visible": "legendonly",
         "x": [
          2,
          6,
          10,
          14,
          18,
          22,
          26,
          38,
          42,
          46,
          50
         ],
         "xaxis": "x",
         "y": [
          17,
          79.95,
          50,
          112.15,
          23.89,
          34.25,
          46,
          175,
          60,
          44.1,
          35.97
         ],
         "yaxis": "y"
        },
        {
         "hovertemplate": "Category=Rental Car & Taxi<br>4 Week Period Midpoint=%{x}<br>4-Week Total=%{y}<extra></extra>",
         "legendgroup": "Rental Car & Taxi",
         "line": {
          "color": "#FFA15A",
          "dash": "solid"
         },
         "marker": {
          "symbol": "circle"
         },
         "mode": "lines",
         "name": "Rental Car & Taxi",
         "orientation": "v",
         "showlegend": true,
         "type": "scatter",
         "visible": "legendonly",
         "x": [
          2,
          6,
          10,
          14,
          18,
          34,
          38,
          42,
          46,
          50
         ],
         "xaxis": "x",
         "y": [
          40.74,
          230.56,
          177.61,
          39.74,
          35.3,
          13.85,
          109.92,
          131.01,
          57.5,
          9.91
         ],
         "yaxis": "y"
        },
        {
         "hovertemplate": "Category=Groceries<br>4 Week Period Midpoint=%{x}<br>4-Week Total=%{y}<extra></extra>",
         "legendgroup": "Groceries",
         "line": {
          "color": "#19d3f3",
          "dash": "solid"
         },
         "marker": {
          "symbol": "circle"
         },
         "mode": "lines",
         "name": "Groceries",
         "orientation": "v",
         "showlegend": true,
         "type": "scatter",
         "visible": "legendonly",
         "x": [
          2,
          10,
          14,
          18,
          26,
          30,
          34,
          38,
          42,
          50
         ],
         "xaxis": "x",
         "y": [
          6.67,
          17.73,
          56.68,
          9.9,
          5.75,
          22.8,
          27.6,
          32.16,
          16.49,
          20.97
         ],
         "yaxis": "y"
        },
        {
         "hovertemplate": "Category=Entertainment<br>4 Week Period Midpoint=%{x}<br>4-Week Total=%{y}<extra></extra>",
         "legendgroup": "Entertainment",
         "line": {
          "color": "#FF6692",
          "dash": "solid"
         },
         "marker": {
          "symbol": "circle"
         },
         "mode": "lines",
         "name": "Entertainment",
         "orientation": "v",
         "showlegend": true,
         "type": "scatter",
         "visible": "legendonly",
         "x": [
          6,
          10,
          18,
          26,
          34,
          42,
          46,
          50
         ],
         "xaxis": "x",
         "y": [
          14,
          15,
          18.8,
          10,
          32.9,
          3.31,
          6.61,
          31.86
         ],
         "yaxis": "y"
        },
        {
         "hovertemplate": "Category=Food & Dining<br>4 Week Period Midpoint=%{x}<br>4-Week Total=%{y}<extra></extra>",
         "legendgroup": "Food & Dining",
         "line": {
          "color": "#B6E880",
          "dash": "solid"
         },
         "marker": {
          "symbol": "circle"
         },
         "mode": "lines",
         "name": "Food & Dining",
         "orientation": "v",
         "showlegend": true,
         "type": "scatter",
         "visible": "legendonly",
         "x": [
          18,
          22,
          26,
          30,
          34,
          38,
          46
         ],
         "xaxis": "x",
         "y": [
          8.2,
          19.04,
          44.72,
          44.59,
          23.06,
          6.99,
          15.440000000000001
         ],
         "yaxis": "y"
        },
        {
         "hovertemplate": "Category=Cash<br>4 Week Period Midpoint=%{x}<br>4-Week Total=%{y}<extra></extra>",
         "legendgroup": "Cash",
         "line": {
          "color": "#FF97FF",
          "dash": "solid"
         },
         "marker": {
          "symbol": "circle"
         },
         "mode": "lines",
         "name": "Cash",
         "orientation": "v",
         "showlegend": true,
         "type": "scatter",
         "visible": "legendonly",
         "x": [
          2,
          14,
          18,
          30,
          34,
          46
         ],
         "xaxis": "x",
         "y": [
          63.75,
          73.75,
          43,
          60.75,
          33.75,
          46.62
         ],
         "yaxis": "y"
        },
        {
         "hovertemplate": "Category=Coffee Shops<br>4 Week Period Midpoint=%{x}<br>4-Week Total=%{y}<extra></extra>",
         "legendgroup": "Coffee Shops",
         "line": {
          "color": "#FECB52",
          "dash": "solid"
         },
         "marker": {
          "symbol": "circle"
         },
         "mode": "lines",
         "name": "Coffee Shops",
         "orientation": "v",
         "showlegend": true,
         "type": "scatter",
         "visible": "legendonly",
         "x": [
          2,
          14,
          22,
          34,
          46,
          50
         ],
         "xaxis": "x",
         "y": [
          14.43,
          4.25,
          7.18,
          10.95,
          16.1,
          9.54
         ],
         "yaxis": "y"
        },
        {
         "hovertemplate": "Category=Gas<br>4 Week Period Midpoint=%{x}<br>4-Week Total=%{y}<extra></extra>",
         "legendgroup": "Gas",
         "line": {
          "color": "#636efa",
          "dash": "solid"
         },
         "marker": {
          "symbol": "circle"
         },
         "mode": "lines",
         "name": "Gas",
         "orientation": "v",
         "showlegend": true,
         "type": "scatter",
         "visible": "legendonly",
         "x": [
          2,
          10,
          14,
          18,
          22,
          38
         ],
         "xaxis": "x",
         "y": [
          10.81,
          6.38,
          47,
          8.75,
          32.33,
          42.25
         ],
         "yaxis": "y"
        },
        {
         "hovertemplate": "Category=Pharmacy<br>4 Week Period Midpoint=%{x}<br>4-Week Total=%{y}<extra></extra>",
         "legendgroup": "Pharmacy",
         "line": {
          "color": "#EF553B",
          "dash": "solid"
         },
         "marker": {
          "symbol": "circle"
         },
         "mode": "lines",
         "name": "Pharmacy",
         "orientation": "v",
         "showlegend": true,
         "type": "scatter",
         "visible": "legendonly",
         "x": [
          2,
          6,
          14,
          18,
          34
         ],
         "xaxis": "x",
         "y": [
          46.05,
          56.72,
          56.7,
          8.82,
          49.59
         ],
         "yaxis": "y"
        },
        {
         "hovertemplate": "Category=Public Transportation<br>4 Week Period Midpoint=%{x}<br>4-Week Total=%{y}<extra></extra>",
         "legendgroup": "Public Transportation",
         "line": {
          "color": "#00cc96",
          "dash": "solid"
         },
         "marker": {
          "symbol": "circle"
         },
         "mode": "lines",
         "name": "Public Transportation",
         "orientation": "v",
         "showlegend": true,
         "type": "scatter",
         "visible": "legendonly",
         "x": [
          22,
          26,
          30
         ],
         "xaxis": "x",
         "y": [
          15,
          6.75,
          40.5
         ],
         "yaxis": "y"
        },
        {
         "hovertemplate": "Category=Laundry<br>4 Week Period Midpoint=%{x}<br>4-Week Total=%{y}<extra></extra>",
         "legendgroup": "Laundry",
         "line": {
          "color": "#ab63fa",
          "dash": "solid"
         },
         "marker": {
          "symbol": "circle"
         },
         "mode": "lines",
         "name": "Laundry",
         "orientation": "v",
         "showlegend": true,
         "type": "scatter",
         "visible": "legendonly",
         "x": [
          2,
          6
         ],
         "xaxis": "x",
         "y": [
          4,
          8
         ],
         "yaxis": "y"
        },
        {
         "hovertemplate": "Category=Clothing<br>4 Week Period Midpoint=%{x}<br>4-Week Total=%{y}<extra></extra>",
         "legendgroup": "Clothing",
         "line": {
          "color": "#FFA15A",
          "dash": "solid"
         },
         "marker": {
          "symbol": "circle"
         },
         "mode": "lines",
         "name": "Clothing",
         "orientation": "v",
         "showlegend": true,
         "type": "scatter",
         "visible": "legendonly",
         "x": [
          46,
          50
         ],
         "xaxis": "x",
         "y": [
          43.21,
          133.08
         ],
         "yaxis": "y"
        },
        {
         "hovertemplate": "Category=Electronics & Software<br>4 Week Period Midpoint=%{x}<br>4-Week Total=%{y}<extra></extra>",
         "legendgroup": "Electronics & Software",
         "line": {
          "color": "#19d3f3",
          "dash": "solid"
         },
         "marker": {
          "symbol": "circle"
         },
         "mode": "lines",
         "name": "Electronics & Software",
         "orientation": "v",
         "showlegend": true,
         "type": "scatter",
         "visible": "legendonly",
         "x": [
          10
         ],
         "xaxis": "x",
         "y": [
          23.88
         ],
         "yaxis": "y"
        },
        {
         "hovertemplate": "Category=Education<br>4 Week Period Midpoint=%{x}<br>4-Week Total=%{y}<extra></extra>",
         "legendgroup": "Education",
         "line": {
          "color": "#FF6692",
          "dash": "solid"
         },
         "marker": {
          "symbol": "circle"
         },
         "mode": "lines",
         "name": "Education",
         "orientation": "v",
         "showlegend": true,
         "type": "scatter",
         "visible": "legendonly",
         "x": [
          6
         ],
         "xaxis": "x",
         "y": [
          47
         ],
         "yaxis": "y"
        },
        {
         "hovertemplate": "Category=Alcohol & Bars<br>4 Week Period Midpoint=%{x}<br>4-Week Total=%{y}<extra></extra>",
         "legendgroup": "Alcohol & Bars",
         "line": {
          "color": "#B6E880",
          "dash": "solid"
         },
         "marker": {
          "symbol": "circle"
         },
         "mode": "lines",
         "name": "Alcohol & Bars",
         "orientation": "v",
         "showlegend": true,
         "type": "scatter",
         "visible": "legendonly",
         "x": [
          10
         ],
         "xaxis": "x",
         "y": [
          52.41
         ],
         "yaxis": "y"
        },
        {
         "hovertemplate": "Category=Movies & Dvds<br>4 Week Period Midpoint=%{x}<br>4-Week Total=%{y}<extra></extra>",
         "legendgroup": "Movies & Dvds",
         "line": {
          "color": "#FF97FF",
          "dash": "solid"
         },
         "marker": {
          "symbol": "circle"
         },
         "mode": "lines",
         "name": "Movies & Dvds",
         "orientation": "v",
         "showlegend": true,
         "type": "scatter",
         "visible": "legendonly",
         "x": [
          26
         ],
         "xaxis": "x",
         "y": [
          17
         ],
         "yaxis": "y"
        },
        {
         "hovertemplate": "Category=Travel<br>4 Week Period Midpoint=%{x}<br>4-Week Total=%{y}<extra></extra>",
         "legendgroup": "Travel",
         "line": {
          "color": "#FECB52",
          "dash": "solid"
         },
         "marker": {
          "symbol": "circle"
         },
         "mode": "lines",
         "name": "Travel",
         "orientation": "v",
         "showlegend": true,
         "type": "scatter",
         "visible": "legendonly",
         "x": [
          26
         ],
         "xaxis": "x",
         "y": [
          18
         ],
         "yaxis": "y"
        },
        {
         "hovertemplate": "Category=Newspapers & Magazines<br>4 Week Period Midpoint=%{x}<br>4-Week Total=%{y}<extra></extra>",
         "legendgroup": "Newspapers & Magazines",
         "line": {
          "color": "#636efa",
          "dash": "solid"
         },
         "marker": {
          "symbol": "circle"
         },
         "mode": "lines",
         "name": "Newspapers & Magazines",
         "orientation": "v",
         "showlegend": true,
         "type": "scatter",
         "visible": "legendonly",
         "x": [
          26
         ],
         "xaxis": "x",
         "y": [
          9.94
         ],
         "yaxis": "y"
        },
        {
         "hovertemplate": "Category=Doctor<br>4 Week Period Midpoint=%{x}<br>4-Week Total=%{y}<extra></extra>",
         "legendgroup": "Doctor",
         "line": {
          "color": "#EF553B",
          "dash": "solid"
         },
         "marker": {
          "symbol": "circle"
         },
         "mode": "lines",
         "name": "Doctor",
         "orientation": "v",
         "showlegend": true,
         "type": "scatter",
         "visible": "legendonly",
         "x": [
          34
         ],
         "xaxis": "x",
         "y": [
          70
         ],
         "yaxis": "y"
        },
        {
         "hovertemplate": "Category=Music<br>4 Week Period Midpoint=%{x}<br>4-Week Total=%{y}<extra></extra>",
         "legendgroup": "Music",
         "line": {
          "color": "#00cc96",
          "dash": "solid"
         },
         "marker": {
          "symbol": "circle"
         },
         "mode": "lines",
         "name": "Music",
         "orientation": "v",
         "showlegend": true,
         "type": "scatter",
         "visible": "legendonly",
         "x": [
          34
         ],
         "xaxis": "x",
         "y": [
          33.05
         ],
         "yaxis": "y"
        },
        {
         "hovertemplate": "Category=Auto & Transport<br>4 Week Period Midpoint=%{x}<br>4-Week Total=%{y}<extra></extra>",
         "legendgroup": "Auto & Transport",
         "line": {
          "color": "#ab63fa",
          "dash": "solid"
         },
         "marker": {
          "symbol": "circle"
         },
         "mode": "lines",
         "name": "Auto & Transport",
         "orientation": "v",
         "showlegend": true,
         "type": "scatter",
         "visible": "legendonly",
         "x": [
          50
         ],
         "xaxis": "x",
         "y": [
          8.03
         ],
         "yaxis": "y"
        },
        {
         "hovertemplate": "Category=Furnishings<br>4 Week Period Midpoint=%{x}<br>4-Week Total=%{y}<extra></extra>",
         "legendgroup": "Furnishings",
         "line": {
          "color": "#FFA15A",
          "dash": "solid"
         },
         "marker": {
          "symbol": "circle"
         },
         "mode": "lines",
         "name": "Furnishings",
         "orientation": "v",
         "showlegend": true,
         "type": "scatter",
         "visible": "legendonly",
         "x": [
          50
         ],
         "xaxis": "x",
         "y": [
          51.67
         ],
         "yaxis": "y"
        }
       ],
       "layout": {
        "legend": {
         "title": {
          "text": "Category"
         },
         "tracegroupgap": 0
        },
        "template": {
         "data": {
          "bar": [
           {
            "error_x": {
             "color": "#2a3f5f"
            },
            "error_y": {
             "color": "#2a3f5f"
            },
            "marker": {
             "line": {
              "color": "#E5ECF6",
              "width": 0.5
             },
             "pattern": {
              "fillmode": "overlay",
              "size": 10,
              "solidity": 0.2
             }
            },
            "type": "bar"
           }
          ],
          "barpolar": [
           {
            "marker": {
             "line": {
              "color": "#E5ECF6",
              "width": 0.5
             },
             "pattern": {
              "fillmode": "overlay",
              "size": 10,
              "solidity": 0.2
             }
            },
            "type": "barpolar"
           }
          ],
          "carpet": [
           {
            "aaxis": {
             "endlinecolor": "#2a3f5f",
             "gridcolor": "white",
             "linecolor": "white",
             "minorgridcolor": "white",
             "startlinecolor": "#2a3f5f"
            },
            "baxis": {
             "endlinecolor": "#2a3f5f",
             "gridcolor": "white",
             "linecolor": "white",
             "minorgridcolor": "white",
             "startlinecolor": "#2a3f5f"
            },
            "type": "carpet"
           }
          ],
          "choropleth": [
           {
            "colorbar": {
             "outlinewidth": 0,
             "ticks": ""
            },
            "type": "choropleth"
           }
          ],
          "contour": [
           {
            "colorbar": {
             "outlinewidth": 0,
             "ticks": ""
            },
            "colorscale": [
             [
              0,
              "#0d0887"
             ],
             [
              0.1111111111111111,
              "#46039f"
             ],
             [
              0.2222222222222222,
              "#7201a8"
             ],
             [
              0.3333333333333333,
              "#9c179e"
             ],
             [
              0.4444444444444444,
              "#bd3786"
             ],
             [
              0.5555555555555556,
              "#d8576b"
             ],
             [
              0.6666666666666666,
              "#ed7953"
             ],
             [
              0.7777777777777778,
              "#fb9f3a"
             ],
             [
              0.8888888888888888,
              "#fdca26"
             ],
             [
              1,
              "#f0f921"
             ]
            ],
            "type": "contour"
           }
          ],
          "contourcarpet": [
           {
            "colorbar": {
             "outlinewidth": 0,
             "ticks": ""
            },
            "type": "contourcarpet"
           }
          ],
          "heatmap": [
           {
            "colorbar": {
             "outlinewidth": 0,
             "ticks": ""
            },
            "colorscale": [
             [
              0,
              "#0d0887"
             ],
             [
              0.1111111111111111,
              "#46039f"
             ],
             [
              0.2222222222222222,
              "#7201a8"
             ],
             [
              0.3333333333333333,
              "#9c179e"
             ],
             [
              0.4444444444444444,
              "#bd3786"
             ],
             [
              0.5555555555555556,
              "#d8576b"
             ],
             [
              0.6666666666666666,
              "#ed7953"
             ],
             [
              0.7777777777777778,
              "#fb9f3a"
             ],
             [
              0.8888888888888888,
              "#fdca26"
             ],
             [
              1,
              "#f0f921"
             ]
            ],
            "type": "heatmap"
           }
          ],
          "heatmapgl": [
           {
            "colorbar": {
             "outlinewidth": 0,
             "ticks": ""
            },
            "colorscale": [
             [
              0,
              "#0d0887"
             ],
             [
              0.1111111111111111,
              "#46039f"
             ],
             [
              0.2222222222222222,
              "#7201a8"
             ],
             [
              0.3333333333333333,
              "#9c179e"
             ],
             [
              0.4444444444444444,
              "#bd3786"
             ],
             [
              0.5555555555555556,
              "#d8576b"
             ],
             [
              0.6666666666666666,
              "#ed7953"
             ],
             [
              0.7777777777777778,
              "#fb9f3a"
             ],
             [
              0.8888888888888888,
              "#fdca26"
             ],
             [
              1,
              "#f0f921"
             ]
            ],
            "type": "heatmapgl"
           }
          ],
          "histogram": [
           {
            "marker": {
             "pattern": {
              "fillmode": "overlay",
              "size": 10,
              "solidity": 0.2
             }
            },
            "type": "histogram"
           }
          ],
          "histogram2d": [
           {
            "colorbar": {
             "outlinewidth": 0,
             "ticks": ""
            },
            "colorscale": [
             [
              0,
              "#0d0887"
             ],
             [
              0.1111111111111111,
              "#46039f"
             ],
             [
              0.2222222222222222,
              "#7201a8"
             ],
             [
              0.3333333333333333,
              "#9c179e"
             ],
             [
              0.4444444444444444,
              "#bd3786"
             ],
             [
              0.5555555555555556,
              "#d8576b"
             ],
             [
              0.6666666666666666,
              "#ed7953"
             ],
             [
              0.7777777777777778,
              "#fb9f3a"
             ],
             [
              0.8888888888888888,
              "#fdca26"
             ],
             [
              1,
              "#f0f921"
             ]
            ],
            "type": "histogram2d"
           }
          ],
          "histogram2dcontour": [
           {
            "colorbar": {
             "outlinewidth": 0,
             "ticks": ""
            },
            "colorscale": [
             [
              0,
              "#0d0887"
             ],
             [
              0.1111111111111111,
              "#46039f"
             ],
             [
              0.2222222222222222,
              "#7201a8"
             ],
             [
              0.3333333333333333,
              "#9c179e"
             ],
             [
              0.4444444444444444,
              "#bd3786"
             ],
             [
              0.5555555555555556,
              "#d8576b"
             ],
             [
              0.6666666666666666,
              "#ed7953"
             ],
             [
              0.7777777777777778,
              "#fb9f3a"
             ],
             [
              0.8888888888888888,
              "#fdca26"
             ],
             [
              1,
              "#f0f921"
             ]
            ],
            "type": "histogram2dcontour"
           }
          ],
          "mesh3d": [
           {
            "colorbar": {
             "outlinewidth": 0,
             "ticks": ""
            },
            "type": "mesh3d"
           }
          ],
          "parcoords": [
           {
            "line": {
             "colorbar": {
              "outlinewidth": 0,
              "ticks": ""
             }
            },
            "type": "parcoords"
           }
          ],
          "pie": [
           {
            "automargin": true,
            "type": "pie"
           }
          ],
          "scatter": [
           {
            "fillpattern": {
             "fillmode": "overlay",
             "size": 10,
             "solidity": 0.2
            },
            "type": "scatter"
           }
          ],
          "scatter3d": [
           {
            "line": {
             "colorbar": {
              "outlinewidth": 0,
              "ticks": ""
             }
            },
            "marker": {
             "colorbar": {
              "outlinewidth": 0,
              "ticks": ""
             }
            },
            "type": "scatter3d"
           }
          ],
          "scattercarpet": [
           {
            "marker": {
             "colorbar": {
              "outlinewidth": 0,
              "ticks": ""
             }
            },
            "type": "scattercarpet"
           }
          ],
          "scattergeo": [
           {
            "marker": {
             "colorbar": {
              "outlinewidth": 0,
              "ticks": ""
             }
            },
            "type": "scattergeo"
           }
          ],
          "scattergl": [
           {
            "marker": {
             "colorbar": {
              "outlinewidth": 0,
              "ticks": ""
             }
            },
            "type": "scattergl"
           }
          ],
          "scattermapbox": [
           {
            "marker": {
             "colorbar": {
              "outlinewidth": 0,
              "ticks": ""
             }
            },
            "type": "scattermapbox"
           }
          ],
          "scatterpolar": [
           {
            "marker": {
             "colorbar": {
              "outlinewidth": 0,
              "ticks": ""
             }
            },
            "type": "scatterpolar"
           }
          ],
          "scatterpolargl": [
           {
            "marker": {
             "colorbar": {
              "outlinewidth": 0,
              "ticks": ""
             }
            },
            "type": "scatterpolargl"
           }
          ],
          "scatterternary": [
           {
            "marker": {
             "colorbar": {
              "outlinewidth": 0,
              "ticks": ""
             }
            },
            "type": "scatterternary"
           }
          ],
          "surface": [
           {
            "colorbar": {
             "outlinewidth": 0,
             "ticks": ""
            },
            "colorscale": [
             [
              0,
              "#0d0887"
             ],
             [
              0.1111111111111111,
              "#46039f"
             ],
             [
              0.2222222222222222,
              "#7201a8"
             ],
             [
              0.3333333333333333,
              "#9c179e"
             ],
             [
              0.4444444444444444,
              "#bd3786"
             ],
             [
              0.5555555555555556,
              "#d8576b"
             ],
             [
              0.6666666666666666,
              "#ed7953"
             ],
             [
              0.7777777777777778,
              "#fb9f3a"
             ],
             [
              0.8888888888888888,
              "#fdca26"
             ],
             [
              1,
              "#f0f921"
             ]
            ],
            "type": "surface"
           }
          ],
          "table": [
           {
            "cells": {
             "fill": {
              "color": "#EBF0F8"
             },
             "line": {
              "color": "white"
             }
            },
            "header": {
             "fill": {
              "color": "#C8D4E3"
             },
             "line": {
              "color": "white"
             }
            },
            "type": "table"
           }
          ]
         },
         "layout": {
          "annotationdefaults": {
           "arrowcolor": "#2a3f5f",
           "arrowhead": 0,
           "arrowwidth": 1
          },
          "autotypenumbers": "strict",
          "coloraxis": {
           "colorbar": {
            "outlinewidth": 0,
            "ticks": ""
           }
          },
          "colorscale": {
           "diverging": [
            [
             0,
             "#8e0152"
            ],
            [
             0.1,
             "#c51b7d"
            ],
            [
             0.2,
             "#de77ae"
            ],
            [
             0.3,
             "#f1b6da"
            ],
            [
             0.4,
             "#fde0ef"
            ],
            [
             0.5,
             "#f7f7f7"
            ],
            [
             0.6,
             "#e6f5d0"
            ],
            [
             0.7,
             "#b8e186"
            ],
            [
             0.8,
             "#7fbc41"
            ],
            [
             0.9,
             "#4d9221"
            ],
            [
             1,
             "#276419"
            ]
           ],
           "sequential": [
            [
             0,
             "#0d0887"
            ],
            [
             0.1111111111111111,
             "#46039f"
            ],
            [
             0.2222222222222222,
             "#7201a8"
            ],
            [
             0.3333333333333333,
             "#9c179e"
            ],
            [
             0.4444444444444444,
             "#bd3786"
            ],
            [
             0.5555555555555556,
             "#d8576b"
            ],
            [
             0.6666666666666666,
             "#ed7953"
            ],
            [
             0.7777777777777778,
             "#fb9f3a"
            ],
            [
             0.8888888888888888,
             "#fdca26"
            ],
            [
             1,
             "#f0f921"
            ]
           ],
           "sequentialminus": [
            [
             0,
             "#0d0887"
            ],
            [
             0.1111111111111111,
             "#46039f"
            ],
            [
             0.2222222222222222,
             "#7201a8"
            ],
            [
             0.3333333333333333,
             "#9c179e"
            ],
            [
             0.4444444444444444,
             "#bd3786"
            ],
            [
             0.5555555555555556,
             "#d8576b"
            ],
            [
             0.6666666666666666,
             "#ed7953"
            ],
            [
             0.7777777777777778,
             "#fb9f3a"
            ],
            [
             0.8888888888888888,
             "#fdca26"
            ],
            [
             1,
             "#f0f921"
            ]
           ]
          },
          "colorway": [
           "#636efa",
           "#EF553B",
           "#00cc96",
           "#ab63fa",
           "#FFA15A",
           "#19d3f3",
           "#FF6692",
           "#B6E880",
           "#FF97FF",
           "#FECB52"
          ],
          "font": {
           "color": "#2a3f5f"
          },
          "geo": {
           "bgcolor": "white",
           "lakecolor": "white",
           "landcolor": "#E5ECF6",
           "showlakes": true,
           "showland": true,
           "subunitcolor": "white"
          },
          "hoverlabel": {
           "align": "left"
          },
          "hovermode": "closest",
          "mapbox": {
           "style": "light"
          },
          "paper_bgcolor": "white",
          "plot_bgcolor": "#E5ECF6",
          "polar": {
           "angularaxis": {
            "gridcolor": "white",
            "linecolor": "white",
            "ticks": ""
           },
           "bgcolor": "#E5ECF6",
           "radialaxis": {
            "gridcolor": "white",
            "linecolor": "white",
            "ticks": ""
           }
          },
          "scene": {
           "xaxis": {
            "backgroundcolor": "#E5ECF6",
            "gridcolor": "white",
            "gridwidth": 2,
            "linecolor": "white",
            "showbackground": true,
            "ticks": "",
            "zerolinecolor": "white"
           },
           "yaxis": {
            "backgroundcolor": "#E5ECF6",
            "gridcolor": "white",
            "gridwidth": 2,
            "linecolor": "white",
            "showbackground": true,
            "ticks": "",
            "zerolinecolor": "white"
           },
           "zaxis": {
            "backgroundcolor": "#E5ECF6",
            "gridcolor": "white",
            "gridwidth": 2,
            "linecolor": "white",
            "showbackground": true,
            "ticks": "",
            "zerolinecolor": "white"
           }
          },
          "shapedefaults": {
           "line": {
            "color": "#2a3f5f"
           }
          },
          "ternary": {
           "aaxis": {
            "gridcolor": "white",
            "linecolor": "white",
            "ticks": ""
           },
           "baxis": {
            "gridcolor": "white",
            "linecolor": "white",
            "ticks": ""
           },
           "bgcolor": "#E5ECF6",
           "caxis": {
            "gridcolor": "white",
            "linecolor": "white",
            "ticks": ""
           }
          },
          "title": {
           "x": 0.05
          },
          "xaxis": {
           "automargin": true,
           "gridcolor": "white",
           "linecolor": "white",
           "ticks": "",
           "title": {
            "standoff": 15
           },
           "zerolinecolor": "white",
           "zerolinewidth": 2
          },
          "yaxis": {
           "automargin": true,
           "gridcolor": "white",
           "linecolor": "white",
           "ticks": "",
           "title": {
            "standoff": 15
           },
           "zerolinecolor": "white",
           "zerolinewidth": 2
          }
         }
        },
        "title": {
         "text": "Interactive Plot for Each Category"
        },
        "xaxis": {
         "anchor": "y",
         "domain": [
          0,
          1
         ],
         "range": [
          0,
          52
         ],
         "title": {
          "text": "4 Week Period Midpoint"
         }
        },
        "yaxis": {
         "anchor": "x",
         "domain": [
          0,
          1
         ],
         "title": {
          "text": "4-Week Total"
         }
        }
       }
      }
     },
     "metadata": {},
     "output_type": "display_data"
    }
   ],
   "source": [
    "\n",
    "\n",
    "Strat_4_wk = Specific_Spend_df[['Amount', '4 Week Period Midpoint', 'Expenditure', 'Category']][Specific_Spend_df['Expenditure'] == True][Specific_Spend_df['Subscription'] == False].groupby(['4 Week Period Midpoint','Category']).sum().reset_index()\n",
    "Strat_4_wk['AmountTotal'] = Strat_4_wk['Amount'] * -1\n",
    "\n",
    "category_counts = Strat_4_wk['Category'].value_counts()\n",
    "sorted_categories = category_counts.index.tolist()\n",
    "\n",
    "# Create an interactive line plot using plotly express\n",
    "fig = px.line(Strat_4_wk, x='4 Week Period Midpoint', y='AmountTotal', color='Category',\n",
    "              labels={'AmountTotal': '4-Week Total'},\n",
    "              title='Interactive Plot for Each Category',\n",
    "              category_orders={'Category': sorted_categories})\n",
    "\n",
    "# Set the default visibility of traces\n",
    "for i in range(1, len(fig.data)):\n",
    "    fig.data[i].update(visible='legendonly')\n",
    "\n",
    "fig.update_xaxes(range=[0, 52])\n",
    "\n",
    "fig.show()"
   ]
  },
  {
   "cell_type": "markdown",
   "metadata": {},
   "source": [
    "Let's now look at the yearly spending trend, outside of subscriptions:"
   ]
  },
  {
   "cell_type": "code",
   "execution_count": 53,
   "metadata": {},
   "outputs": [
    {
     "data": {
      "application/vnd.plotly.v1+json": {
       "config": {
        "plotlyServerURL": "https://plot.ly"
       },
       "data": [
        {
         "domain": {
          "x": [
           0,
           1
          ],
          "y": [
           0,
           1
          ]
         },
         "hovertemplate": "Category=%{label}<br>Amount=%{value}<extra></extra>",
         "labels": [
          "Other",
          "Other",
          "Cash",
          "Clothing",
          "Other",
          "Other",
          "Other",
          "Other",
          "Entertainment",
          "Fast Food",
          "Food & Dining",
          "Other",
          "Gas",
          "Groceries",
          "Other",
          "Other",
          "Other",
          "Other",
          "Pharmacy",
          "Other",
          "Rental Car & Taxi",
          "Restaurants",
          "Shopping",
          "Transfer",
          "Other"
         ],
         "legendgroup": "",
         "name": "",
         "showlegend": true,
         "type": "pie",
         "values": [
          52.41,
          8.03,
          321.62,
          176.29000000000002,
          62.45,
          70,
          47,
          23.88,
          132.48,
          342.85,
          162.04,
          51.67,
          147.52,
          216.75,
          12,
          17,
          33.05,
          9.94,
          217.88,
          62.25,
          846.14,
          868.9399999999999,
          709.55,
          678.31,
          18
         ]
        }
       ],
       "layout": {
        "legend": {
         "tracegroupgap": 0
        },
        "template": {
         "data": {
          "bar": [
           {
            "error_x": {
             "color": "#2a3f5f"
            },
            "error_y": {
             "color": "#2a3f5f"
            },
            "marker": {
             "line": {
              "color": "#E5ECF6",
              "width": 0.5
             },
             "pattern": {
              "fillmode": "overlay",
              "size": 10,
              "solidity": 0.2
             }
            },
            "type": "bar"
           }
          ],
          "barpolar": [
           {
            "marker": {
             "line": {
              "color": "#E5ECF6",
              "width": 0.5
             },
             "pattern": {
              "fillmode": "overlay",
              "size": 10,
              "solidity": 0.2
             }
            },
            "type": "barpolar"
           }
          ],
          "carpet": [
           {
            "aaxis": {
             "endlinecolor": "#2a3f5f",
             "gridcolor": "white",
             "linecolor": "white",
             "minorgridcolor": "white",
             "startlinecolor": "#2a3f5f"
            },
            "baxis": {
             "endlinecolor": "#2a3f5f",
             "gridcolor": "white",
             "linecolor": "white",
             "minorgridcolor": "white",
             "startlinecolor": "#2a3f5f"
            },
            "type": "carpet"
           }
          ],
          "choropleth": [
           {
            "colorbar": {
             "outlinewidth": 0,
             "ticks": ""
            },
            "type": "choropleth"
           }
          ],
          "contour": [
           {
            "colorbar": {
             "outlinewidth": 0,
             "ticks": ""
            },
            "colorscale": [
             [
              0,
              "#0d0887"
             ],
             [
              0.1111111111111111,
              "#46039f"
             ],
             [
              0.2222222222222222,
              "#7201a8"
             ],
             [
              0.3333333333333333,
              "#9c179e"
             ],
             [
              0.4444444444444444,
              "#bd3786"
             ],
             [
              0.5555555555555556,
              "#d8576b"
             ],
             [
              0.6666666666666666,
              "#ed7953"
             ],
             [
              0.7777777777777778,
              "#fb9f3a"
             ],
             [
              0.8888888888888888,
              "#fdca26"
             ],
             [
              1,
              "#f0f921"
             ]
            ],
            "type": "contour"
           }
          ],
          "contourcarpet": [
           {
            "colorbar": {
             "outlinewidth": 0,
             "ticks": ""
            },
            "type": "contourcarpet"
           }
          ],
          "heatmap": [
           {
            "colorbar": {
             "outlinewidth": 0,
             "ticks": ""
            },
            "colorscale": [
             [
              0,
              "#0d0887"
             ],
             [
              0.1111111111111111,
              "#46039f"
             ],
             [
              0.2222222222222222,
              "#7201a8"
             ],
             [
              0.3333333333333333,
              "#9c179e"
             ],
             [
              0.4444444444444444,
              "#bd3786"
             ],
             [
              0.5555555555555556,
              "#d8576b"
             ],
             [
              0.6666666666666666,
              "#ed7953"
             ],
             [
              0.7777777777777778,
              "#fb9f3a"
             ],
             [
              0.8888888888888888,
              "#fdca26"
             ],
             [
              1,
              "#f0f921"
             ]
            ],
            "type": "heatmap"
           }
          ],
          "heatmapgl": [
           {
            "colorbar": {
             "outlinewidth": 0,
             "ticks": ""
            },
            "colorscale": [
             [
              0,
              "#0d0887"
             ],
             [
              0.1111111111111111,
              "#46039f"
             ],
             [
              0.2222222222222222,
              "#7201a8"
             ],
             [
              0.3333333333333333,
              "#9c179e"
             ],
             [
              0.4444444444444444,
              "#bd3786"
             ],
             [
              0.5555555555555556,
              "#d8576b"
             ],
             [
              0.6666666666666666,
              "#ed7953"
             ],
             [
              0.7777777777777778,
              "#fb9f3a"
             ],
             [
              0.8888888888888888,
              "#fdca26"
             ],
             [
              1,
              "#f0f921"
             ]
            ],
            "type": "heatmapgl"
           }
          ],
          "histogram": [
           {
            "marker": {
             "pattern": {
              "fillmode": "overlay",
              "size": 10,
              "solidity": 0.2
             }
            },
            "type": "histogram"
           }
          ],
          "histogram2d": [
           {
            "colorbar": {
             "outlinewidth": 0,
             "ticks": ""
            },
            "colorscale": [
             [
              0,
              "#0d0887"
             ],
             [
              0.1111111111111111,
              "#46039f"
             ],
             [
              0.2222222222222222,
              "#7201a8"
             ],
             [
              0.3333333333333333,
              "#9c179e"
             ],
             [
              0.4444444444444444,
              "#bd3786"
             ],
             [
              0.5555555555555556,
              "#d8576b"
             ],
             [
              0.6666666666666666,
              "#ed7953"
             ],
             [
              0.7777777777777778,
              "#fb9f3a"
             ],
             [
              0.8888888888888888,
              "#fdca26"
             ],
             [
              1,
              "#f0f921"
             ]
            ],
            "type": "histogram2d"
           }
          ],
          "histogram2dcontour": [
           {
            "colorbar": {
             "outlinewidth": 0,
             "ticks": ""
            },
            "colorscale": [
             [
              0,
              "#0d0887"
             ],
             [
              0.1111111111111111,
              "#46039f"
             ],
             [
              0.2222222222222222,
              "#7201a8"
             ],
             [
              0.3333333333333333,
              "#9c179e"
             ],
             [
              0.4444444444444444,
              "#bd3786"
             ],
             [
              0.5555555555555556,
              "#d8576b"
             ],
             [
              0.6666666666666666,
              "#ed7953"
             ],
             [
              0.7777777777777778,
              "#fb9f3a"
             ],
             [
              0.8888888888888888,
              "#fdca26"
             ],
             [
              1,
              "#f0f921"
             ]
            ],
            "type": "histogram2dcontour"
           }
          ],
          "mesh3d": [
           {
            "colorbar": {
             "outlinewidth": 0,
             "ticks": ""
            },
            "type": "mesh3d"
           }
          ],
          "parcoords": [
           {
            "line": {
             "colorbar": {
              "outlinewidth": 0,
              "ticks": ""
             }
            },
            "type": "parcoords"
           }
          ],
          "pie": [
           {
            "automargin": true,
            "type": "pie"
           }
          ],
          "scatter": [
           {
            "fillpattern": {
             "fillmode": "overlay",
             "size": 10,
             "solidity": 0.2
            },
            "type": "scatter"
           }
          ],
          "scatter3d": [
           {
            "line": {
             "colorbar": {
              "outlinewidth": 0,
              "ticks": ""
             }
            },
            "marker": {
             "colorbar": {
              "outlinewidth": 0,
              "ticks": ""
             }
            },
            "type": "scatter3d"
           }
          ],
          "scattercarpet": [
           {
            "marker": {
             "colorbar": {
              "outlinewidth": 0,
              "ticks": ""
             }
            },
            "type": "scattercarpet"
           }
          ],
          "scattergeo": [
           {
            "marker": {
             "colorbar": {
              "outlinewidth": 0,
              "ticks": ""
             }
            },
            "type": "scattergeo"
           }
          ],
          "scattergl": [
           {
            "marker": {
             "colorbar": {
              "outlinewidth": 0,
              "ticks": ""
             }
            },
            "type": "scattergl"
           }
          ],
          "scattermapbox": [
           {
            "marker": {
             "colorbar": {
              "outlinewidth": 0,
              "ticks": ""
             }
            },
            "type": "scattermapbox"
           }
          ],
          "scatterpolar": [
           {
            "marker": {
             "colorbar": {
              "outlinewidth": 0,
              "ticks": ""
             }
            },
            "type": "scatterpolar"
           }
          ],
          "scatterpolargl": [
           {
            "marker": {
             "colorbar": {
              "outlinewidth": 0,
              "ticks": ""
             }
            },
            "type": "scatterpolargl"
           }
          ],
          "scatterternary": [
           {
            "marker": {
             "colorbar": {
              "outlinewidth": 0,
              "ticks": ""
             }
            },
            "type": "scatterternary"
           }
          ],
          "surface": [
           {
            "colorbar": {
             "outlinewidth": 0,
             "ticks": ""
            },
            "colorscale": [
             [
              0,
              "#0d0887"
             ],
             [
              0.1111111111111111,
              "#46039f"
             ],
             [
              0.2222222222222222,
              "#7201a8"
             ],
             [
              0.3333333333333333,
              "#9c179e"
             ],
             [
              0.4444444444444444,
              "#bd3786"
             ],
             [
              0.5555555555555556,
              "#d8576b"
             ],
             [
              0.6666666666666666,
              "#ed7953"
             ],
             [
              0.7777777777777778,
              "#fb9f3a"
             ],
             [
              0.8888888888888888,
              "#fdca26"
             ],
             [
              1,
              "#f0f921"
             ]
            ],
            "type": "surface"
           }
          ],
          "table": [
           {
            "cells": {
             "fill": {
              "color": "#EBF0F8"
             },
             "line": {
              "color": "white"
             }
            },
            "header": {
             "fill": {
              "color": "#C8D4E3"
             },
             "line": {
              "color": "white"
             }
            },
            "type": "table"
           }
          ]
         },
         "layout": {
          "annotationdefaults": {
           "arrowcolor": "#2a3f5f",
           "arrowhead": 0,
           "arrowwidth": 1
          },
          "autotypenumbers": "strict",
          "coloraxis": {
           "colorbar": {
            "outlinewidth": 0,
            "ticks": ""
           }
          },
          "colorscale": {
           "diverging": [
            [
             0,
             "#8e0152"
            ],
            [
             0.1,
             "#c51b7d"
            ],
            [
             0.2,
             "#de77ae"
            ],
            [
             0.3,
             "#f1b6da"
            ],
            [
             0.4,
             "#fde0ef"
            ],
            [
             0.5,
             "#f7f7f7"
            ],
            [
             0.6,
             "#e6f5d0"
            ],
            [
             0.7,
             "#b8e186"
            ],
            [
             0.8,
             "#7fbc41"
            ],
            [
             0.9,
             "#4d9221"
            ],
            [
             1,
             "#276419"
            ]
           ],
           "sequential": [
            [
             0,
             "#0d0887"
            ],
            [
             0.1111111111111111,
             "#46039f"
            ],
            [
             0.2222222222222222,
             "#7201a8"
            ],
            [
             0.3333333333333333,
             "#9c179e"
            ],
            [
             0.4444444444444444,
             "#bd3786"
            ],
            [
             0.5555555555555556,
             "#d8576b"
            ],
            [
             0.6666666666666666,
             "#ed7953"
            ],
            [
             0.7777777777777778,
             "#fb9f3a"
            ],
            [
             0.8888888888888888,
             "#fdca26"
            ],
            [
             1,
             "#f0f921"
            ]
           ],
           "sequentialminus": [
            [
             0,
             "#0d0887"
            ],
            [
             0.1111111111111111,
             "#46039f"
            ],
            [
             0.2222222222222222,
             "#7201a8"
            ],
            [
             0.3333333333333333,
             "#9c179e"
            ],
            [
             0.4444444444444444,
             "#bd3786"
            ],
            [
             0.5555555555555556,
             "#d8576b"
            ],
            [
             0.6666666666666666,
             "#ed7953"
            ],
            [
             0.7777777777777778,
             "#fb9f3a"
            ],
            [
             0.8888888888888888,
             "#fdca26"
            ],
            [
             1,
             "#f0f921"
            ]
           ]
          },
          "colorway": [
           "#636efa",
           "#EF553B",
           "#00cc96",
           "#ab63fa",
           "#FFA15A",
           "#19d3f3",
           "#FF6692",
           "#B6E880",
           "#FF97FF",
           "#FECB52"
          ],
          "font": {
           "color": "#2a3f5f"
          },
          "geo": {
           "bgcolor": "white",
           "lakecolor": "white",
           "landcolor": "#E5ECF6",
           "showlakes": true,
           "showland": true,
           "subunitcolor": "white"
          },
          "hoverlabel": {
           "align": "left"
          },
          "hovermode": "closest",
          "mapbox": {
           "style": "light"
          },
          "paper_bgcolor": "white",
          "plot_bgcolor": "#E5ECF6",
          "polar": {
           "angularaxis": {
            "gridcolor": "white",
            "linecolor": "white",
            "ticks": ""
           },
           "bgcolor": "#E5ECF6",
           "radialaxis": {
            "gridcolor": "white",
            "linecolor": "white",
            "ticks": ""
           }
          },
          "scene": {
           "xaxis": {
            "backgroundcolor": "#E5ECF6",
            "gridcolor": "white",
            "gridwidth": 2,
            "linecolor": "white",
            "showbackground": true,
            "ticks": "",
            "zerolinecolor": "white"
           },
           "yaxis": {
            "backgroundcolor": "#E5ECF6",
            "gridcolor": "white",
            "gridwidth": 2,
            "linecolor": "white",
            "showbackground": true,
            "ticks": "",
            "zerolinecolor": "white"
           },
           "zaxis": {
            "backgroundcolor": "#E5ECF6",
            "gridcolor": "white",
            "gridwidth": 2,
            "linecolor": "white",
            "showbackground": true,
            "ticks": "",
            "zerolinecolor": "white"
           }
          },
          "shapedefaults": {
           "line": {
            "color": "#2a3f5f"
           }
          },
          "ternary": {
           "aaxis": {
            "gridcolor": "white",
            "linecolor": "white",
            "ticks": ""
           },
           "baxis": {
            "gridcolor": "white",
            "linecolor": "white",
            "ticks": ""
           },
           "bgcolor": "#E5ECF6",
           "caxis": {
            "gridcolor": "white",
            "linecolor": "white",
            "ticks": ""
           }
          },
          "title": {
           "x": 0.05
          },
          "xaxis": {
           "automargin": true,
           "gridcolor": "white",
           "linecolor": "white",
           "ticks": "",
           "title": {
            "standoff": 15
           },
           "zerolinecolor": "white",
           "zerolinewidth": 2
          },
          "yaxis": {
           "automargin": true,
           "gridcolor": "white",
           "linecolor": "white",
           "ticks": "",
           "title": {
            "standoff": 15
           },
           "zerolinecolor": "white",
           "zerolinewidth": 2
          }
         }
        },
        "title": {
         "text": "Yearly Spending Breakdown"
        }
       }
      }
     },
     "metadata": {},
     "output_type": "display_data"
    }
   ],
   "source": [
    "Pie_df = Specific_Spend_df[Specific_Spend_df['Expenditure'] == True][Specific_Spend_df['Subscription'] == False][['Category', 'Amount']].groupby('Category').sum().reset_index()\n",
    "Pie_df.loc[Pie_df['Amount'] >= -100, 'Category'] = 'Other'\n",
    "Pie_df['Amount'] = Pie_df['Amount'] * -1\n",
    "fig = px.pie(Pie_df, values = 'Amount', names = 'Category', title = 'Yearly Spending Breakdown')\n",
    "fig.show()"
   ]
  },
  {
   "cell_type": "code",
   "execution_count": null,
   "metadata": {},
   "outputs": [],
   "source": []
  }
 ],
 "metadata": {
  "kernelspec": {
   "display_name": "Python 3",
   "language": "python",
   "name": "python3"
  },
  "language_info": {
   "codemirror_mode": {
    "name": "ipython",
    "version": 3
   },
   "file_extension": ".py",
   "mimetype": "text/x-python",
   "name": "python",
   "nbconvert_exporter": "python",
   "pygments_lexer": "ipython3",
   "version": "3.11.1"
  }
 },
 "nbformat": 4,
 "nbformat_minor": 2
}
